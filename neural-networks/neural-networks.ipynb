{
 "cells": [
  {
   "cell_type": "markdown",
   "metadata": {},
   "source": [
    "## Classification with Fashion MNIST"
   ]
  },
  {
   "cell_type": "code",
   "execution_count": 1,
   "metadata": {},
   "outputs": [],
   "source": [
    "%matplotlib inline\n",
    "import pandas as pd\n",
    "import numpy as np\n",
    "import matplotlib.pyplot as plt\n",
    "\n",
    "import tensorflow as tf"
   ]
  },
  {
   "cell_type": "code",
   "execution_count": 2,
   "metadata": {},
   "outputs": [],
   "source": [
    "(X_train_full, y_train_full), (X_test, y_test) = tf.keras.datasets.fashion_mnist.load_data()"
   ]
  },
  {
   "cell_type": "code",
   "execution_count": 3,
   "metadata": {},
   "outputs": [],
   "source": [
    "X_valid, X_train = X_train_full[:5000] / 255.0, X_train_full[5000:] / 255.0\n",
    "y_valid, y_train = y_train_full[:5000], y_train_full[5000:]"
   ]
  },
  {
   "cell_type": "code",
   "execution_count": 4,
   "metadata": {},
   "outputs": [
    {
     "data": {
      "text/plain": [
       "'T-shirt/top'"
      ]
     },
     "execution_count": 4,
     "metadata": {},
     "output_type": "execute_result"
    }
   ],
   "source": [
    "class_names = [\"T-shirt/top\", \"Trouser\", \"Pullover\", \"Dress\", \"Coat\", \"Sandal\", \"Shirt\", \"Sneaker\", \"Bag\", \"Ankle boot\"]\n",
    "\n",
    "class_names[y_train[10]]"
   ]
  },
  {
   "cell_type": "code",
   "execution_count": 5,
   "metadata": {},
   "outputs": [],
   "source": [
    "model = tf.keras.models.Sequential()"
   ]
  },
  {
   "cell_type": "code",
   "execution_count": 6,
   "metadata": {},
   "outputs": [],
   "source": [
    "model.add(tf.keras.layers.Flatten(input_shape=[28,28]))"
   ]
  },
  {
   "cell_type": "code",
   "execution_count": 7,
   "metadata": {},
   "outputs": [],
   "source": [
    "model.add(tf.keras.layers.Dense(300, activation = tf.keras.activations.relu))\n",
    "model.add(tf.keras.layers.Dense(100, activation = tf.keras.activations.relu))\n",
    "model.add(tf.keras.layers.Dense(10, activation = tf.keras.activations.softmax))"
   ]
  },
  {
   "cell_type": "code",
   "execution_count": 8,
   "metadata": {},
   "outputs": [
    {
     "name": "stdout",
     "output_type": "stream",
     "text": [
      "Model: \"sequential\"\n",
      "_________________________________________________________________\n",
      "Layer (type)                 Output Shape              Param #   \n",
      "=================================================================\n",
      "flatten (Flatten)            (None, 784)               0         \n",
      "_________________________________________________________________\n",
      "dense (Dense)                (None, 300)               235500    \n",
      "_________________________________________________________________\n",
      "dense_1 (Dense)              (None, 100)               30100     \n",
      "_________________________________________________________________\n",
      "dense_2 (Dense)              (None, 10)                1010      \n",
      "=================================================================\n",
      "Total params: 266,610\n",
      "Trainable params: 266,610\n",
      "Non-trainable params: 0\n",
      "_________________________________________________________________\n"
     ]
    }
   ],
   "source": [
    "model.summary()"
   ]
  },
  {
   "cell_type": "code",
   "execution_count": 10,
   "metadata": {},
   "outputs": [
    {
     "data": {
      "text/plain": [
       "(100, 10)"
      ]
     },
     "execution_count": 10,
     "metadata": {},
     "output_type": "execute_result"
    }
   ],
   "source": [
    "model.get_layer(\"dense_2\").get_weights()[0].shape"
   ]
  },
  {
   "cell_type": "code",
   "execution_count": 11,
   "metadata": {},
   "outputs": [],
   "source": [
    "model.compile(loss=tf.keras.losses.sparse_categorical_crossentropy, \n",
    "              optimizer=tf.keras.optimizers.SGD(), \n",
    "              metrics=[tf.keras.metrics.sparse_categorical_accuracy])"
   ]
  },
  {
   "cell_type": "code",
   "execution_count": 12,
   "metadata": {},
   "outputs": [
    {
     "name": "stdout",
     "output_type": "stream",
     "text": [
      "Epoch 1/50\n",
      "1719/1719 [==============================] - 4s 2ms/step - loss: 0.7230 - sparse_categorical_accuracy: 0.7642 - val_loss: 0.5160 - val_sparse_categorical_accuracy: 0.8232\n",
      "Epoch 2/50\n",
      "1719/1719 [==============================] - 3s 2ms/step - loss: 0.4902 - sparse_categorical_accuracy: 0.8291 - val_loss: 0.4457 - val_sparse_categorical_accuracy: 0.8536\n",
      "Epoch 3/50\n",
      "1719/1719 [==============================] - 4s 2ms/step - loss: 0.4424 - sparse_categorical_accuracy: 0.8451 - val_loss: 0.4094 - val_sparse_categorical_accuracy: 0.8638\n",
      "Epoch 4/50\n",
      "1719/1719 [==============================] - 4s 2ms/step - loss: 0.4146 - sparse_categorical_accuracy: 0.8542 - val_loss: 0.4169 - val_sparse_categorical_accuracy: 0.8592\n",
      "Epoch 5/50\n",
      "1719/1719 [==============================] - 4s 2ms/step - loss: 0.3932 - sparse_categorical_accuracy: 0.8616 - val_loss: 0.3810 - val_sparse_categorical_accuracy: 0.8664\n",
      "Epoch 6/50\n",
      "1719/1719 [==============================] - 4s 2ms/step - loss: 0.3787 - sparse_categorical_accuracy: 0.8659 - val_loss: 0.3683 - val_sparse_categorical_accuracy: 0.8730\n",
      "Epoch 7/50\n",
      "1719/1719 [==============================] - 4s 2ms/step - loss: 0.3650 - sparse_categorical_accuracy: 0.8712 - val_loss: 0.3914 - val_sparse_categorical_accuracy: 0.8626\n",
      "Epoch 8/50\n",
      "1719/1719 [==============================] - 4s 2ms/step - loss: 0.3526 - sparse_categorical_accuracy: 0.8750 - val_loss: 0.3543 - val_sparse_categorical_accuracy: 0.8760\n",
      "Epoch 9/50\n",
      "1719/1719 [==============================] - 4s 2ms/step - loss: 0.3428 - sparse_categorical_accuracy: 0.8788 - val_loss: 0.3471 - val_sparse_categorical_accuracy: 0.8796\n",
      "Epoch 10/50\n",
      "1719/1719 [==============================] - 4s 2ms/step - loss: 0.3336 - sparse_categorical_accuracy: 0.8806 - val_loss: 0.3427 - val_sparse_categorical_accuracy: 0.8780\n",
      "Epoch 11/50\n",
      "1719/1719 [==============================] - 3s 2ms/step - loss: 0.3244 - sparse_categorical_accuracy: 0.8852 - val_loss: 0.3333 - val_sparse_categorical_accuracy: 0.8820\n",
      "Epoch 12/50\n",
      "1719/1719 [==============================] - 4s 2ms/step - loss: 0.3157 - sparse_categorical_accuracy: 0.8874 - val_loss: 0.3276 - val_sparse_categorical_accuracy: 0.8866\n",
      "Epoch 13/50\n",
      "1719/1719 [==============================] - 4s 2ms/step - loss: 0.3084 - sparse_categorical_accuracy: 0.8888 - val_loss: 0.3347 - val_sparse_categorical_accuracy: 0.8844\n",
      "Epoch 14/50\n",
      "1719/1719 [==============================] - 4s 2ms/step - loss: 0.3025 - sparse_categorical_accuracy: 0.8909 - val_loss: 0.3375 - val_sparse_categorical_accuracy: 0.8790\n",
      "Epoch 15/50\n",
      "1719/1719 [==============================] - 4s 2ms/step - loss: 0.2955 - sparse_categorical_accuracy: 0.8932 - val_loss: 0.3380 - val_sparse_categorical_accuracy: 0.8802\n",
      "Epoch 16/50\n",
      "1719/1719 [==============================] - 4s 2ms/step - loss: 0.2902 - sparse_categorical_accuracy: 0.8961 - val_loss: 0.3214 - val_sparse_categorical_accuracy: 0.8814\n",
      "Epoch 17/50\n",
      "1719/1719 [==============================] - 4s 2ms/step - loss: 0.2833 - sparse_categorical_accuracy: 0.8986 - val_loss: 0.3093 - val_sparse_categorical_accuracy: 0.8890\n",
      "Epoch 18/50\n",
      "1719/1719 [==============================] - 4s 2ms/step - loss: 0.2789 - sparse_categorical_accuracy: 0.8995 - val_loss: 0.3170 - val_sparse_categorical_accuracy: 0.8868\n",
      "Epoch 19/50\n",
      "1719/1719 [==============================] - 3s 2ms/step - loss: 0.2726 - sparse_categorical_accuracy: 0.9010 - val_loss: 0.3025 - val_sparse_categorical_accuracy: 0.8904\n",
      "Epoch 20/50\n",
      "1719/1719 [==============================] - 4s 2ms/step - loss: 0.2682 - sparse_categorical_accuracy: 0.9036 - val_loss: 0.3280 - val_sparse_categorical_accuracy: 0.8862\n",
      "Epoch 21/50\n",
      "1719/1719 [==============================] - 4s 2ms/step - loss: 0.2637 - sparse_categorical_accuracy: 0.9056 - val_loss: 0.3085 - val_sparse_categorical_accuracy: 0.8888\n",
      "Epoch 22/50\n",
      "1719/1719 [==============================] - 4s 2ms/step - loss: 0.2595 - sparse_categorical_accuracy: 0.9078 - val_loss: 0.3100 - val_sparse_categorical_accuracy: 0.8886\n",
      "Epoch 23/50\n",
      "1719/1719 [==============================] - 4s 2ms/step - loss: 0.2552 - sparse_categorical_accuracy: 0.9085 - val_loss: 0.3048 - val_sparse_categorical_accuracy: 0.8914\n",
      "Epoch 24/50\n",
      "1719/1719 [==============================] - 4s 2ms/step - loss: 0.2501 - sparse_categorical_accuracy: 0.9097 - val_loss: 0.2985 - val_sparse_categorical_accuracy: 0.8936\n",
      "Epoch 25/50\n",
      "1719/1719 [==============================] - 4s 2ms/step - loss: 0.2462 - sparse_categorical_accuracy: 0.9111 - val_loss: 0.3119 - val_sparse_categorical_accuracy: 0.8848\n",
      "Epoch 26/50\n",
      "1719/1719 [==============================] - 4s 2ms/step - loss: 0.2413 - sparse_categorical_accuracy: 0.9131 - val_loss: 0.2945 - val_sparse_categorical_accuracy: 0.8948\n",
      "Epoch 27/50\n",
      "1719/1719 [==============================] - 3s 2ms/step - loss: 0.2366 - sparse_categorical_accuracy: 0.9157 - val_loss: 0.3087 - val_sparse_categorical_accuracy: 0.8840\n",
      "Epoch 28/50\n",
      "1719/1719 [==============================] - 3s 2ms/step - loss: 0.2344 - sparse_categorical_accuracy: 0.9159 - val_loss: 0.2908 - val_sparse_categorical_accuracy: 0.8938\n",
      "Epoch 29/50\n",
      "1719/1719 [==============================] - 3s 2ms/step - loss: 0.2298 - sparse_categorical_accuracy: 0.9175 - val_loss: 0.2925 - val_sparse_categorical_accuracy: 0.8964\n",
      "Epoch 30/50\n",
      "1719/1719 [==============================] - 3s 2ms/step - loss: 0.2262 - sparse_categorical_accuracy: 0.9185 - val_loss: 0.2930 - val_sparse_categorical_accuracy: 0.8928\n",
      "Epoch 31/50\n",
      "1719/1719 [==============================] - 3s 2ms/step - loss: 0.2227 - sparse_categorical_accuracy: 0.9195 - val_loss: 0.2997 - val_sparse_categorical_accuracy: 0.8894\n",
      "Epoch 32/50\n",
      "1719/1719 [==============================] - 3s 2ms/step - loss: 0.2198 - sparse_categorical_accuracy: 0.9214 - val_loss: 0.3186 - val_sparse_categorical_accuracy: 0.8840\n",
      "Epoch 33/50\n",
      "1719/1719 [==============================] - 3s 2ms/step - loss: 0.2160 - sparse_categorical_accuracy: 0.9230 - val_loss: 0.2864 - val_sparse_categorical_accuracy: 0.8954\n",
      "Epoch 34/50\n",
      "1719/1719 [==============================] - 3s 2ms/step - loss: 0.2130 - sparse_categorical_accuracy: 0.9239 - val_loss: 0.2906 - val_sparse_categorical_accuracy: 0.8952\n",
      "Epoch 35/50\n",
      "1719/1719 [==============================] - 4s 2ms/step - loss: 0.2099 - sparse_categorical_accuracy: 0.9238 - val_loss: 0.2874 - val_sparse_categorical_accuracy: 0.8920\n",
      "Epoch 36/50\n",
      "1719/1719 [==============================] - 4s 2ms/step - loss: 0.2054 - sparse_categorical_accuracy: 0.9264 - val_loss: 0.2872 - val_sparse_categorical_accuracy: 0.8980\n",
      "Epoch 37/50\n",
      "1719/1719 [==============================] - 4s 2ms/step - loss: 0.2025 - sparse_categorical_accuracy: 0.9285 - val_loss: 0.2860 - val_sparse_categorical_accuracy: 0.8944\n",
      "Epoch 38/50\n",
      "1719/1719 [==============================] - 4s 3ms/step - loss: 0.1984 - sparse_categorical_accuracy: 0.9289 - val_loss: 0.3011 - val_sparse_categorical_accuracy: 0.8888\n",
      "Epoch 39/50\n",
      "1719/1719 [==============================] - 4s 3ms/step - loss: 0.1965 - sparse_categorical_accuracy: 0.9299 - val_loss: 0.2805 - val_sparse_categorical_accuracy: 0.8962\n",
      "Epoch 40/50\n",
      "1719/1719 [==============================] - 4s 2ms/step - loss: 0.1936 - sparse_categorical_accuracy: 0.9313 - val_loss: 0.3019 - val_sparse_categorical_accuracy: 0.8912\n",
      "Epoch 41/50\n",
      "1719/1719 [==============================] - 3s 2ms/step - loss: 0.1895 - sparse_categorical_accuracy: 0.9321 - val_loss: 0.2941 - val_sparse_categorical_accuracy: 0.8950\n",
      "Epoch 42/50\n",
      "1719/1719 [==============================] - 3s 2ms/step - loss: 0.1883 - sparse_categorical_accuracy: 0.9329 - val_loss: 0.2830 - val_sparse_categorical_accuracy: 0.8984\n",
      "Epoch 43/50\n",
      "1719/1719 [==============================] - 3s 2ms/step - loss: 0.1849 - sparse_categorical_accuracy: 0.9341 - val_loss: 0.3040 - val_sparse_categorical_accuracy: 0.8918\n",
      "Epoch 44/50\n",
      "1719/1719 [==============================] - 3s 2ms/step - loss: 0.1818 - sparse_categorical_accuracy: 0.9356 - val_loss: 0.2910 - val_sparse_categorical_accuracy: 0.8960\n",
      "Epoch 45/50\n",
      "1719/1719 [==============================] - 3s 2ms/step - loss: 0.1790 - sparse_categorical_accuracy: 0.9366 - val_loss: 0.2955 - val_sparse_categorical_accuracy: 0.9010\n"
     ]
    },
    {
     "name": "stdout",
     "output_type": "stream",
     "text": [
      "Epoch 46/50\n",
      "1719/1719 [==============================] - 4s 2ms/step - loss: 0.1755 - sparse_categorical_accuracy: 0.9371 - val_loss: 0.3049 - val_sparse_categorical_accuracy: 0.8900\n",
      "Epoch 47/50\n",
      "1719/1719 [==============================] - 5s 3ms/step - loss: 0.1725 - sparse_categorical_accuracy: 0.9379 - val_loss: 0.2877 - val_sparse_categorical_accuracy: 0.8956\n",
      "Epoch 48/50\n",
      "1719/1719 [==============================] - 4s 2ms/step - loss: 0.1705 - sparse_categorical_accuracy: 0.9390 - val_loss: 0.2889 - val_sparse_categorical_accuracy: 0.8970\n",
      "Epoch 49/50\n",
      "1719/1719 [==============================] - 4s 2ms/step - loss: 0.1671 - sparse_categorical_accuracy: 0.9403 - val_loss: 0.2894 - val_sparse_categorical_accuracy: 0.8982\n",
      "Epoch 50/50\n",
      "1719/1719 [==============================] - 4s 2ms/step - loss: 0.1661 - sparse_categorical_accuracy: 0.9409 - val_loss: 0.2935 - val_sparse_categorical_accuracy: 0.8940\n"
     ]
    }
   ],
   "source": [
    "history = model.fit(X_train, y_train, epochs=50, validation_data=(X_valid, y_valid))"
   ]
  },
  {
   "cell_type": "code",
   "execution_count": 79,
   "metadata": {},
   "outputs": [
    {
     "data": {
      "text/plain": [
       "{'loss': [0.7037703990936279,\n",
       "  0.48887303471565247,\n",
       "  0.44592031836509705,\n",
       "  0.4189482033252716,\n",
       "  0.3981229364871979,\n",
       "  0.38217321038246155,\n",
       "  0.3695469796657562,\n",
       "  0.35719436407089233,\n",
       "  0.34738826751708984,\n",
       "  0.33655160665512085,\n",
       "  0.3275459408760071,\n",
       "  0.32025983929634094,\n",
       "  0.3115463852882385,\n",
       "  0.3052690923213959,\n",
       "  0.29798707365989685,\n",
       "  0.29224684834480286,\n",
       "  0.28692078590393066,\n",
       "  0.2806830108165741,\n",
       "  0.274728387594223,\n",
       "  0.2701435387134552,\n",
       "  0.26490774750709534,\n",
       "  0.26016128063201904,\n",
       "  0.2558918297290802,\n",
       "  0.2515094578266144,\n",
       "  0.24629321694374084,\n",
       "  0.24295061826705933,\n",
       "  0.2390860915184021,\n",
       "  0.2345576137304306,\n",
       "  0.2313501387834549,\n",
       "  0.2279694676399231,\n",
       "  0.223734050989151,\n",
       "  0.21941570937633514,\n",
       "  0.2156304568052292,\n",
       "  0.2126302272081375,\n",
       "  0.20953255891799927,\n",
       "  0.2059146910905838,\n",
       "  0.20287668704986572,\n",
       "  0.19907023012638092,\n",
       "  0.19573330879211426,\n",
       "  0.1931246519088745,\n",
       "  0.191263809800148,\n",
       "  0.18733568489551544,\n",
       "  0.18512073159217834,\n",
       "  0.18110111355781555,\n",
       "  0.1780506819486618,\n",
       "  0.17506809532642365,\n",
       "  0.17345264554023743,\n",
       "  0.17033204436302185,\n",
       "  0.16821767389774323,\n",
       "  0.1649138182401657],\n",
       " 'sparse_categorical_accuracy': [0.7676363587379456,\n",
       "  0.8289818167686462,\n",
       "  0.8429454565048218,\n",
       "  0.8529636263847351,\n",
       "  0.860909104347229,\n",
       "  0.8648909330368042,\n",
       "  0.8686000108718872,\n",
       "  0.8737454414367676,\n",
       "  0.8758909106254578,\n",
       "  0.8795818090438843,\n",
       "  0.8821091055870056,\n",
       "  0.885236382484436,\n",
       "  0.8881636261940002,\n",
       "  0.8915272951126099,\n",
       "  0.8923636078834534,\n",
       "  0.8941818475723267,\n",
       "  0.895836353302002,\n",
       "  0.8981999754905701,\n",
       "  0.9011090993881226,\n",
       "  0.9027454257011414,\n",
       "  0.9049272537231445,\n",
       "  0.9062545299530029,\n",
       "  0.9074363708496094,\n",
       "  0.9089090824127197,\n",
       "  0.9108363389968872,\n",
       "  0.9124181866645813,\n",
       "  0.9144545197486877,\n",
       "  0.9166363477706909,\n",
       "  0.9168182015419006,\n",
       "  0.9177272915840149,\n",
       "  0.9193999767303467,\n",
       "  0.9205636382102966,\n",
       "  0.9223636388778687,\n",
       "  0.9231818318367004,\n",
       "  0.9247636198997498,\n",
       "  0.9259454607963562,\n",
       "  0.9276363849639893,\n",
       "  0.928709089756012,\n",
       "  0.9301818013191223,\n",
       "  0.9317818284034729,\n",
       "  0.9323272705078125,\n",
       "  0.934072732925415,\n",
       "  0.9337636232376099,\n",
       "  0.9359272718429565,\n",
       "  0.9364727139472961,\n",
       "  0.9376000165939331,\n",
       "  0.9380727410316467,\n",
       "  0.9397454261779785,\n",
       "  0.9395818114280701,\n",
       "  0.9408000111579895],\n",
       " 'val_loss': [0.5057136416435242,\n",
       "  0.47125372290611267,\n",
       "  0.4904663562774658,\n",
       "  0.401812344789505,\n",
       "  0.38758885860443115,\n",
       "  0.3772425949573517,\n",
       "  0.37269166111946106,\n",
       "  0.37744173407554626,\n",
       "  0.35282063484191895,\n",
       "  0.34490731358528137,\n",
       "  0.3379708528518677,\n",
       "  0.34938785433769226,\n",
       "  0.33297574520111084,\n",
       "  0.3322314918041229,\n",
       "  0.335508793592453,\n",
       "  0.3182353377342224,\n",
       "  0.3211377263069153,\n",
       "  0.3216054439544678,\n",
       "  0.329221248626709,\n",
       "  0.3153756856918335,\n",
       "  0.3081955313682556,\n",
       "  0.30819758772850037,\n",
       "  0.29773426055908203,\n",
       "  0.30534079670906067,\n",
       "  0.30955126881599426,\n",
       "  0.2977263331413269,\n",
       "  0.2976909279823303,\n",
       "  0.3029957711696625,\n",
       "  0.31052830815315247,\n",
       "  0.2918890714645386,\n",
       "  0.31484293937683105,\n",
       "  0.2993963360786438,\n",
       "  0.31038838624954224,\n",
       "  0.30099499225616455,\n",
       "  0.3228830397129059,\n",
       "  0.2994496524333954,\n",
       "  0.29345735907554626,\n",
       "  0.3058505356311798,\n",
       "  0.2888053059577942,\n",
       "  0.29756778478622437,\n",
       "  0.2938348352909088,\n",
       "  0.29940491914749146,\n",
       "  0.30355969071388245,\n",
       "  0.28657853603363037,\n",
       "  0.287471204996109,\n",
       "  0.2941224277019501,\n",
       "  0.31185096502304077,\n",
       "  0.3027462661266327,\n",
       "  0.2972550690174103,\n",
       "  0.2951800227165222],\n",
       " 'val_sparse_categorical_accuracy': [0.8284000158309937,\n",
       "  0.8371999859809875,\n",
       "  0.8240000009536743,\n",
       "  0.854200005531311,\n",
       "  0.8668000102043152,\n",
       "  0.8704000115394592,\n",
       "  0.8677999973297119,\n",
       "  0.8694000244140625,\n",
       "  0.8755999803543091,\n",
       "  0.8795999884605408,\n",
       "  0.8799999952316284,\n",
       "  0.8769999742507935,\n",
       "  0.8805999755859375,\n",
       "  0.8830000162124634,\n",
       "  0.8808000087738037,\n",
       "  0.8849999904632568,\n",
       "  0.8841999769210815,\n",
       "  0.8867999911308289,\n",
       "  0.8776000142097473,\n",
       "  0.8880000114440918,\n",
       "  0.8898000121116638,\n",
       "  0.8921999931335449,\n",
       "  0.8942000269889832,\n",
       "  0.8885999917984009,\n",
       "  0.8870000243186951,\n",
       "  0.8935999870300293,\n",
       "  0.892799973487854,\n",
       "  0.8924000263214111,\n",
       "  0.8912000060081482,\n",
       "  0.8971999883651733,\n",
       "  0.8899999856948853,\n",
       "  0.8931999802589417,\n",
       "  0.8881999850273132,\n",
       "  0.8978000283241272,\n",
       "  0.8867999911308289,\n",
       "  0.8988000154495239,\n",
       "  0.8974000215530396,\n",
       "  0.8930000066757202,\n",
       "  0.8962000012397766,\n",
       "  0.8966000080108643,\n",
       "  0.895799994468689,\n",
       "  0.8948000073432922,\n",
       "  0.8956000208854675,\n",
       "  0.899399995803833,\n",
       "  0.8999999761581421,\n",
       "  0.8962000012397766,\n",
       "  0.8876000046730042,\n",
       "  0.8921999931335449,\n",
       "  0.8978000283241272,\n",
       "  0.9025999903678894]}"
      ]
     },
     "execution_count": 79,
     "metadata": {},
     "output_type": "execute_result"
    }
   ],
   "source": [
    "history.history"
   ]
  },
  {
   "cell_type": "code",
   "execution_count": 80,
   "metadata": {},
   "outputs": [
    {
     "data": {
      "text/plain": [
       "<matplotlib.axes._subplots.AxesSubplot at 0x1ecf7633588>"
      ]
     },
     "execution_count": 80,
     "metadata": {},
     "output_type": "execute_result"
    },
    {
     "data": {
      "image/png": "[encoded data removed]",
      "text/plain": [
       "<Figure size 720x432 with 1 Axes>"
      ]
     },
     "metadata": {
      "needs_background": "light"
     },
     "output_type": "display_data"
    }
   ],
   "source": [
    "pd.DataFrame(history.history).plot(figsize=(10, 6))"
   ]
  },
  {
   "cell_type": "code",
   "execution_count": 81,
   "metadata": {},
   "outputs": [
    {
     "name": "stdout",
     "output_type": "stream",
     "text": [
      "313/313 [==============================] - 1s 2ms/step - loss: 70.4785 - sparse_categorical_accuracy: 0.8528\n"
     ]
    },
    {
     "data": {
      "text/plain": [
       "[70.4785385131836, 0.8528000116348267]"
      ]
     },
     "execution_count": 81,
     "metadata": {},
     "output_type": "execute_result"
    }
   ],
   "source": [
    "model.evaluate(X_test, y_test)"
   ]
  },
  {
   "cell_type": "code",
   "execution_count": 94,
   "metadata": {},
   "outputs": [],
   "source": [
    "X_new = X_test[:10]\n",
    "y_proba = model.predict(X_new)"
   ]
  },
  {
   "cell_type": "code",
   "execution_count": 95,
   "metadata": {},
   "outputs": [
    {
     "data": {
      "text/plain": [
       "array([[0., 0., 0., 0., 0., 0., 0., 0., 0., 1.],\n",
       "       [0., 0., 1., 0., 0., 0., 0., 0., 0., 0.],\n",
       "       [0., 1., 0., 0., 0., 0., 0., 0., 0., 0.],\n",
       "       [0., 1., 0., 0., 0., 0., 0., 0., 0., 0.],\n",
       "       [0., 0., 0., 0., 0., 0., 1., 0., 0., 0.],\n",
       "       [0., 1., 0., 0., 0., 0., 0., 0., 0., 0.],\n",
       "       [0., 0., 0., 0., 1., 0., 0., 0., 0., 0.],\n",
       "       [0., 0., 0., 0., 0., 0., 1., 0., 0., 0.],\n",
       "       [0., 0., 0., 0., 0., 1., 0., 0., 0., 0.],\n",
       "       [0., 0., 0., 0., 0., 0., 0., 1., 0., 0.]], dtype=float32)"
      ]
     },
     "execution_count": 95,
     "metadata": {},
     "output_type": "execute_result"
    }
   ],
   "source": [
    "y_proba.round(2)"
   ]
  },
  {
   "cell_type": "code",
   "execution_count": 99,
   "metadata": {},
   "outputs": [
    {
     "data": {
      "text/plain": [
       "array([9, 2, 1, 1, 6, 1, 4, 6, 5, 7], dtype=int64)"
      ]
     },
     "execution_count": 99,
     "metadata": {},
     "output_type": "execute_result"
    }
   ],
   "source": [
    "y_pred = model.predict_classes(X_new)\n",
    "y_pred"
   ]
  },
  {
   "cell_type": "code",
   "execution_count": 100,
   "metadata": {},
   "outputs": [
    {
     "data": {
      "text/plain": [
       "array(['Ankle boot', 'Pullover', 'Trouser', 'Trouser', 'Shirt', 'Trouser',\n",
       "       'Coat', 'Shirt', 'Sandal', 'Sneaker'], dtype='<U11')"
      ]
     },
     "execution_count": 100,
     "metadata": {},
     "output_type": "execute_result"
    }
   ],
   "source": [
    " np.array(class_names)[y_pred]"
   ]
  },
  {
   "cell_type": "markdown",
   "metadata": {},
   "source": [
    "## Regression with California Houses"
   ]
  },
  {
   "cell_type": "code",
   "execution_count": 117,
   "metadata": {},
   "outputs": [],
   "source": [
    "from sklearn.datasets import fetch_california_housing\n",
    "from sklearn.model_selection import train_test_split\n",
    "from sklearn.preprocessing import StandardScaler"
   ]
  },
  {
   "cell_type": "code",
   "execution_count": 118,
   "metadata": {},
   "outputs": [],
   "source": [
    "housing = fetch_california_housing()"
   ]
  },
  {
   "cell_type": "code",
   "execution_count": 119,
   "metadata": {},
   "outputs": [],
   "source": [
    "X_train_full, X_test, y_train_full, y_test = train_test_split(housing.data, housing.target)"
   ]
  },
  {
   "cell_type": "code",
   "execution_count": 120,
   "metadata": {},
   "outputs": [],
   "source": [
    "X_train, X_valid, y_train, y_valid = train_test_split(X_train_full, y_train_full)"
   ]
  },
  {
   "cell_type": "code",
   "execution_count": 121,
   "metadata": {},
   "outputs": [],
   "source": [
    "scaler = StandardScaler()\n",
    "X_train_scaled = scaler.fit_transform(X_train)\n",
    "X_valid_scaled = scaler.transform(X_valid)\n",
    "X_test_scaled = scaler.transform(X_test)"
   ]
  },
  {
   "cell_type": "code",
   "execution_count": 122,
   "metadata": {},
   "outputs": [],
   "source": [
    "regModel = tf.keras.models.Sequential([\n",
    "    tf.keras.layers.Dense(30, activation=tf.keras.activations.relu, input_shape=X_train.shape[1:]),\n",
    "    tf.keras.layers.Dense(1)\n",
    "])"
   ]
  },
  {
   "cell_type": "code",
   "execution_count": 123,
   "metadata": {},
   "outputs": [],
   "source": [
    "regModel.compile(loss=tf.keras.losses.mean_squared_error, optimizer=tf.keras.optimizers.SGD())"
   ]
  },
  {
   "cell_type": "code",
   "execution_count": 124,
   "metadata": {},
   "outputs": [
    {
     "name": "stdout",
     "output_type": "stream",
     "text": [
      "Epoch 1/20\n",
      "363/363 [==============================] - 0s 1ms/step - loss: 1536692880978593716170129408.0000 - val_loss: 73919392679194525696.0000\n",
      "Epoch 2/20\n",
      "363/363 [==============================] - 0s 1ms/step - loss: 5144949157898747904.0000 - val_loss: 31542011232256.0000\n",
      "Epoch 3/20\n",
      "363/363 [==============================] - 0s 1ms/step - loss: 2195393216512.0000 - val_loss: 13459310.0000\n",
      "Epoch 4/20\n",
      "363/363 [==============================] - 0s 1ms/step - loss: 936791.1875 - val_loss: 6.8240\n",
      "Epoch 5/20\n",
      "363/363 [==============================] - 0s 1ms/step - loss: 1.6908 - val_loss: 1.3503\n",
      "Epoch 6/20\n",
      "363/363 [==============================] - 0s 1ms/step - loss: 1.3073 - val_loss: 1.3524\n",
      "Epoch 7/20\n",
      "363/363 [==============================] - 0s 1ms/step - loss: 1.3078 - val_loss: 1.3506\n",
      "Epoch 8/20\n",
      "363/363 [==============================] - 1s 1ms/step - loss: 1.3078 - val_loss: 1.3507\n",
      "Epoch 9/20\n",
      "363/363 [==============================] - 0s 1ms/step - loss: 1.3075 - val_loss: 1.3515\n",
      "Epoch 10/20\n",
      "363/363 [==============================] - 0s 1ms/step - loss: 1.3078 - val_loss: 1.3503\n",
      "Epoch 11/20\n",
      "363/363 [==============================] - 0s 1ms/step - loss: 1.3074 - val_loss: 1.3515\n",
      "Epoch 12/20\n",
      "363/363 [==============================] - 1s 1ms/step - loss: 1.3079 - val_loss: 1.3504\n",
      "Epoch 13/20\n",
      "363/363 [==============================] - 1s 1ms/step - loss: 1.3070 - val_loss: 1.3513\n",
      "Epoch 14/20\n",
      "363/363 [==============================] - 1s 2ms/step - loss: 1.3078 - val_loss: 1.3506\n",
      "Epoch 15/20\n",
      "363/363 [==============================] - 0s 1ms/step - loss: 1.3078 - val_loss: 1.3505\n",
      "Epoch 16/20\n",
      "363/363 [==============================] - 1s 1ms/step - loss: 1.3076 - val_loss: 1.3504\n",
      "Epoch 17/20\n",
      "363/363 [==============================] - 0s 1ms/step - loss: 1.3075 - val_loss: 1.3504\n",
      "Epoch 18/20\n",
      "363/363 [==============================] - ETA: 0s - loss: 1.307 - 0s 1ms/step - loss: 1.3075 - val_loss: 1.3509\n",
      "Epoch 19/20\n",
      "363/363 [==============================] - 0s 1ms/step - loss: 1.3076 - val_loss: 1.3503\n",
      "Epoch 20/20\n",
      "363/363 [==============================] - 1s 2ms/step - loss: 1.3075 - val_loss: 1.3505\n"
     ]
    }
   ],
   "source": [
    "history = regModel.fit(X_train, y_train, epochs=20, validation_data=(X_valid, y_valid))"
   ]
  },
  {
   "cell_type": "code",
   "execution_count": 125,
   "metadata": {},
   "outputs": [
    {
     "data": {
      "text/plain": [
       "{'loss': [1.5366928809785937e+27,\n",
       "  5.144949157898748e+18,\n",
       "  2195393216512.0,\n",
       "  936791.1875,\n",
       "  1.6907953023910522,\n",
       "  1.3072798252105713,\n",
       "  1.3077582120895386,\n",
       "  1.3077892065048218,\n",
       "  1.3074510097503662,\n",
       "  1.3078299760818481,\n",
       "  1.3073904514312744,\n",
       "  1.3078782558441162,\n",
       "  1.3070398569107056,\n",
       "  1.3077841997146606,\n",
       "  1.3077843189239502,\n",
       "  1.307560682296753,\n",
       "  1.3075127601623535,\n",
       "  1.3075432777404785,\n",
       "  1.3075921535491943,\n",
       "  1.3074589967727661],\n",
       " 'val_loss': [7.391939267919453e+19,\n",
       "  31542011232256.0,\n",
       "  13459310.0,\n",
       "  6.824003219604492,\n",
       "  1.35025954246521,\n",
       "  1.352433681488037,\n",
       "  1.3505687713623047,\n",
       "  1.3506873846054077,\n",
       "  1.3514721393585205,\n",
       "  1.3502957820892334,\n",
       "  1.3514593839645386,\n",
       "  1.3503705263137817,\n",
       "  1.3513456583023071,\n",
       "  1.3506214618682861,\n",
       "  1.3504860401153564,\n",
       "  1.3504269123077393,\n",
       "  1.3504377603530884,\n",
       "  1.3508718013763428,\n",
       "  1.3502612113952637,\n",
       "  1.3505198955535889]}"
      ]
     },
     "execution_count": 125,
     "metadata": {},
     "output_type": "execute_result"
    }
   ],
   "source": [
    "history.history"
   ]
  },
  {
   "cell_type": "code",
   "execution_count": 126,
   "metadata": {},
   "outputs": [
    {
     "name": "stdout",
     "output_type": "stream",
     "text": [
      "162/162 [==============================] - 0s 708us/step - loss: 1.3711\n"
     ]
    }
   ],
   "source": [
    "mse_test = regModel.evaluate(X_test, y_test)"
   ]
  },
  {
   "cell_type": "code",
   "execution_count": 129,
   "metadata": {},
   "outputs": [
    {
     "data": {
      "text/plain": [
       "array([[2.0783942],\n",
       "       [2.0783942],\n",
       "       [2.0783942]], dtype=float32)"
      ]
     },
     "execution_count": 129,
     "metadata": {},
     "output_type": "execute_result"
    }
   ],
   "source": [
    "X_new = X_test[:3] # pretend these are new instances1\n",
    "y_pred = regModel.predict(X_new)\n",
    "y_pred"
   ]
  },
  {
   "cell_type": "code",
   "execution_count": null,
   "metadata": {},
   "outputs": [],
   "source": []
  }
 ],
 "metadata": {
  "kernelspec": {
   "display_name": "Python 3",
   "language": "python",
   "name": "python3"
  },
  "language_info": {
   "codemirror_mode": {
    "name": "ipython",
    "version": 3
   },
   "file_extension": ".py",
   "mimetype": "text/x-python",
   "name": "python",
   "nbconvert_exporter": "python",
   "pygments_lexer": "ipython3",
   "version": "3.7.4"
  }
 },
 "nbformat": 4,
 "nbformat_minor": 2
}
