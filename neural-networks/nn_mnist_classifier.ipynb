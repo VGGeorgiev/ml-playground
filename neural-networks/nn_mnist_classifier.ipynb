{
 "cells": [
  {
   "cell_type": "code",
   "execution_count": 1,
   "metadata": {},
   "outputs": [],
   "source": [
    "%matplotlib inline\n",
    "import matplotlib as mpl\n",
    "import pandas as pd\n",
    "import numpy as np\n",
    "import matplotlib.pyplot as plt\n",
    "\n",
    "import tensorflow as tf"
   ]
  },
  {
   "cell_type": "code",
   "execution_count": 2,
   "metadata": {},
   "outputs": [],
   "source": [
    "(X_train_all, y_train_all), (X_test, y_test) = tf.keras.datasets.mnist.load_data()\n",
    "\n",
    "X_valid, X_train = X_train_all[:5000] / 255.0, X_train_all[5000:] / 255.0\n",
    "y_valid, y_train = y_train_all[:5000], y_train_all[5000:]"
   ]
  },
  {
   "cell_type": "code",
   "execution_count": 3,
   "metadata": {},
   "outputs": [
    {
     "data": {
      "image/png": "[encoded data removed]",
      "text/plain": [
       "<Figure size 432x288 with 1 Axes>"
      ]
     },
     "metadata": {
      "needs_background": "light"
     },
     "output_type": "display_data"
    }
   ],
   "source": [
    "plt.imshow(X_train[25], cmap=mpl.cm.binary)\n",
    "#plt.axis(\"off\")\n",
    "plt.show()"
   ]
  },
  {
   "cell_type": "markdown",
   "metadata": {},
   "source": [
    "## Creating a Sequential model"
   ]
  },
  {
   "cell_type": "code",
   "execution_count": 4,
   "metadata": {},
   "outputs": [],
   "source": [
    "model = tf.keras.models.Sequential()"
   ]
  },
  {
   "cell_type": "code",
   "execution_count": 5,
   "metadata": {},
   "outputs": [],
   "source": [
    "model.add(tf.keras.layers.Flatten(input_shape=[28, 28]))\n",
    "model.add(tf.keras.layers.Dense(200, activation=\"relu\"))\n",
    "model.add(tf.keras.layers.Dense(100, activation=\"relu\"))\n",
    "model.add(tf.keras.layers.Dense(10, activation=\"softmax\"))"
   ]
  },
  {
   "cell_type": "code",
   "execution_count": 6,
   "metadata": {},
   "outputs": [
    {
     "name": "stdout",
     "output_type": "stream",
     "text": [
      "Model: \"sequential\"\n",
      "_________________________________________________________________\n",
      "Layer (type)                 Output Shape              Param #   \n",
      "=================================================================\n",
      "flatten (Flatten)            (None, 784)               0         \n",
      "_________________________________________________________________\n",
      "dense (Dense)                (None, 200)               157000    \n",
      "_________________________________________________________________\n",
      "dense_1 (Dense)              (None, 100)               20100     \n",
      "_________________________________________________________________\n",
      "dense_2 (Dense)              (None, 10)                1010      \n",
      "=================================================================\n",
      "Total params: 178,110\n",
      "Trainable params: 178,110\n",
      "Non-trainable params: 0\n",
      "_________________________________________________________________\n"
     ]
    }
   ],
   "source": [
    " model.summary()"
   ]
  },
  {
   "cell_type": "code",
   "execution_count": 7,
   "metadata": {},
   "outputs": [],
   "source": [
    "weights, biases = model.layers[2].get_weights()"
   ]
  },
  {
   "cell_type": "code",
   "execution_count": 8,
   "metadata": {},
   "outputs": [
    {
     "data": {
      "text/plain": [
       "array([[-0.09685592, -0.04689107, -0.14023036, ...,  0.00232236,\n",
       "         0.08981578, -0.06749306],\n",
       "       [-0.02642385, -0.00026681,  0.11217569, ...,  0.05540811,\n",
       "        -0.09820011, -0.1264267 ],\n",
       "       [-0.03010412, -0.09605379,  0.10325116, ..., -0.1014234 ,\n",
       "        -0.03781668,  0.01905745],\n",
       "       ...,\n",
       "       [ 0.13546835,  0.00622115, -0.06527697, ...,  0.11353923,\n",
       "        -0.10661204,  0.05140887],\n",
       "       [-0.08176536,  0.04046735, -0.10585856, ...,  0.07630293,\n",
       "         0.07468432,  0.05518517],\n",
       "       [ 0.05875824,  0.13914372, -0.10754946, ..., -0.07072852,\n",
       "        -0.02339888,  0.05881067]], dtype=float32)"
      ]
     },
     "execution_count": 8,
     "metadata": {},
     "output_type": "execute_result"
    }
   ],
   "source": [
    "weights"
   ]
  },
  {
   "cell_type": "code",
   "execution_count": 9,
   "metadata": {},
   "outputs": [],
   "source": [
    "model.compile(loss=tf.keras.losses.sparse_categorical_crossentropy, \n",
    "              optimizer=tf.keras.optimizers.SGD(), \n",
    "              metrics=[tf.keras.metrics.sparse_categorical_accuracy])"
   ]
  },
  {
   "cell_type": "code",
   "execution_count": 10,
   "metadata": {},
   "outputs": [
    {
     "name": "stdout",
     "output_type": "stream",
     "text": [
      "Epoch 1/30\n",
      "1719/1719 [==============================] - 4s 2ms/step - loss: 0.6373 - sparse_categorical_accuracy: 0.8348 - val_loss: 0.3150 - val_sparse_categorical_accuracy: 0.9132\n",
      "Epoch 2/30\n",
      "1719/1719 [==============================] - 3s 2ms/step - loss: 0.2957 - sparse_categorical_accuracy: 0.9165 - val_loss: 0.2494 - val_sparse_categorical_accuracy: 0.9316\n",
      "Epoch 3/30\n",
      "1719/1719 [==============================] - 3s 2ms/step - loss: 0.2441 - sparse_categorical_accuracy: 0.9306 - val_loss: 0.2114 - val_sparse_categorical_accuracy: 0.9424\n",
      "Epoch 4/30\n",
      "1719/1719 [==============================] - 3s 2ms/step - loss: 0.2102 - sparse_categorical_accuracy: 0.9409 - val_loss: 0.1834 - val_sparse_categorical_accuracy: 0.9506\n",
      "Epoch 5/30\n",
      "1719/1719 [==============================] - 3s 2ms/step - loss: 0.1839 - sparse_categorical_accuracy: 0.9474 - val_loss: 0.1661 - val_sparse_categorical_accuracy: 0.9544\n",
      "Epoch 6/30\n",
      "1719/1719 [==============================] - 3s 2ms/step - loss: 0.1631 - sparse_categorical_accuracy: 0.9529 - val_loss: 0.1506 - val_sparse_categorical_accuracy: 0.9572\n",
      "Epoch 7/30\n",
      "1719/1719 [==============================] - 3s 2ms/step - loss: 0.1466 - sparse_categorical_accuracy: 0.9575 - val_loss: 0.1361 - val_sparse_categorical_accuracy: 0.9632\n",
      "Epoch 8/30\n",
      "1719/1719 [==============================] - 3s 2ms/step - loss: 0.1330 - sparse_categorical_accuracy: 0.9614 - val_loss: 0.1302 - val_sparse_categorical_accuracy: 0.9654\n",
      "Epoch 9/30\n",
      "1719/1719 [==============================] - 3s 2ms/step - loss: 0.1212 - sparse_categorical_accuracy: 0.9650 - val_loss: 0.1182 - val_sparse_categorical_accuracy: 0.9688\n",
      "Epoch 10/30\n",
      "1719/1719 [==============================] - 3s 2ms/step - loss: 0.1112 - sparse_categorical_accuracy: 0.9684 - val_loss: 0.1169 - val_sparse_categorical_accuracy: 0.9672\n",
      "Epoch 11/30\n",
      "1719/1719 [==============================] - 3s 2ms/step - loss: 0.1024 - sparse_categorical_accuracy: 0.9707 - val_loss: 0.1080 - val_sparse_categorical_accuracy: 0.9694\n",
      "Epoch 12/30\n",
      "1719/1719 [==============================] - 3s 2ms/step - loss: 0.0949 - sparse_categorical_accuracy: 0.9732 - val_loss: 0.1020 - val_sparse_categorical_accuracy: 0.9716\n",
      "Epoch 13/30\n",
      "1719/1719 [==============================] - 3s 2ms/step - loss: 0.0878 - sparse_categorical_accuracy: 0.9754 - val_loss: 0.0974 - val_sparse_categorical_accuracy: 0.9716\n",
      "Epoch 14/30\n",
      "1719/1719 [==============================] - 3s 2ms/step - loss: 0.0819 - sparse_categorical_accuracy: 0.9769 - val_loss: 0.0939 - val_sparse_categorical_accuracy: 0.9734\n",
      "Epoch 15/30\n",
      "1719/1719 [==============================] - 3s 2ms/step - loss: 0.0762 - sparse_categorical_accuracy: 0.9787 - val_loss: 0.0905 - val_sparse_categorical_accuracy: 0.9752\n",
      "Epoch 16/30\n",
      "1719/1719 [==============================] - 3s 2ms/step - loss: 0.0716 - sparse_categorical_accuracy: 0.9796 - val_loss: 0.0886 - val_sparse_categorical_accuracy: 0.9740\n",
      "Epoch 17/30\n",
      "1719/1719 [==============================] - 3s 2ms/step - loss: 0.0672 - sparse_categorical_accuracy: 0.9813 - val_loss: 0.0867 - val_sparse_categorical_accuracy: 0.9758\n",
      "Epoch 18/30\n",
      "1719/1719 [==============================] - 3s 2ms/step - loss: 0.0631 - sparse_categorical_accuracy: 0.9824 - val_loss: 0.0835 - val_sparse_categorical_accuracy: 0.9768\n",
      "Epoch 19/30\n",
      "1719/1719 [==============================] - 3s 2ms/step - loss: 0.0592 - sparse_categorical_accuracy: 0.9837 - val_loss: 0.0808 - val_sparse_categorical_accuracy: 0.9764\n",
      "Epoch 20/30\n",
      "1719/1719 [==============================] - 3s 2ms/step - loss: 0.0560 - sparse_categorical_accuracy: 0.9847 - val_loss: 0.0786 - val_sparse_categorical_accuracy: 0.9780\n",
      "Epoch 21/30\n",
      "1719/1719 [==============================] - 3s 2ms/step - loss: 0.0526 - sparse_categorical_accuracy: 0.9854 - val_loss: 0.0777 - val_sparse_categorical_accuracy: 0.9772\n",
      "Epoch 22/30\n",
      "1719/1719 [==============================] - 3s 2ms/step - loss: 0.0497 - sparse_categorical_accuracy: 0.9866 - val_loss: 0.0820 - val_sparse_categorical_accuracy: 0.9746\n",
      "Epoch 23/30\n",
      "1719/1719 [==============================] - 3s 2ms/step - loss: 0.0471 - sparse_categorical_accuracy: 0.9874 - val_loss: 0.0768 - val_sparse_categorical_accuracy: 0.9780\n",
      "Epoch 24/30\n",
      "1719/1719 [==============================] - 3s 2ms/step - loss: 0.0444 - sparse_categorical_accuracy: 0.9883 - val_loss: 0.0746 - val_sparse_categorical_accuracy: 0.9782\n",
      "Epoch 25/30\n",
      "1719/1719 [==============================] - 3s 2ms/step - loss: 0.0422 - sparse_categorical_accuracy: 0.9885 - val_loss: 0.0751 - val_sparse_categorical_accuracy: 0.9796\n",
      "Epoch 26/30\n",
      "1719/1719 [==============================] - 3s 2ms/step - loss: 0.0397 - sparse_categorical_accuracy: 0.9897 - val_loss: 0.0728 - val_sparse_categorical_accuracy: 0.9782\n",
      "Epoch 27/30\n",
      "1719/1719 [==============================] - 3s 2ms/step - loss: 0.0377 - sparse_categorical_accuracy: 0.9903 - val_loss: 0.0733 - val_sparse_categorical_accuracy: 0.9792\n",
      "Epoch 28/30\n",
      "1719/1719 [==============================] - 3s 2ms/step - loss: 0.0359 - sparse_categorical_accuracy: 0.9906 - val_loss: 0.0717 - val_sparse_categorical_accuracy: 0.9796\n",
      "Epoch 29/30\n",
      "1719/1719 [==============================] - 3s 2ms/step - loss: 0.0339 - sparse_categorical_accuracy: 0.9914 - val_loss: 0.0713 - val_sparse_categorical_accuracy: 0.9800\n",
      "Epoch 30/30\n",
      "1719/1719 [==============================] - 3s 2ms/step - loss: 0.0322 - sparse_categorical_accuracy: 0.9924 - val_loss: 0.0710 - val_sparse_categorical_accuracy: 0.9792\n"
     ]
    }
   ],
   "source": [
    "history = model.fit(X_train, y_train, epochs=30, validation_data=(X_valid, y_valid))"
   ]
  },
  {
   "cell_type": "code",
   "execution_count": 11,
   "metadata": {},
   "outputs": [
    {
     "data": {
      "text/plain": [
       "<matplotlib.axes._subplots.AxesSubplot at 0x130360bb688>"
      ]
     },
     "execution_count": 11,
     "metadata": {},
     "output_type": "execute_result"
    },
    {
     "data": {
      "image/png": "[encoded data removed]",
      "text/plain": [
       "<Figure size 720x432 with 1 Axes>"
      ]
     },
     "metadata": {
      "needs_background": "light"
     },
     "output_type": "display_data"
    }
   ],
   "source": [
    "pd.DataFrame(history.history).plot(figsize=(10, 6))"
   ]
  },
  {
   "cell_type": "code",
   "execution_count": 12,
   "metadata": {},
   "outputs": [
    {
     "name": "stdout",
     "output_type": "stream",
     "text": [
      "313/313 [==============================] - 0s 2ms/step - loss: 14.9817 - sparse_categorical_accuracy: 0.9733\n"
     ]
    },
    {
     "data": {
      "text/plain": [
       "[14.98169231414795, 0.9732999801635742]"
      ]
     },
     "execution_count": 12,
     "metadata": {},
     "output_type": "execute_result"
    }
   ],
   "source": [
    "model.evaluate(X_test, y_test)"
   ]
  },
  {
   "cell_type": "code",
   "execution_count": null,
   "metadata": {},
   "outputs": [],
   "source": []
  }
 ],
 "metadata": {
  "kernelspec": {
   "display_name": "Python 3",
   "language": "python",
   "name": "python3"
  },
  "language_info": {
   "codemirror_mode": {
    "name": "ipython",
    "version": 3
   },
   "file_extension": ".py",
   "mimetype": "text/x-python",
   "name": "python",
   "nbconvert_exporter": "python",
   "pygments_lexer": "ipython3",
   "version": "3.7.4"
  }
 },
 "nbformat": 4,
 "nbformat_minor": 2
}
