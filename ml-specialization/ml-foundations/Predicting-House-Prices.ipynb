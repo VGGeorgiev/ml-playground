{
 "cells": [
  {
   "cell_type": "markdown",
   "metadata": {},
   "source": [
    "# Predicting House Prices\n",
    "The purpose here is to choose the right model for our data set, train the model from data set and test the predictions with testing data."
   ]
  },
  {
   "cell_type": "code",
   "execution_count": 1,
   "metadata": {
    "collapsed": true
   },
   "outputs": [],
   "source": [
    "import graphlab"
   ]
  },
  {
   "cell_type": "code",
   "execution_count": 2,
   "metadata": {
    "collapsed": false
   },
   "outputs": [
    {
     "name": "stderr",
     "output_type": "stream",
     "text": [
      "[INFO] graphlab.cython.cy_server: GraphLab Create v2.1 started. Logging: C:\\Users\\VGEORG~1\\AppData\\Local\\Temp\\graphlab_server_1507038160.log.0\n"
     ]
    },
    {
     "name": "stdout",
     "output_type": "stream",
     "text": [
      "This non-commercial license of GraphLab Create for academic use is assigned to vggeorgiev@mail.bg and will expire on July 04, 2018.\n"
     ]
    }
   ],
   "source": [
    "houses = graphlab.SFrame('home_data.gl/')"
   ]
  },
  {
   "cell_type": "code",
   "execution_count": 3,
   "metadata": {
    "collapsed": true
   },
   "outputs": [],
   "source": [
    "graphlab.canvas.set_target('ipynb')"
   ]
  },
  {
   "cell_type": "code",
   "execution_count": 4,
   "metadata": {
    "collapsed": true
   },
   "outputs": [
    {
     "data": {
      "application/javascript": [
       "$(\"head\").append($(\"<link/>\").attr({\n",
       "  rel:  \"stylesheet\",\n",
       "  type: \"text/css\",\n",
       "  href: \"//cdnjs.cloudflare.com/ajax/libs/font-awesome/4.1.0/css/font-awesome.min.css\"\n",
       "}));\n",
       "$(\"head\").append($(\"<link/>\").attr({\n",
       "  rel:  \"stylesheet\",\n",
       "  type: \"text/css\",\n",
       "  href: \"https://static.turi.com/products/graphlab-create/2.1/canvas/css/canvas.css\"\n",
       "}));\n",
       "\n",
       "            (function(){\n",
       "\n",
       "                var e = null;\n",
       "                if (typeof element == 'undefined') {\n",
       "                    var scripts = document.getElementsByTagName('script');\n",
       "                    var thisScriptTag = scripts[scripts.length-1];\n",
       "                    var parentDiv = thisScriptTag.parentNode;\n",
       "                    e = document.createElement('div');\n",
       "                    parentDiv.appendChild(e);\n",
       "                } else {\n",
       "                    e = element[0];\n",
       "                }\n",
       "\n",
       "                if (typeof requirejs !== 'undefined') {\n",
       "                    // disable load timeout; ipython_app.js is large and can take a while to load.\n",
       "                    requirejs.config({waitSeconds: 0});\n",
       "                }\n",
       "\n",
       "                require(['https://static.turi.com/products/graphlab-create/2.1/canvas/js/ipython_app.js'], function(IPythonApp){\n",
       "                    var app = new IPythonApp();\n",
       "                    app.attachView('sframe','Plots', {\"selected_variable\": {\"name\": [\"houses\"], \"descriptives\": {\"rows\": 21613, \"columns\": 21}, \"view_component\": \"Plots\", \"view_file\": \"sframe\", \"view_params\": {\"y\": \"price\", \"x\": \"sqft_living\", \"columns\": [\"id\", \"date\", \"price\", \"bedrooms\", \"bathrooms\", \"sqft_living\", \"sqft_lot\", \"floors\", \"waterfront\", \"view\", \"condition\", \"grade\", \"sqft_above\", \"sqft_basement\", \"yr_built\", \"yr_renovated\", \"zipcode\", \"lat\", \"long\", \"sqft_living15\", \"sqft_lot15\"], \"view\": \"Scatter Plot\"}, \"view_components\": [\"Summary\", \"Table\", \"Bar Chart\", \"BoxWhisker Plot\", \"Line Chart\", \"Scatter Plot\", \"Heat Map\", \"Plots\"], \"type\": \"SFrame\", \"columns\": [{\"dtype\": \"str\", \"name\": \"id\"}, {\"dtype\": \"datetime\", \"name\": \"date\"}, {\"dtype\": \"int\", \"name\": \"price\"}, {\"dtype\": \"str\", \"name\": \"bedrooms\"}, {\"dtype\": \"str\", \"name\": \"bathrooms\"}, {\"dtype\": \"int\", \"name\": \"sqft_living\"}, {\"dtype\": \"int\", \"name\": \"sqft_lot\"}, {\"dtype\": \"str\", \"name\": \"floors\"}, {\"dtype\": \"int\", \"name\": \"waterfront\"}, {\"dtype\": \"int\", \"name\": \"view\"}, {\"dtype\": \"int\", \"name\": \"condition\"}, {\"dtype\": \"int\", \"name\": \"grade\"}, {\"dtype\": \"int\", \"name\": \"sqft_above\"}, {\"dtype\": \"int\", \"name\": \"sqft_basement\"}, {\"dtype\": \"int\", \"name\": \"yr_built\"}, {\"dtype\": \"int\", \"name\": \"yr_renovated\"}, {\"dtype\": \"str\", \"name\": \"zipcode\"}, {\"dtype\": \"float\", \"name\": \"lat\"}, {\"dtype\": \"float\", \"name\": \"long\"}, {\"dtype\": \"float\", \"name\": \"sqft_living15\"}, {\"dtype\": \"float\", \"name\": \"sqft_lot15\"}], \"column_identifiers\": [\"bathrooms\", \"sqft_living15\", \"sqft_above\", \"grade\", \"yr_built\", \"price\", \"bedrooms\", \"zipcode\", \"long\", \"id\", \"sqft_lot15\", \"sqft_living\", \"floors\", \"sqft_lot\", \"date\", \"waterfront\", \"sqft_basement\", \"yr_renovated\", \"lat\", \"condition\", \"view\"]}, \"complete\": 1, \"ipython\": true, \"progress\": 1.0, \"data\": [[1210, 160000], [1650, 216300], [6980, 3100000], [1250, 443725], [1680, 510000], [1730, 357500], [970, 215000], [1750, 625000], [2710, 260000], [2700, 1015000], [1220, 199000], [3140, 401500], [4630, 809000], [1160, 375000], [2270, 780000], [1880, 299500], [2100, 429000], [3200, 490000], [820, 554000], [1380, 457000], [1480, 395000], [1390, 354000], [1310, 241500], [840, 275000], [2640, 387990], [2220, 427000], [1650, 424950], [1200, 249000], [1370, 160000], [3040, 620000], [2019, 293000], [2160, 670000], [2115, 272000], [1090, 535000], [2060, 322500], [2980, 622500], [2040, 619000], [2090, 340000], [1570, 500000], [2000, 677000], [1440, 705000], [1990, 330000], [980, 595000], [1750, 322000], [2120, 612000], [2510, 358000], [5860, 2400000], [2810, 533000], [1970, 400000], [1630, 445000], [4530, 950000], [950, 330000], [1410, 600000], [1780, 587500], [3400, 510000], [1240, 375000], [1340, 370350], [2560, 1175000], [1880, 515000], [1280, 240000], [2150, 650000], [3280, 809950], [1880, 284000], [1540, 549000], [2320, 541500], [1340, 390000], [2720, 975000], [1670, 268500], [1200, 240000], [1880, 1000000], [3030, 790000], [2670, 798800], [2120, 531000], [2095, 292500], [1420, 364000], [2210, 733000], [1760, 380000], [2320, 530000], [2430, 449500], [3370, 480000], [1520, 160000], [3600, 923990], [1660, 188000], [1960, 860000], [1980, 796000], [1460, 233000], [3910, 470000], [1920, 625000], [3420, 549900], [2216, 667000], [3570, 663000], [1510, 525000], [2050, 360000], [1530, 546000], [2700, 426500], [1740, 612000], [1010, 279000], [1340, 265000], [1800, 364000], [4180, 869000], [1080, 192500], [1660, 335000], [1940, 635000], [2233, 317500], [1360, 430000], [2410, 899100], [1280, 299500], [1810, 1247000], [1420, 268000], [3720, 875000], [2100, 540000], [1540, 475000], [2400, 590000], [1110, 249000], [3230, 480000], [3150, 762500], [1380, 285000], [1590, 225500], [2960, 740000], [1610, 535000], [2400, 660000], [2070, 449950], [1790, 260000], [1850, 355000], [2860, 530000], [2290, 825000], [2040, 480000], [1960, 250000], [1940, 550000], [1310, 306500], [2950, 810000], [2720, 665000], [2040, 1300000], [2961, 695000], [1610, 925000], [1800, 471001], [1750, 499000], [1660, 452000], [1460, 538000], [1270, 325000], [2120, 597000], [2220, 771000], [2800, 1850000], [4130, 995000], [1660, 367500], [1260, 329950], [1760, 310000], [1360, 244900], [1410, 425000], [1620, 265000], [2170, 745000], [1020, 187000], [1520, 738000], [1820, 465000], [1720, 638000], [740, 290000], [1480, 600000], [1440, 232000], [3010, 500000], [1990, 575000], [1450, 380000], [3450, 805000], [2400, 592000], [2600, 310000], [3480, 810000], [2380, 315000], [1930, 432500], [1776, 620000], [1170, 185000], [1010, 350000], [2540, 580000], [1330, 235000], [1490, 391000], [3160, 840000], [1600, 380000], [1970, 650000], [3490, 610000], [1660, 412500], [1970, 540000], [2200, 300000], [1670, 260000], [1700, 419000], [1540, 512500], [1590, 295000], [870, 387500], [3230, 715000], [1800, 365000], [1660, 350000], [1280, 215000], [1660, 315000], [920, 285000], [3120, 799000], [1540, 462500], [3420, 548000], [3510, 659950], [1690, 256883], [1350, 288790], [1490, 245000], [3660, 475000], [1350, 385000], [2000, 755000], [1120, 750000], [9200, 5570000], [4340, 419000], [1600, 340000], [1240, 192000], [1820, 456000], [1800, 365000], [2700, 314900], [1260, 290000], [1350, 400000], [5780, 2890000], [1200, 282000], [710, 362362], [1720, 477000], [1090, 345000], [4120, 968933], [1290, 275000], [1770, 593567], [960, 234000], [1490, 429000], [2970, 526000], [1876, 613500], [1280, 190000], [2490, 725000], [1570, 550000], [1830, 339000], [2880, 525000], [1020, 293000], [2100, 485000], [1820, 499950], [1400, 639000], [1780, 586500], [1140, 153000], [1970, 437500], [3720, 650000], [2180, 1410000], [1840, 660000], [2030, 430000], [1910, 657500], [1410, 343000], [1580, 500000], [4070, 845000], [2940, 420000], [3400, 828200], [2740, 363000], [3650, 1280000], [1680, 175000], [1720, 339000], [2150, 580000], [1550, 390000], [1490, 898000], [2550, 340000], [1950, 255000], [1600, 502000], [1210, 380000], [1070, 226750], [1580, 315000], [1380, 740000], [1320, 499950], [1420, 716000], [1670, 415900], [5640, 1999950], [2020, 385000], [2300, 440000], [1310, 435000], [1730, 250000], [1670, 696000], [1650, 400000], [3560, 865000], [940, 347000], [1430, 450000], [3160, 1250000], [1300, 236000], [1080, 331000], [5430, 1240000], [1840, 639000], [1390, 218500], [1340, 289571], [2950, 660500], [3700, 830000], [1290, 240000], [3540, 775000], [1900, 305000], [2550, 595000], [3270, 765000], [1200, 250000], [1710, 430000], [1260, 349500], [1730, 300000], [2310, 588000], [3310, 999950], [2190, 925000], [2070, 600000], [1730, 292000], [980, 390000], [1540, 565000], [2920, 675900], [2310, 760500], [1590, 267500], [2540, 945000], [2370, 540000], [2780, 478000], [1220, 580000], [1660, 269950], [3930, 1485000], [2810, 855000], [1370, 545000], [1690, 230500], [3350, 845000], [1840, 286500], [990, 222500], [1110, 252500], [2350, 625000], [2760, 1340000], [2390, 1350000], [2110, 606000], [3090, 1450000], [4600, 805000], [4260, 1000000], [2990, 510000], [1670, 289000], [4110, 1450000], [1720, 622200], [1380, 272000], [2020, 320000], [2070, 535000], [3530, 695000], [1490, 365250], [930, 360000], [3420, 975000], [2020, 575000], [2650, 790000], [2610, 320000], [1900, 1210000], [1990, 470000], [2000, 295000], [1780, 935000], [1090, 158000], [3860, 2135000], [1510, 399950], [1450, 210000], [1480, 312500], [1200, 179950], [3220, 710000], [3510, 674950], [2750, 525000], [1780, 580000], [2120, 680000], [2210, 799000], [1320, 299950], [3030, 590000], [2140, 393000], [4250, 1530000], [2670, 515000], [1400, 358000], [2420, 771000], [1700, 384000], [1430, 530000], [2200, 339950], [2820, 318000], [1430, 545000], [1250, 221000], [2730, 565000], [1930, 490000], [1430, 351000], [2600, 428000], [3040, 840000], [1780, 320000], [1050, 219000], [1240, 290000], [1250, 370000], [1260, 455000], [4280, 734950], [2350, 615000], [2330, 390000], [1990, 542000], [2160, 228950], [1440, 410000], [1890, 775000], [1010, 345000], [3360, 950000], [970, 302860], [2010, 429950], [1480, 375950], [2690, 730000], [1040, 299000], [2560, 925000], [3460, 1088889], [1620, 599995], [2030, 365000], [3200, 785000], [3430, 850000], [2810, 531155], [2010, 570000], [1440, 413800], [2670, 865000], [1860, 526500], [1780, 443000], [1990, 507500], [1440, 445000], [3540, 925000], [3160, 1127000], [1390, 208800], [1240, 390000], [1510, 650000], [2740, 525000], [1250, 255000], [2060, 340000], [2290, 545000], [1740, 395000], [2300, 294000], [1460, 204000], [840, 124000], [1270, 570000], [4220, 1060000], [1660, 324500], [2540, 799990], [2390, 330000], [1040, 172500], [3560, 770000], [1920, 341000], [1250, 419950], [2180, 435000], [3240, 654000], [2580, 570000], [3160, 660000], [2190, 294000], [2600, 1225000], [1500, 257100], [2430, 762400], [3360, 945800], [2960, 605000], [900, 205500], [3630, 1563100], [2520, 508500], [2320, 666570], [4410, 765000], [1560, 494400], [1570, 417000], [2440, 765000], [2230, 368750], [1470, 445434], [1310, 717000], [2500, 760000], [2030, 295000], [1850, 489200], [1470, 510000], [1520, 533250], [1980, 470000], [1620, 641000], [2650, 352000], [2190, 349000], [2160, 324888], [1870, 811000], [1220, 415500], [2410, 715500], [1970, 705000], [1410, 481450], [2770, 285000], [1540, 582500], [1530, 450000], [1350, 428000], [1430, 285000], [1870, 230000], [3620, 394000], [1500, 270000], [2080, 660000], [3300, 760000], [920, 650000], [4270, 1356925], [2110, 603000], [1430, 399000], [1540, 202500], [2390, 545000], [1710, 305000], [800, 465000], [2890, 515000], [1650, 265000], [3610, 635000], [3140, 744000], [1290, 402500], [1790, 366000], [2800, 449950], [1847, 215000], [2200, 424000], [2260, 685000], [1465, 489000], [1824, 375900], [3400, 1280000], [1720, 350000], [1500, 239000], [1910, 515000], [2920, 823000], [1770, 538000], [2280, 749700], [1470, 352500], [1510, 260000], [2710, 539500], [4320, 565000], [1830, 638000], [3280, 706000], [3190, 1700000], [2640, 1398000], [1310, 450000], [2570, 472000], [2110, 490000], [3860, 900000], [1860, 625000], [4030, 1485000], [1830, 460000], [2490, 449400], [3530, 1655000], [1000, 180000], [1900, 615000], [2100, 650000], [1860, 352500], [2100, 305000], [3560, 616950], [1790, 585000], [2260, 604000], [2400, 280000], [3830, 1250000], [1850, 383000], [1170, 530000], [2000, 440000], [1770, 420000], [2070, 469000], [3180, 510000], [988, 295000], [2790, 533112], [1010, 259950], [1690, 530000], [1590, 355000], [960, 237000], [2080, 357500], [2180, 379000], [3090, 760005], [1630, 540000], [2820, 934000], [2210, 635250], [1200, 476500], [1140, 375000], [1710, 290000], [2120, 375000], [1160, 305000], [2020, 528000], [1930, 250600], [2790, 970000], [1880, 560000], [1630, 246000], [2460, 464000], [2330, 500000], [2240, 535000], [950, 520000], [1840, 499000], [800, 335950], [1400, 238000], [720, 285000], [1440, 323000], [4310, 1130000], [2720, 632500], [1700, 407000], [1850, 585000], [2350, 449000], [1640, 410000], [1180, 260000], [4510, 1870000], [1630, 557000], [2380, 455000], [1510, 248000], [1430, 221000], [1750, 382000], [2200, 572000], [1710, 670000], [3550, 920000], [1750, 315000], [2220, 610000], [1510, 520000], [1860, 775000], [2400, 335750], [3490, 414000], [1660, 620000], [2716, 452000], [2890, 502000], [1440, 265000], [1130, 270000], [980, 260000], [2700, 565000], [2520, 372000], [1322, 350000], [2500, 432500], [1200, 306000], [1300, 540000], [3610, 777000], [3990, 570000], [1460, 499000], [2020, 868000], [1370, 479000], [1850, 260000], [2190, 700000], [2420, 399950], [1500, 295000], [2130, 575000], [1510, 420000], [1170, 399000], [1270, 531000], [3810, 2005000], [2740, 651000], [1650, 267500], [2200, 432000], [1260, 255000], [7220, 1940000], [2050, 427000], [2160, 480000], [2230, 920000], [3300, 1105000], [1830, 298900], [3216, 498445], [1670, 418000], [2090, 499000], [2600, 780000], [2700, 515000], [700, 208000], [990, 325000], [930, 141800], [1140, 410000], [1900, 1042500], [1370, 385000], [2710, 615000], [1130, 343000], [2310, 364950], [2080, 426700], [820, 245000], [890, 542000], [1100, 150000], [2450, 760000], [1880, 585000], [1296, 399950], [2420, 482000], [1730, 210000], [1200, 235000], [2810, 301000], [2520, 670000], [920, 490000], [2100, 399000], [3700, 1728000], [2056, 289000], [1730, 446000], [1540, 499000], [3080, 1280000], [1200, 385000], [3380, 751000], [1840, 512500], [1490, 348000], [1220, 310000], [3930, 3070000], [1170, 324800], [2450, 836000], [2160, 435000], [2730, 565997], [1900, 315000], [2180, 275000], [1730, 267950], [1020, 465000], [4560, 1490000], [1540, 384950], [2530, 975000], [1720, 550388], [1640, 500000], [910, 455000], [2460, 990000], [1430, 429000], [2660, 768000], [1370, 205000], [5000, 1730000], [2150, 428040], [1770, 275000], [3290, 775000], [1400, 320000], [3060, 381000], [3930, 1875000], [1400, 515000], [1200, 272000], [1610, 450000], [3150, 681716], [1410, 658500], [1440, 435000], [1370, 388000], [2290, 650000], [1120, 552000], [1980, 564000], [1650, 378000], [1320, 430000], [870, 435000], [1430, 397500], [2050, 305000], [1680, 515000], [3520, 795000], [2340, 439990], [1800, 415000], [4250, 1339000], [1450, 244000], [2230, 544500], [3930, 1093000], [1640, 420000], [1820, 268500], [1150, 334000], [1490, 310000], [1430, 330000], [2120, 525000], [1480, 310000], [1360, 511500], [1890, 620000], [2900, 675000], [1140, 467000], [1010, 405500], [2660, 452000], [740, 407000], [2430, 502500], [2030, 349500], [8010, 5110800], [4670, 1000000], [2460, 568500], [5620, 1569500], [1030, 310000], [3490, 830000], [1900, 265000], [1470, 328000], [1780, 325000], [1210, 310000], [1360, 237100], [1880, 735000], [1950, 635000], [2156, 347500], [2220, 392000], [1180, 244000], [3780, 549950], [2700, 837500], [620, 148000], [1870, 680000], [2740, 259000], [1980, 580000], [2620, 460000], [1710, 543000], [2675, 660000], [2760, 600000], [1690, 345000], [2990, 900000], [2070, 405000], [2540, 690000], [2720, 560000], [1250, 250000], [1690, 475000], [2150, 380000], [3550, 775000], [3750, 942500], [1920, 299000], [2780, 475000], [1670, 274950], [910, 300000], [1350, 394950], [1850, 295000], [2130, 338500], [4170, 623300], [1970, 406500], [1950, 315000], [2030, 765000], [1530, 448000], [3170, 405000], [2340, 850000], [2620, 775000], [1510, 327000], [1930, 586000], [1720, 550000], [1820, 320000], [1890, 269950], [1930, 326000], [1770, 369900], [1690, 370000], [3510, 1255000], [6640, 4500000], [740, 299000], [1080, 345000], [1260, 354000], [1930, 218000], [3090, 938000], [1810, 550000], [1280, 184500], [2160, 359000], [4010, 1387000], [2810, 675000], [2206, 780000], [1510, 453000], [1300, 250000], [1760, 429950], [2080, 550000], [2470, 732500], [1540, 302000], [750, 250000], [1750, 585000], [1520, 292600], [1330, 236000], [1770, 455000], [3630, 834950], [2290, 991700], [1160, 285000], [1620, 276750], [4220, 799950], [2510, 363000], [2290, 325500], [2510, 800000], [2190, 770000], [3240, 1288000], [2150, 400000], [2170, 242050], [3000, 523000], [1150, 115000], [2660, 851000], [2180, 634950], [1820, 488500], [1460, 685000], [1610, 280000], [1910, 528000], [1760, 300000], [2230, 1450000], [2630, 270000], [2390, 570000], [700, 395000], [800, 278750], [1820, 790000], [2310, 450000], [2920, 795000], [1670, 476500], [860, 330000], [980, 329900], [2160, 653000], [1790, 382000], [2400, 275000], [2310, 336950], [1300, 350000], [2350, 555000], [2840, 270000], [2600, 515000], [5190, 1702500], [800, 353500], [1940, 285000], [740, 450000], [5150, 2140000], [2600, 641000], [1750, 340000], [2870, 485000], [1940, 1330000], [980, 133000], [1790, 250000], [1450, 822500], [2850, 335000], [1240, 529950], [1320, 206000], [2210, 429000], [2510, 588000], [2700, 723000], [2030, 530000], [1030, 718000], [1370, 593500], [2238, 330000], [3950, 1780000], [2670, 437850], [2140, 680000], [1660, 235000], [1800, 850000], [1000, 375000], [1650, 619000], [3210, 870000], [1608, 279950], [2140, 524000], [1010, 215000], [1360, 370000], [2270, 292000], [3350, 739999], [1260, 300000], [1140, 399995], [2470, 630000], [2040, 720000], [3670, 1500000], [1320, 420200], [2680, 775000], [1320, 207500], [2000, 320000], [2680, 499000], [2190, 1565000], [2080, 442000], [3000, 759900], [2220, 862000], [1405, 405000], [1280, 405000], [1560, 566000], [2200, 414950], [1690, 293000], [2330, 850000], [1820, 424000], [4130, 1900000], [1150, 445000], [1280, 215000], [700, 267800], [1870, 580000], [1080, 485000], [2900, 770000], [2160, 550000], [1240, 214000], [2110, 825000], [2250, 370000], [1260, 259000], [2710, 591000], [1400, 575000], [1520, 450000], [1340, 297000], [1630, 425000], [3430, 829950], [1250, 358000], [2560, 399500], [1770, 295000], [1070, 299000], [1800, 425000], [1160, 250000], [1390, 425000], [1260, 490000], [1150, 346100], [1790, 410000], [3820, 550000], [1320, 300000], [1690, 419990], [2040, 1272500], [2440, 515000], [1670, 540000], [2240, 530000], [3310, 670000], [3060, 753000], [2796, 349950], [3860, 1698888], [2520, 590000], [1010, 290000], [1410, 399500], [1370, 257950], [1370, 296000], [2010, 299500], [1240, 543000], [1420, 294000], [1310, 510000], [2470, 660000], [2090, 693000], [1910, 300000], [2170, 562000], [1840, 327000], [2200, 265000], [1810, 257000], [2780, 775000], [1270, 235000], [2010, 699000], [1880, 538000], [3020, 1900000], [1960, 449000], [1730, 312000], [4200, 1650000], [2810, 830000], [1810, 326500], [3220, 359999], [1600, 355000], [1040, 290000], [2380, 446250], [1610, 249900], [1440, 509990], [1785, 282000], [2910, 765000], [2240, 600000], [3090, 551000], [1000, 350000], [2300, 420000], [1180, 425000], [1900, 431500], [1900, 280000], [2000, 538000], [2500, 565000], [1450, 431000], [880, 326100], [3970, 811500], [1340, 410000], [1670, 332500], [2155, 358800], [3470, 455000], [1660, 975000], [3050, 890000], [1068, 239950], [1720, 169000], [740, 178500], [940, 350000], [1770, 450000], [6550, 1500000], [3830, 1850000], [1340, 315000]], \"columns\": [{\"dtype\": \"str\", \"name\": \"id\"}, {\"dtype\": \"datetime\", \"name\": \"date\"}, {\"dtype\": \"int\", \"name\": \"price\"}, {\"dtype\": \"str\", \"name\": \"bedrooms\"}, {\"dtype\": \"str\", \"name\": \"bathrooms\"}, {\"dtype\": \"int\", \"name\": \"sqft_living\"}, {\"dtype\": \"int\", \"name\": \"sqft_lot\"}, {\"dtype\": \"str\", \"name\": \"floors\"}, {\"dtype\": \"int\", \"name\": \"waterfront\"}, {\"dtype\": \"int\", \"name\": \"view\"}, {\"dtype\": \"int\", \"name\": \"condition\"}, {\"dtype\": \"int\", \"name\": \"grade\"}, {\"dtype\": \"int\", \"name\": \"sqft_above\"}, {\"dtype\": \"int\", \"name\": \"sqft_basement\"}, {\"dtype\": \"int\", \"name\": \"yr_built\"}, {\"dtype\": \"int\", \"name\": \"yr_renovated\"}, {\"dtype\": \"str\", \"name\": \"zipcode\"}, {\"dtype\": \"float\", \"name\": \"lat\"}, {\"dtype\": \"float\", \"name\": \"long\"}, {\"dtype\": \"float\", \"name\": \"sqft_living15\"}, {\"dtype\": \"float\", \"name\": \"sqft_lot15\"}]}, e);\n",
       "                });\n",
       "            })();\n",
       "        "
      ]
     },
     "metadata": {},
     "output_type": "display_data"
    }
   ],
   "source": [
    "houses.show(view = 'Scatter Plot', x = 'sqft_living', y = 'price')"
   ]
  },
  {
   "cell_type": "markdown",
   "metadata": {},
   "source": [
    "## Split data into training and testing.\n",
    "We use seed=0 so that everyone running this notebook gets the same results. In practice, you may set a random seed (or let GraphLab Create pick a random seed for you)."
   ]
  },
  {
   "cell_type": "code",
   "execution_count": 6,
   "metadata": {
    "collapsed": false
   },
   "outputs": [],
   "source": [
    "houses_train, houses_test = houses.random_split(0.9, seed = 0)"
   ]
  },
  {
   "cell_type": "code",
   "execution_count": 8,
   "metadata": {
    "collapsed": true
   },
   "outputs": [],
   "source": [
    "features = [\n",
    "'bedrooms', 'bathrooms', 'sqft_living', 'sqft_lot', 'floors', 'zipcode',\n",
    "'condition', # condition of house\t\t\t\t\n",
    "'grade', # measure of quality of construction\t\t\t\t\n",
    "'waterfront', # waterfront property\t\t\t\t\n",
    "'view', # type of view\t\t\t\t\n",
    "'sqft_above', # square feet above ground\t\t\t\t\n",
    "'sqft_basement', # square feet in basement\t\t\t\t\n",
    "'yr_built', # the year built\t\t\t\t\n",
    "'yr_renovated', # the year renovated\t\t\t\t\n",
    "'lat', 'long', # the lat-long of the parcel\t\t\t\t\n",
    "'sqft_living15', # average sq.ft. of 15 nearest neighbors \t\t\t\t\n",
    "'sqft_lot15', # average lot size of 15 nearest neighbors \n",
    "]"
   ]
  },
  {
   "cell_type": "code",
   "execution_count": 10,
   "metadata": {
    "collapsed": true
   },
   "outputs": [
    {
     "data": {
      "text/html": [
       "<pre>Linear regression:</pre>"
      ],
      "text/plain": [
       "Linear regression:"
      ]
     },
     "metadata": {},
     "output_type": "display_data"
    },
    {
     "data": {
      "text/html": [
       "<pre>--------------------------------------------------------</pre>"
      ],
      "text/plain": [
       "--------------------------------------------------------"
      ]
     },
     "metadata": {},
     "output_type": "display_data"
    },
    {
     "data": {
      "text/html": [
       "<pre>Number of examples          : 19410</pre>"
      ],
      "text/plain": [
       "Number of examples          : 19410"
      ]
     },
     "metadata": {},
     "output_type": "display_data"
    },
    {
     "data": {
      "text/html": [
       "<pre>Number of features          : 18</pre>"
      ],
      "text/plain": [
       "Number of features          : 18"
      ]
     },
     "metadata": {},
     "output_type": "display_data"
    },
    {
     "data": {
      "text/html": [
       "<pre>Number of unpacked features : 18</pre>"
      ],
      "text/plain": [
       "Number of unpacked features : 18"
      ]
     },
     "metadata": {},
     "output_type": "display_data"
    },
    {
     "data": {
      "text/html": [
       "<pre>Number of coefficients    : 127</pre>"
      ],
      "text/plain": [
       "Number of coefficients    : 127"
      ]
     },
     "metadata": {},
     "output_type": "display_data"
    },
    {
     "data": {
      "text/html": [
       "<pre>Starting Newton Method</pre>"
      ],
      "text/plain": [
       "Starting Newton Method"
      ]
     },
     "metadata": {},
     "output_type": "display_data"
    },
    {
     "data": {
      "text/html": [
       "<pre>--------------------------------------------------------</pre>"
      ],
      "text/plain": [
       "--------------------------------------------------------"
      ]
     },
     "metadata": {},
     "output_type": "display_data"
    },
    {
     "data": {
      "text/html": [
       "<pre>+-----------+----------+--------------+--------------------+---------------+</pre>"
      ],
      "text/plain": [
       "+-----------+----------+--------------+--------------------+---------------+"
      ]
     },
     "metadata": {},
     "output_type": "display_data"
    },
    {
     "data": {
      "text/html": [
       "<pre>| Iteration | Passes   | Elapsed Time | Training-max_error | Training-rmse |</pre>"
      ],
      "text/plain": [
       "| Iteration | Passes   | Elapsed Time | Training-max_error | Training-rmse |"
      ]
     },
     "metadata": {},
     "output_type": "display_data"
    },
    {
     "data": {
      "text/html": [
       "<pre>+-----------+----------+--------------+--------------------+---------------+</pre>"
      ],
      "text/plain": [
       "+-----------+----------+--------------+--------------------+---------------+"
      ]
     },
     "metadata": {},
     "output_type": "display_data"
    },
    {
     "data": {
      "text/html": [
       "<pre>| 1         | 2        | 1.123498     | 3485756.779611     | 153895.604081 |</pre>"
      ],
      "text/plain": [
       "| 1         | 2        | 1.123498     | 3485756.779611     | 153895.604081 |"
      ]
     },
     "metadata": {},
     "output_type": "display_data"
    },
    {
     "data": {
      "text/html": [
       "<pre>+-----------+----------+--------------+--------------------+---------------+</pre>"
      ],
      "text/plain": [
       "+-----------+----------+--------------+--------------------+---------------+"
      ]
     },
     "metadata": {},
     "output_type": "display_data"
    },
    {
     "data": {
      "text/html": [
       "<pre>SUCCESS: Optimal solution found.</pre>"
      ],
      "text/plain": [
       "SUCCESS: Optimal solution found."
      ]
     },
     "metadata": {},
     "output_type": "display_data"
    },
    {
     "data": {
      "text/html": [
       "<pre></pre>"
      ],
      "text/plain": []
     },
     "metadata": {},
     "output_type": "display_data"
    }
   ],
   "source": [
    "linear_model = graphlab.linear_regression.create(houses_train, target = 'price', features = features, validation_set = None)"
   ]
  },
  {
   "cell_type": "code",
   "execution_count": 11,
   "metadata": {
    "collapsed": false
   },
   "outputs": [
    {
     "name": "stdout",
     "output_type": "stream",
     "text": [
      "{'max_error': 3529584.7278047157, 'rmse': 160349.40289527708}\n"
     ]
    }
   ],
   "source": [
    "print linear_model.evaluate(houses_test)"
   ]
  },
  {
   "cell_type": "markdown",
   "metadata": {},
   "source": [
    "## Visualizing predictions and comparing to the real values"
   ]
  },
  {
   "cell_type": "code",
   "execution_count": 13,
   "metadata": {
    "collapsed": true
   },
   "outputs": [],
   "source": [
    "import matplotlib.pyplot as plt\n",
    "%matplotlib inline"
   ]
  },
  {
   "cell_type": "code",
   "execution_count": 18,
   "metadata": {
    "collapsed": false
   },
   "outputs": [
    {
     "data": {
      "text/plain": [
       "[<matplotlib.lines.Line2D at 0x2163b320>,\n",
       " <matplotlib.lines.Line2D at 0x2163b3c8>]"
      ]
     },
     "execution_count": 18,
     "metadata": {},
     "output_type": "execute_result"
    },
    {
     "data": {
      "image/png": "[encoded data removed]",
      "text/plain": [
       "<matplotlib.figure.Figure at 0x208bae48>"
      ]
     },
     "metadata": {},
     "output_type": "display_data"
    }
   ],
   "source": [
    "plt.plot(houses_test['sqft_living'], houses_test['price'],'.',\n",
    "        houses_test['sqft_living'], linear_model.predict(houses_test),'.')"
   ]
  },
  {
   "cell_type": "code",
   "execution_count": 19,
   "metadata": {
    "collapsed": false,
    "scrolled": true
   },
   "outputs": [
    {
     "data": {
      "text/html": [
       "<div style=\"max-height:1000px;max-width:1500px;overflow:auto;\"><table frame=\"box\" rules=\"cols\">\n",
       "    <tr>\n",
       "        <th style=\"padding-left: 1em; padding-right: 1em; text-align: center\">name</th>\n",
       "        <th style=\"padding-left: 1em; padding-right: 1em; text-align: center\">index</th>\n",
       "        <th style=\"padding-left: 1em; padding-right: 1em; text-align: center\">value</th>\n",
       "        <th style=\"padding-left: 1em; padding-right: 1em; text-align: center\">stderr</th>\n",
       "    </tr>\n",
       "    <tr>\n",
       "        <td style=\"padding-left: 1em; padding-right: 1em; text-align: center; vertical-align: top\">(intercept)</td>\n",
       "        <td style=\"padding-left: 1em; padding-right: 1em; text-align: center; vertical-align: top\">None</td>\n",
       "        <td style=\"padding-left: 1em; padding-right: 1em; text-align: center; vertical-align: top\">-3373012.0147</td>\n",
       "        <td style=\"padding-left: 1em; padding-right: 1em; text-align: center; vertical-align: top\">6264574.85681</td>\n",
       "    </tr>\n",
       "    <tr>\n",
       "        <td style=\"padding-left: 1em; padding-right: 1em; text-align: center; vertical-align: top\">bedrooms</td>\n",
       "        <td style=\"padding-left: 1em; padding-right: 1em; text-align: center; vertical-align: top\">2</td>\n",
       "        <td style=\"padding-left: 1em; padding-right: 1em; text-align: center; vertical-align: top\">4114.49922652</td>\n",
       "        <td style=\"padding-left: 1em; padding-right: 1em; text-align: center; vertical-align: top\">3918.35004</td>\n",
       "    </tr>\n",
       "    <tr>\n",
       "        <td style=\"padding-left: 1em; padding-right: 1em; text-align: center; vertical-align: top\">bedrooms</td>\n",
       "        <td style=\"padding-left: 1em; padding-right: 1em; text-align: center; vertical-align: top\">4</td>\n",
       "        <td style=\"padding-left: 1em; padding-right: 1em; text-align: center; vertical-align: top\">-20424.9238273</td>\n",
       "        <td style=\"padding-left: 1em; padding-right: 1em; text-align: center; vertical-align: top\">2911.03245755</td>\n",
       "    </tr>\n",
       "    <tr>\n",
       "        <td style=\"padding-left: 1em; padding-right: 1em; text-align: center; vertical-align: top\">bedrooms</td>\n",
       "        <td style=\"padding-left: 1em; padding-right: 1em; text-align: center; vertical-align: top\">5</td>\n",
       "        <td style=\"padding-left: 1em; padding-right: 1em; text-align: center; vertical-align: top\">-40533.3921416</td>\n",
       "        <td style=\"padding-left: 1em; padding-right: 1em; text-align: center; vertical-align: top\">5020.94993476</td>\n",
       "    </tr>\n",
       "    <tr>\n",
       "        <td style=\"padding-left: 1em; padding-right: 1em; text-align: center; vertical-align: top\">bedrooms</td>\n",
       "        <td style=\"padding-left: 1em; padding-right: 1em; text-align: center; vertical-align: top\">1</td>\n",
       "        <td style=\"padding-left: 1em; padding-right: 1em; text-align: center; vertical-align: top\">29055.7891408</td>\n",
       "        <td style=\"padding-left: 1em; padding-right: 1em; text-align: center; vertical-align: top\">12550.1069159</td>\n",
       "    </tr>\n",
       "    <tr>\n",
       "        <td style=\"padding-left: 1em; padding-right: 1em; text-align: center; vertical-align: top\">bedrooms</td>\n",
       "        <td style=\"padding-left: 1em; padding-right: 1em; text-align: center; vertical-align: top\">6</td>\n",
       "        <td style=\"padding-left: 1em; padding-right: 1em; text-align: center; vertical-align: top\">-84542.4424602</td>\n",
       "        <td style=\"padding-left: 1em; padding-right: 1em; text-align: center; vertical-align: top\">10732.7789041</td>\n",
       "    </tr>\n",
       "    <tr>\n",
       "        <td style=\"padding-left: 1em; padding-right: 1em; text-align: center; vertical-align: top\">bedrooms</td>\n",
       "        <td style=\"padding-left: 1em; padding-right: 1em; text-align: center; vertical-align: top\">7</td>\n",
       "        <td style=\"padding-left: 1em; padding-right: 1em; text-align: center; vertical-align: top\">-243381.003988</td>\n",
       "        <td style=\"padding-left: 1em; padding-right: 1em; text-align: center; vertical-align: top\">27404.5957455</td>\n",
       "    </tr>\n",
       "    <tr>\n",
       "        <td style=\"padding-left: 1em; padding-right: 1em; text-align: center; vertical-align: top\">bedrooms</td>\n",
       "        <td style=\"padding-left: 1em; padding-right: 1em; text-align: center; vertical-align: top\">8</td>\n",
       "        <td style=\"padding-left: 1em; padding-right: 1em; text-align: center; vertical-align: top\">-143511.883278</td>\n",
       "        <td style=\"padding-left: 1em; padding-right: 1em; text-align: center; vertical-align: top\">47789.1998255</td>\n",
       "    </tr>\n",
       "    <tr>\n",
       "        <td style=\"padding-left: 1em; padding-right: 1em; text-align: center; vertical-align: top\">bedrooms</td>\n",
       "        <td style=\"padding-left: 1em; padding-right: 1em; text-align: center; vertical-align: top\">0</td>\n",
       "        <td style=\"padding-left: 1em; padding-right: 1em; text-align: center; vertical-align: top\">31079.4661539</td>\n",
       "        <td style=\"padding-left: 1em; padding-right: 1em; text-align: center; vertical-align: top\">55375.6977228</td>\n",
       "    </tr>\n",
       "    <tr>\n",
       "        <td style=\"padding-left: 1em; padding-right: 1em; text-align: center; vertical-align: top\">bedrooms</td>\n",
       "        <td style=\"padding-left: 1em; padding-right: 1em; text-align: center; vertical-align: top\">9</td>\n",
       "        <td style=\"padding-left: 1em; padding-right: 1em; text-align: center; vertical-align: top\">-222797.308361</td>\n",
       "        <td style=\"padding-left: 1em; padding-right: 1em; text-align: center; vertical-align: top\">70229.3303068</td>\n",
       "    </tr>\n",
       "</table>\n",
       "[127 rows x 4 columns]<br/>Note: Only the head of the SFrame is printed.<br/>You can use print_rows(num_rows=m, num_columns=n) to print more rows and columns.\n",
       "</div>"
      ],
      "text/plain": [
       "Columns:\n",
       "\tname\tstr\n",
       "\tindex\tstr\n",
       "\tvalue\tfloat\n",
       "\tstderr\tfloat\n",
       "\n",
       "Rows: 127\n",
       "\n",
       "Data:\n",
       "+-------------+-------+----------------+---------------+\n",
       "|     name    | index |     value      |     stderr    |\n",
       "+-------------+-------+----------------+---------------+\n",
       "| (intercept) |  None | -3373012.0147  | 6264574.85681 |\n",
       "|   bedrooms  |   2   | 4114.49922652  |   3918.35004  |\n",
       "|   bedrooms  |   4   | -20424.9238273 | 2911.03245755 |\n",
       "|   bedrooms  |   5   | -40533.3921416 | 5020.94993476 |\n",
       "|   bedrooms  |   1   | 29055.7891408  | 12550.1069159 |\n",
       "|   bedrooms  |   6   | -84542.4424602 | 10732.7789041 |\n",
       "|   bedrooms  |   7   | -243381.003988 | 27404.5957455 |\n",
       "|   bedrooms  |   8   | -143511.883278 | 47789.1998255 |\n",
       "|   bedrooms  |   0   | 31079.4661539  | 55375.6977228 |\n",
       "|   bedrooms  |   9   | -222797.308361 | 70229.3303068 |\n",
       "+-------------+-------+----------------+---------------+\n",
       "[127 rows x 4 columns]\n",
       "Note: Only the head of the SFrame is printed.\n",
       "You can use print_rows(num_rows=m, num_columns=n) to print more rows and columns."
      ]
     },
     "execution_count": 19,
     "metadata": {},
     "output_type": "execute_result"
    }
   ],
   "source": [
    "linear_model.get('coefficients')"
   ]
  },
  {
   "cell_type": "markdown",
   "metadata": {},
   "source": [
    "## Test with single houses from test data the predictions"
   ]
  },
  {
   "cell_type": "code",
   "execution_count": 33,
   "metadata": {
    "collapsed": false
   },
   "outputs": [
    {
     "name": "stdout",
     "output_type": "stream",
     "text": [
      "[571000L, ... ]\n"
     ]
    },
    {
     "data": {
      "text/plain": [
       "dtype: float\n",
       "Rows: 1\n",
       "[635061.5089312205]"
      ]
     },
     "execution_count": 33,
     "metadata": {},
     "output_type": "execute_result"
    }
   ],
   "source": [
    "house_1 = houses_test[houses_test['id'] == '8820901275']\n",
    "print house_1['price']\n",
    "\n",
    "linear_model.predict(house_1)"
   ]
  },
  {
   "cell_type": "code",
   "execution_count": 32,
   "metadata": {
    "collapsed": false
   },
   "outputs": [
    {
     "name": "stdout",
     "output_type": "stream",
     "text": [
      "[770000L, ... ]\n"
     ]
    },
    {
     "data": {
      "text/plain": [
       "dtype: float\n",
       "Rows: 1\n",
       "[792610.503649733]"
      ]
     },
     "execution_count": 32,
     "metadata": {},
     "output_type": "execute_result"
    }
   ],
   "source": [
    "house_2 = houses_test[houses_test['id'] == '3275860240']\n",
    "print house_2['price']\n",
    "\n",
    "linear_model.predict(house_2)"
   ]
  },
  {
   "cell_type": "markdown",
   "metadata": {},
   "source": [
    "## RMSE and RSS\n",
    "These are two common measures of error regression (RSS and RMSE). RMSE is simply the square root of the mean RS.\n",
    "RMSE = math.sqrt(RSS/N), where N is the number of data points. RMSE can be more intuitive than RSS, since its units are the same as that of the target column in the data, in our case the unit is dollars ($), and doesn't grow with the number of data points, like the RSS does."
   ]
  },
  {
   "cell_type": "code",
   "execution_count": null,
   "metadata": {
    "collapsed": true
   },
   "outputs": [],
   "source": []
  }
 ],
 "metadata": {
  "kernelspec": {
   "display_name": "Python 2",
   "language": "python",
   "name": "python2"
  },
  "language_info": {
   "codemirror_mode": {
    "name": "ipython",
    "version": 2
   },
   "file_extension": ".py",
   "mimetype": "text/x-python",
   "name": "python",
   "nbconvert_exporter": "python",
   "pygments_lexer": "ipython2",
   "version": "2.7.11"
  }
 },
 "nbformat": 4,
 "nbformat_minor": 0
}
