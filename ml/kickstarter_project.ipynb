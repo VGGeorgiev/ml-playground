{
 "cells": [
  {
   "cell_type": "code",
   "execution_count": 224,
   "metadata": {},
   "outputs": [],
   "source": [
    "%matplotlib inline\n",
    "import pandas as pd\n",
    "import numpy as np\n",
    "import matplotlib.pyplot as plt\n",
    "\n",
    "from sklearn.model_selection import train_test_split\n",
    "from sklearn.decomposition import PCA "
   ]
  },
  {
   "cell_type": "code",
   "execution_count": 225,
   "metadata": {},
   "outputs": [],
   "source": [
    "import tensorflow as tf\n",
    "import tensorflow.keras"
   ]
  },
  {
   "cell_type": "code",
   "execution_count": 226,
   "metadata": {},
   "outputs": [],
   "source": [
    "np.random.seed(1234)"
   ]
  },
  {
   "cell_type": "markdown",
   "metadata": {},
   "source": [
    "## Problem"
   ]
  },
  {
   "cell_type": "markdown",
   "metadata": {},
   "source": [
    "We have a dataset with all projects from Kickstarter for the last year. We want to understand what makes a project successful based on the data we have. \n",
    "- What are the reasons for a Kickstarter project to be successful?\n",
    "- What are the characteris of a successful Kickstarter project?"
   ]
  },
  {
   "cell_type": "markdown",
   "metadata": {},
   "source": [
    "## Read the data"
   ]
  },
  {
   "cell_type": "code",
   "execution_count": 227,
   "metadata": {},
   "outputs": [],
   "source": [
    "data = pd.read_csv('data/ks-projects-201801.csv')"
   ]
  },
  {
   "cell_type": "markdown",
   "metadata": {},
   "source": [
    "## Train-Test Split\n",
    "\n",
    "Splitting the data into train and test data. For Validation it will be used cross-validation. **Stratiffied Shuffle Split.**"
   ]
  },
  {
   "cell_type": "code",
   "execution_count": 235,
   "metadata": {},
   "outputs": [],
   "source": [
    "data_train, data_test = train_test_split(data, test_size=0.1, stratify=data[\"category\"])"
   ]
  },
  {
   "cell_type": "markdown",
   "metadata": {},
   "source": [
    "Checking whether the stratification by category is giving a good stratification by **main_category** and **state** as well. It seems everything is okay - all main categories are stratified around 90%"
   ]
  },
  {
   "cell_type": "code",
   "execution_count": 240,
   "metadata": {
    "scrolled": true
   },
   "outputs": [
    {
     "data": {
      "text/plain": [
       "Film & Video    90.003932\n",
       "Music           90.003467\n",
       "Publishing      89.998495\n",
       "Games           89.997445\n",
       "Technology      89.993552\n",
       "Design          90.000000\n",
       "Art             90.001066\n",
       "Food            90.033331\n",
       "Fashion         90.002630\n",
       "Theater         89.947769\n",
       "Comics          89.943618\n",
       "Photography     90.008350\n",
       "Crafts          90.021569\n",
       "Journalism      90.010515\n",
       "Dance           89.941614\n",
       "Name: main_category, dtype: float64"
      ]
     },
     "execution_count": 240,
     "metadata": {},
     "output_type": "execute_result"
    }
   ],
   "source": [
    "data_train[\"main_category\"].value_counts() / data[\"main_category\"].value_counts() * 100"
   ]
  },
  {
   "cell_type": "code",
   "execution_count": 246,
   "metadata": {},
   "outputs": [
    {
     "data": {
      "text/plain": [
       "failed        90.051032\n",
       "successful    89.954164\n",
       "canceled      89.842440\n",
       "undefined     90.174060\n",
       "live          90.853876\n",
       "suspended     89.490791\n",
       "Name: state, dtype: float64"
      ]
     },
     "execution_count": 246,
     "metadata": {},
     "output_type": "execute_result"
    }
   ],
   "source": [
    "data_train[\"state\"].value_counts() / data[\"state\"].value_counts() * 100"
   ]
  },
  {
   "cell_type": "markdown",
   "metadata": {},
   "source": [
    "## Discover the data"
   ]
  },
  {
   "cell_type": "code",
   "execution_count": 241,
   "metadata": {
    "scrolled": true
   },
   "outputs": [
    {
     "data": {
      "text/html": [
       "<div>\n",
       "<style scoped>\n",
       "    .dataframe tbody tr th:only-of-type {\n",
       "        vertical-align: middle;\n",
       "    }\n",
       "\n",
       "    .dataframe tbody tr th {\n",
       "        vertical-align: top;\n",
       "    }\n",
       "\n",
       "    .dataframe thead th {\n",
       "        text-align: right;\n",
       "    }\n",
       "</style>\n",
       "<table border=\"1\" class=\"dataframe\">\n",
       "  <thead>\n",
       "    <tr style=\"text-align: right;\">\n",
       "      <th></th>\n",
       "      <th>ID</th>\n",
       "      <th>name</th>\n",
       "      <th>category</th>\n",
       "      <th>main_category</th>\n",
       "      <th>currency</th>\n",
       "      <th>deadline</th>\n",
       "      <th>goal</th>\n",
       "      <th>launched</th>\n",
       "      <th>pledged</th>\n",
       "      <th>state</th>\n",
       "      <th>backers</th>\n",
       "      <th>country</th>\n",
       "      <th>usd pledged</th>\n",
       "      <th>usd_pledged_real</th>\n",
       "      <th>usd_goal_real</th>\n",
       "    </tr>\n",
       "  </thead>\n",
       "  <tbody>\n",
       "    <tr>\n",
       "      <td>268788</td>\n",
       "      <td>437827266</td>\n",
       "      <td>Vegan Antics - A 100% Vegan Bakery</td>\n",
       "      <td>Vegan</td>\n",
       "      <td>Food</td>\n",
       "      <td>GBP</td>\n",
       "      <td>2016-10-04</td>\n",
       "      <td>5000.0</td>\n",
       "      <td>2016-09-04 18:07:14</td>\n",
       "      <td>207.0</td>\n",
       "      <td>failed</td>\n",
       "      <td>13</td>\n",
       "      <td>GB</td>\n",
       "      <td>19.94</td>\n",
       "      <td>255.22</td>\n",
       "      <td>6164.70</td>\n",
       "    </tr>\n",
       "    <tr>\n",
       "      <td>172263</td>\n",
       "      <td>1876085348</td>\n",
       "      <td>The BRIM BAND Company</td>\n",
       "      <td>Accessories</td>\n",
       "      <td>Fashion</td>\n",
       "      <td>USD</td>\n",
       "      <td>2016-02-22</td>\n",
       "      <td>25000.0</td>\n",
       "      <td>2016-01-01 18:04:04</td>\n",
       "      <td>135.0</td>\n",
       "      <td>failed</td>\n",
       "      <td>2</td>\n",
       "      <td>US</td>\n",
       "      <td>135.00</td>\n",
       "      <td>135.00</td>\n",
       "      <td>25000.00</td>\n",
       "    </tr>\n",
       "    <tr>\n",
       "      <td>204609</td>\n",
       "      <td>2042318332</td>\n",
       "      <td>Pact Magic Unbound: Grimoire of Lost Souls for...</td>\n",
       "      <td>Tabletop Games</td>\n",
       "      <td>Games</td>\n",
       "      <td>USD</td>\n",
       "      <td>2015-03-28</td>\n",
       "      <td>2500.0</td>\n",
       "      <td>2015-02-26 12:41:38</td>\n",
       "      <td>9826.0</td>\n",
       "      <td>successful</td>\n",
       "      <td>242</td>\n",
       "      <td>US</td>\n",
       "      <td>9826.00</td>\n",
       "      <td>9826.00</td>\n",
       "      <td>2500.00</td>\n",
       "    </tr>\n",
       "    <tr>\n",
       "      <td>99083</td>\n",
       "      <td>1502985139</td>\n",
       "      <td>Cuvee 103 Bistro</td>\n",
       "      <td>Restaurants</td>\n",
       "      <td>Food</td>\n",
       "      <td>USD</td>\n",
       "      <td>2015-12-24</td>\n",
       "      <td>50000.0</td>\n",
       "      <td>2015-11-30 20:20:48</td>\n",
       "      <td>0.0</td>\n",
       "      <td>failed</td>\n",
       "      <td>0</td>\n",
       "      <td>US</td>\n",
       "      <td>0.00</td>\n",
       "      <td>0.00</td>\n",
       "      <td>50000.00</td>\n",
       "    </tr>\n",
       "    <tr>\n",
       "      <td>378274</td>\n",
       "      <td>998212114</td>\n",
       "      <td>Bizarre Noir * Pop Songs for Ugly People * alb...</td>\n",
       "      <td>Rock</td>\n",
       "      <td>Music</td>\n",
       "      <td>USD</td>\n",
       "      <td>2016-11-28</td>\n",
       "      <td>1200.0</td>\n",
       "      <td>2016-11-05 17:45:43</td>\n",
       "      <td>1420.0</td>\n",
       "      <td>successful</td>\n",
       "      <td>30</td>\n",
       "      <td>US</td>\n",
       "      <td>620.00</td>\n",
       "      <td>1420.00</td>\n",
       "      <td>1200.00</td>\n",
       "    </tr>\n",
       "    <tr>\n",
       "      <td>...</td>\n",
       "      <td>...</td>\n",
       "      <td>...</td>\n",
       "      <td>...</td>\n",
       "      <td>...</td>\n",
       "      <td>...</td>\n",
       "      <td>...</td>\n",
       "      <td>...</td>\n",
       "      <td>...</td>\n",
       "      <td>...</td>\n",
       "      <td>...</td>\n",
       "      <td>...</td>\n",
       "      <td>...</td>\n",
       "      <td>...</td>\n",
       "      <td>...</td>\n",
       "      <td>...</td>\n",
       "    </tr>\n",
       "    <tr>\n",
       "      <td>262660</td>\n",
       "      <td>40599481</td>\n",
       "      <td>Kids Are Awful (Canceled)</td>\n",
       "      <td>Children's Books</td>\n",
       "      <td>Publishing</td>\n",
       "      <td>USD</td>\n",
       "      <td>2015-04-29</td>\n",
       "      <td>6500.0</td>\n",
       "      <td>2015-03-29 23:45:39</td>\n",
       "      <td>3067.0</td>\n",
       "      <td>canceled</td>\n",
       "      <td>46</td>\n",
       "      <td>US</td>\n",
       "      <td>3067.00</td>\n",
       "      <td>3067.00</td>\n",
       "      <td>6500.00</td>\n",
       "    </tr>\n",
       "    <tr>\n",
       "      <td>265446</td>\n",
       "      <td>420357420</td>\n",
       "      <td>\"Not Mother\": A Film About Kids, School, and A...</td>\n",
       "      <td>Shorts</td>\n",
       "      <td>Film &amp; Video</td>\n",
       "      <td>USD</td>\n",
       "      <td>2011-01-10</td>\n",
       "      <td>2000.0</td>\n",
       "      <td>2010-12-09 03:27:26</td>\n",
       "      <td>2010.0</td>\n",
       "      <td>successful</td>\n",
       "      <td>26</td>\n",
       "      <td>US</td>\n",
       "      <td>2010.00</td>\n",
       "      <td>2010.00</td>\n",
       "      <td>2000.00</td>\n",
       "    </tr>\n",
       "    <tr>\n",
       "      <td>108102</td>\n",
       "      <td>1549582535</td>\n",
       "      <td>Ballin' From Grace</td>\n",
       "      <td>Music</td>\n",
       "      <td>Music</td>\n",
       "      <td>USD</td>\n",
       "      <td>2015-06-09</td>\n",
       "      <td>75000.0</td>\n",
       "      <td>2015-05-23 05:09:07</td>\n",
       "      <td>0.0</td>\n",
       "      <td>failed</td>\n",
       "      <td>0</td>\n",
       "      <td>US</td>\n",
       "      <td>0.00</td>\n",
       "      <td>0.00</td>\n",
       "      <td>75000.00</td>\n",
       "    </tr>\n",
       "    <tr>\n",
       "      <td>33761</td>\n",
       "      <td>1171444783</td>\n",
       "      <td>\"Creative Spirit\" - a film: Keith Medley's 27-...</td>\n",
       "      <td>Documentary</td>\n",
       "      <td>Film &amp; Video</td>\n",
       "      <td>USD</td>\n",
       "      <td>2011-06-06</td>\n",
       "      <td>40000.0</td>\n",
       "      <td>2011-03-07 18:43:21</td>\n",
       "      <td>4696.0</td>\n",
       "      <td>failed</td>\n",
       "      <td>36</td>\n",
       "      <td>US</td>\n",
       "      <td>4696.00</td>\n",
       "      <td>4696.00</td>\n",
       "      <td>40000.00</td>\n",
       "    </tr>\n",
       "    <tr>\n",
       "      <td>296804</td>\n",
       "      <td>581002583</td>\n",
       "      <td>Afrobeats the new Genre</td>\n",
       "      <td>Hip-Hop</td>\n",
       "      <td>Music</td>\n",
       "      <td>GBP</td>\n",
       "      <td>2014-07-02</td>\n",
       "      <td>2500.0</td>\n",
       "      <td>2014-07-01 14:46:42</td>\n",
       "      <td>0.0</td>\n",
       "      <td>failed</td>\n",
       "      <td>0</td>\n",
       "      <td>GB</td>\n",
       "      <td>0.00</td>\n",
       "      <td>0.00</td>\n",
       "      <td>4285.89</td>\n",
       "    </tr>\n",
       "  </tbody>\n",
       "</table>\n",
       "<p>340794 rows × 15 columns</p>\n",
       "</div>"
      ],
      "text/plain": [
       "                ID                                               name  \\\n",
       "268788   437827266                 Vegan Antics - A 100% Vegan Bakery   \n",
       "172263  1876085348                              The BRIM BAND Company   \n",
       "204609  2042318332  Pact Magic Unbound: Grimoire of Lost Souls for...   \n",
       "99083   1502985139                                   Cuvee 103 Bistro   \n",
       "378274   998212114  Bizarre Noir * Pop Songs for Ugly People * alb...   \n",
       "...            ...                                                ...   \n",
       "262660    40599481                          Kids Are Awful (Canceled)   \n",
       "265446   420357420  \"Not Mother\": A Film About Kids, School, and A...   \n",
       "108102  1549582535                                 Ballin' From Grace   \n",
       "33761   1171444783  \"Creative Spirit\" - a film: Keith Medley's 27-...   \n",
       "296804   581002583                            Afrobeats the new Genre   \n",
       "\n",
       "                category main_category currency    deadline     goal  \\\n",
       "268788             Vegan          Food      GBP  2016-10-04   5000.0   \n",
       "172263       Accessories       Fashion      USD  2016-02-22  25000.0   \n",
       "204609    Tabletop Games         Games      USD  2015-03-28   2500.0   \n",
       "99083        Restaurants          Food      USD  2015-12-24  50000.0   \n",
       "378274              Rock         Music      USD  2016-11-28   1200.0   \n",
       "...                  ...           ...      ...         ...      ...   \n",
       "262660  Children's Books    Publishing      USD  2015-04-29   6500.0   \n",
       "265446            Shorts  Film & Video      USD  2011-01-10   2000.0   \n",
       "108102             Music         Music      USD  2015-06-09  75000.0   \n",
       "33761        Documentary  Film & Video      USD  2011-06-06  40000.0   \n",
       "296804           Hip-Hop         Music      GBP  2014-07-02   2500.0   \n",
       "\n",
       "                   launched  pledged       state  backers country  \\\n",
       "268788  2016-09-04 18:07:14    207.0      failed       13      GB   \n",
       "172263  2016-01-01 18:04:04    135.0      failed        2      US   \n",
       "204609  2015-02-26 12:41:38   9826.0  successful      242      US   \n",
       "99083   2015-11-30 20:20:48      0.0      failed        0      US   \n",
       "378274  2016-11-05 17:45:43   1420.0  successful       30      US   \n",
       "...                     ...      ...         ...      ...     ...   \n",
       "262660  2015-03-29 23:45:39   3067.0    canceled       46      US   \n",
       "265446  2010-12-09 03:27:26   2010.0  successful       26      US   \n",
       "108102  2015-05-23 05:09:07      0.0      failed        0      US   \n",
       "33761   2011-03-07 18:43:21   4696.0      failed       36      US   \n",
       "296804  2014-07-01 14:46:42      0.0      failed        0      GB   \n",
       "\n",
       "        usd pledged  usd_pledged_real  usd_goal_real  \n",
       "268788        19.94            255.22        6164.70  \n",
       "172263       135.00            135.00       25000.00  \n",
       "204609      9826.00           9826.00        2500.00  \n",
       "99083          0.00              0.00       50000.00  \n",
       "378274       620.00           1420.00        1200.00  \n",
       "...             ...               ...            ...  \n",
       "262660      3067.00           3067.00        6500.00  \n",
       "265446      2010.00           2010.00        2000.00  \n",
       "108102         0.00              0.00       75000.00  \n",
       "33761       4696.00           4696.00       40000.00  \n",
       "296804         0.00              0.00        4285.89  \n",
       "\n",
       "[340794 rows x 15 columns]"
      ]
     },
     "execution_count": 241,
     "metadata": {},
     "output_type": "execute_result"
    }
   ],
   "source": [
    "data_train"
   ]
  },
  {
   "cell_type": "code",
   "execution_count": 248,
   "metadata": {
    "scrolled": true
   },
   "outputs": [
    {
     "data": {
      "image/png": "[encoded data removed]",
      "text/plain": [
       "<Figure size 1440x1080 with 9 Axes>"
      ]
     },
     "metadata": {
      "needs_background": "light"
     },
     "output_type": "display_data"
    }
   ],
   "source": [
    "data_train.hist(bins=50, figsize=(20,15))\n",
    "plt.show()"
   ]
  },
  {
   "cell_type": "code",
   "execution_count": 267,
   "metadata": {},
   "outputs": [],
   "source": [
    "backers_log = np.log2(data_train[\"backers\"])\n",
    "backers_log[backers_log < 0]"
   ]
  },
  {
   "cell_type": "code",
   "execution_count": 270,
   "metadata": {},
   "outputs": [
    {
     "data": {
      "text/plain": [
       "<matplotlib.axes._subplots.AxesSubplot at 0x2770a7310c8>"
      ]
     },
     "execution_count": 270,
     "metadata": {},
     "output_type": "execute_result"
    },
    {
     "data": {
      "image/png": "[encoded data removed]",
      "text/plain": [
       "<Figure size 432x288 with 1 Axes>"
      ]
     },
     "metadata": {
      "needs_background": "light"
     },
     "output_type": "display_data"
    }
   ],
   "source": [
    "backers_log.hist()"
   ]
  },
  {
   "cell_type": "markdown",
   "metadata": {},
   "source": [
    "### Display number of values of categorical features\n",
    "\n",
    "Categorical features has to be one-hot encoded. Unfortunately, too many features will not help us with the model. It has to be decided which features to use."
   ]
  },
  {
   "cell_type": "code",
   "execution_count": 163,
   "metadata": {},
   "outputs": [
    {
     "name": "stdout",
     "output_type": "stream",
     "text": [
      "\"category\" has 159 values.\n",
      "\"main_category\" has 15 values.\n",
      "\"currency\" has 14 values.\n",
      "\"country\" has 23 values.\n"
     ]
    }
   ],
   "source": [
    "categorical_features = data[['category', 'main_category', 'currency', 'country']]\n",
    "for category in categorical_features:\n",
    "    print(f'\"{category}\" has {len(categorical_features[category].value_counts())} values.')"
   ]
  },
  {
   "cell_type": "markdown",
   "metadata": {},
   "source": [
    "### Displaying the most successful and failed main_categories"
   ]
  },
  {
   "cell_type": "code",
   "execution_count": 164,
   "metadata": {
    "scrolled": true
   },
   "outputs": [
    {
     "data": {
      "image/png": "[encoded data removed]",
      "text/plain": [
       "<Figure size 432x288 with 1 Axes>"
      ]
     },
     "metadata": {
      "needs_background": "light"
     },
     "output_type": "display_data"
    }
   ],
   "source": [
    "main_cats_sucess = data[data[\"state\"] == \"successful\"][\"main_category\"].value_counts().sort_index()\n",
    "main_cats_failed = data[data[\"state\"] == \"failed\"][\"main_category\"].value_counts().sort_index()\n",
    "\n",
    "fig = plt.figure()\n",
    "\n",
    "ind = np.arange(len(main_cats_sucess)) \n",
    "width = 0.3\n",
    "\n",
    "ax = fig.add_axes([0,0,3,1])\n",
    "ax.bar(ind, list(main_cats_sucess.values), width = width, color = \"g\")\n",
    "ax.bar(ind + width, list(main_cats_failed.values), width = width, color = \"r\")\n",
    "\n",
    "plt.xticks(ind + width / 2, main_cats_sucess.index)\n",
    "\n",
    "plt.show()"
   ]
  },
  {
   "cell_type": "markdown",
   "metadata": {},
   "source": [
    "### Displaying the most successful and failed categories"
   ]
  },
  {
   "cell_type": "code",
   "execution_count": 220,
   "metadata": {},
   "outputs": [
    {
     "data": {
      "text/plain": [
       "<Figure size 72x144 with 0 Axes>"
      ]
     },
     "metadata": {},
     "output_type": "display_data"
    },
    {
     "data": {
      "image/png": "[encoded data removed]",
      "text/plain": [
       "<Figure size 432x288 with 1 Axes>"
      ]
     },
     "metadata": {
      "needs_background": "light"
     },
     "output_type": "display_data"
    }
   ],
   "source": [
    "cats_sucess = data[data[\"state\"] == \"successful\"][\"category\"].value_counts().sort_index()\n",
    "cats_failed = data[data[\"state\"] == \"failed\"][\"category\"].value_counts().sort_index()\n",
    "\n",
    "fig = plt.figure()\n",
    "\n",
    "ind = np.arange(len(cats_sucess)) \n",
    "width = 0.3\n",
    "\n",
    "ax = fig.add_axes([0,0,3,1])\n",
    "ax.bar(ind, list(cats_sucess.values), width = width, color = \"g\")\n",
    "ax.bar(ind + width, list(cats_failed.values), width = width, color = \"r\")\n",
    "\n",
    "plt.xticks(ind + width / 2, cats_sucess.index, rotation='vertical')\n",
    "\n",
    "plt.show()"
   ]
  },
  {
   "cell_type": "markdown",
   "metadata": {},
   "source": [
    "### Finding the most successful projects based on correlations\n",
    "\n",
    "There is high correlation for **backers** and **pledged** money, which is normal. The correlations between categories are not strong. It can be seen that projects from US and with USD currency are most successful. "
   ]
  },
  {
   "cell_type": "code",
   "execution_count": 221,
   "metadata": {},
   "outputs": [],
   "source": [
    "pd.set_option('display.max_rows', 500)\n",
    "pd.set_option('display.max_columns', 500)"
   ]
  },
  {
   "cell_type": "code",
   "execution_count": 165,
   "metadata": {
    "scrolled": false
   },
   "outputs": [
    {
     "data": {
      "text/plain": [
       "state_successful              1.000000\n",
       "backers                       0.129109\n",
       "pledged                       0.111534\n",
       "usd_pledged_real              0.110704\n",
       "usd pledged                   0.097791\n",
       "main_category_Music           0.093623\n",
       "main_category_Theater         0.088260\n",
       "country_US                    0.076169\n",
       "main_category_Comics          0.066792\n",
       "currency_USD                  0.065202\n",
       "main_category_Dance           0.055926\n",
       "main_category_Art             0.032645\n",
       "main_category_Film & Video    0.016683\n",
       "country_GB                    0.003010\n",
       "main_category_Games           0.001038\n",
       "currency_GBP                  0.000123\n",
       "country_HK                   -0.000359\n",
       "currency_HKD                 -0.000359\n",
       "ID                           -0.001200\n",
       "country_LU                   -0.001266\n",
       "main_category_Design         -0.001790\n",
       "country_SG                   -0.002648\n",
       "currency_SGD                 -0.002648\n",
       "country_DK                   -0.003442\n",
       "currency_DKK                 -0.003789\n",
       "country_JP                   -0.003843\n",
       "currency_JPY                 -0.003843\n",
       "country_NZ                   -0.005720\n",
       "currency_NZD                 -0.006544\n",
       "country_FR                   -0.008289\n",
       "country_BE                   -0.009075\n",
       "country_SE                   -0.009148\n",
       "country_IE                   -0.009546\n",
       "currency_SEK                 -0.009952\n",
       "country_CH                   -0.010139\n",
       "currency_CHF                 -0.010397\n",
       "country_NO                   -0.011310\n",
       "currency_NOK                 -0.011701\n",
       "country_AT                   -0.014505\n",
       "main_category_Photography    -0.016879\n",
       "currency_MXN                 -0.018214\n",
       "country_MX                   -0.018214\n",
       "country_ES                   -0.022378\n",
       "usd_goal_real                -0.023052\n",
       "goal                         -0.024332\n",
       "country_NL                   -0.025329\n",
       "country_DE                   -0.028499\n",
       "country_AU                   -0.029603\n",
       "currency_AUD                 -0.030875\n",
       "country_CA                   -0.030999\n",
       "main_category_Publishing     -0.032497\n",
       "currency_CAD                 -0.032775\n",
       "main_category_Journalism     -0.033240\n",
       "main_category_Crafts         -0.036689\n",
       "country_IT                   -0.036831\n",
       "state_suspended              -0.051786\n",
       "main_category_Fashion        -0.057528\n",
       "main_category_Food           -0.058673\n",
       "currency_EUR                 -0.060011\n",
       "state_live                   -0.063848\n",
       "country_N,0\"                 -0.068643\n",
       "state_undefined              -0.072100\n",
       "main_category_Technology     -0.100224\n",
       "state_canceled               -0.249916\n",
       "state_failed                 -0.773418\n",
       "Name: state_successful, dtype: float64"
      ]
     },
     "execution_count": 165,
     "metadata": {},
     "output_type": "execute_result"
    }
   ],
   "source": [
    "dummies_corr = pd.get_dummies(data, columns = [\"main_category\", \"currency\", \"country\", \"state\"]).corr()\n",
    "dummies_corr[\"state_successful\"].sort_values(ascending=False)"
   ]
  },
  {
   "cell_type": "code",
   "execution_count": 172,
   "metadata": {},
   "outputs": [
    {
     "data": {
      "text/plain": [
       "state_successful               1.000000\n",
       "backers                        0.129109\n",
       "pledged                        0.111534\n",
       "usd_pledged_real               0.110704\n",
       "usd pledged                    0.097791\n",
       "category_Tabletop Games        0.082902\n",
       "category_Theater               0.077945\n",
       "category_Indie Rock            0.073611\n",
       "category_Shorts                0.071547\n",
       "category_Country & Folk        0.063412\n",
       "category_Dance                 0.050980\n",
       "category_Classical Music       0.048213\n",
       "category_Rock                  0.046277\n",
       "category_Comic Books           0.041920\n",
       "category_Comics                0.035753\n",
       "category_Jazz                  0.035610\n",
       "category_Illustration          0.030456\n",
       "category_Anthologies           0.029606\n",
       "category_Plays                 0.029033\n",
       "category_Performances          0.028405\n",
       "category_Public Art            0.027960\n",
       "category_Graphic Novels        0.027746\n",
       "category_Art Books             0.026990\n",
       "category_Music                 0.024039\n",
       "category_Pop                   0.022172\n",
       "category_Festivals             0.018818\n",
       "category_Art                   0.017605\n",
       "category_Webcomics             0.017207\n",
       "category_Musical               0.015656\n",
       "category_World Music           0.013261\n",
       "category_Performance Art       0.012632\n",
       "category_DIY Electronics       0.011093\n",
       "category_Residencies           0.010472\n",
       "category_Immersive             0.009782\n",
       "category_Installations         0.009680\n",
       "category_Narrative Film        0.008442\n",
       "category_Chiptune              0.008399\n",
       "category_Typography            0.008110\n",
       "category_Radio & Podcasts      0.007558\n",
       "category_Camera Equipment      0.007475\n",
       "category_Faith                 0.007178\n",
       "category_Literary Journals     0.007067\n",
       "category_Zines                 0.006996\n",
       "category_Letterpress           0.006636\n",
       "category_Photobooks            0.006517\n",
       "category_Punk                  0.006466\n",
       "category_Comedy                0.006460\n",
       "category_Periodicals           0.006460\n",
       "category_Documentary           0.005869\n",
       "category_Playing Cards         0.005709\n",
       "category_Knitting              0.005299\n",
       "category_Kids                  0.005071\n",
       "category_Sound                 0.004910\n",
       "category_Ceramics              0.004693\n",
       "category_Sculpture             0.004620\n",
       "category_Blues                 0.004609\n",
       "category_Experimental          0.003484\n",
       "category_Robots                0.003363\n",
       "category_Graphic Design        0.003181\n",
       "category_Drama                 0.003005\n",
       "category_Pottery               0.002931\n",
       "category_Metal                 0.002713\n",
       "category_Literary Spaces       0.002256\n",
       "category_Calendars             0.002177\n",
       "category_Product Design        0.001598\n",
       "category_Puzzles               0.001405\n",
       "category_Science Fiction       0.001098\n",
       "category_Space Exploration     0.001085\n",
       "category_Fine Art              0.001036\n",
       "category_Taxidermy             0.000378\n",
       "category_Civic Design          0.000353\n",
       "category_Poetry                0.000248\n",
       "category_Conceptual Art        0.000172\n",
       "category_3D Printing           0.000050\n",
       "category_Stationery           -0.000109\n",
       "category_Spaces               -0.000295\n",
       "category_Painting             -0.000969\n",
       "ID                            -0.001200\n",
       "category_Music Videos         -0.001382\n",
       "category_Children's Books     -0.001753\n",
       "category_Makerspaces          -0.001806\n",
       "category_Mixed Media          -0.001970\n",
       "category_Weaving              -0.002080\n",
       "category_Workshops            -0.002128\n",
       "category_Accessories          -0.002831\n",
       "category_Fantasy              -0.002938\n",
       "category_Romance              -0.003013\n",
       "category_Latin                -0.003039\n",
       "category_Glass                -0.003131\n",
       "category_Vegan                -0.003228\n",
       "category_Footwear             -0.003497\n",
       "category_Pet Fashion          -0.003510\n",
       "category_Quilts               -0.003646\n",
       "category_Design               -0.003821\n",
       "category_Textiles             -0.004224\n",
       "category_Video Art            -0.004303\n",
       "category_Wearables            -0.004672\n",
       "category_Fabrication Tools    -0.004825\n",
       "category_Electronic Music     -0.004951\n",
       "category_Hardware             -0.005069\n",
       "category_Translations         -0.005256\n",
       "category_Horror               -0.005532\n",
       "category_Audio                -0.005717\n",
       "category_Animals              -0.005793\n",
       "category_Crochet              -0.005959\n",
       "category_Small Batch          -0.006618\n",
       "category_Embroidery           -0.006707\n",
       "category_Movie Theaters       -0.006713\n",
       "category_Photography          -0.007173\n",
       "category_Printing             -0.007756\n",
       "category_Community Gardens    -0.007765\n",
       "category_Thrillers            -0.007960\n",
       "category_Gaming Hardware      -0.008615\n",
       "category_R&B                  -0.008744\n",
       "category_Cookbooks            -0.008933\n",
       "category_Photo                -0.009067\n",
       "category_Bacon                -0.009189\n",
       "category_Digital Art          -0.009760\n",
       "category_Family               -0.009806\n",
       "category_Interactive Design   -0.010534\n",
       "category_Architecture         -0.011090\n",
       "category_Couture              -0.011335\n",
       "category_Childrenswear        -0.011740\n",
       "category_Journalism           -0.011901\n",
       "category_Woodworking          -0.012041\n",
       "category_Print                -0.012136\n",
       "category_Flight               -0.012308\n",
       "category_Farmer's Markets     -0.013211\n",
       "category_Jewelry              -0.013280\n",
       "category_Gadgets              -0.013905\n",
       "category_Young Adult          -0.014064\n",
       "category_Nature               -0.014631\n",
       "category_Animation            -0.014674\n",
       "category_Academic             -0.015296\n",
       "category_Webseries            -0.015358\n",
       "category_Events               -0.015629\n",
       "category_Candles              -0.015887\n",
       "category_People               -0.016418\n",
       "category_Video                -0.016505\n",
       "category_Farms                -0.016658\n",
       "category_Film & Video         -0.017333\n",
       "category_Places               -0.017950\n",
       "category_Drinks               -0.018209\n",
       "category_Ready-to-wear        -0.018597\n",
       "category_Action               -0.019358\n",
       "category_Live Games           -0.020109\n",
       "category_Publishing           -0.021594\n",
       "category_Television           -0.021693\n",
       "category_Games                -0.021769\n",
       "usd_goal_real                 -0.023052\n",
       "category_DIY                  -0.023055\n",
       "goal                          -0.024332\n",
       "category_Crafts               -0.024435\n",
       "category_Food                 -0.024752\n",
       "category_Nonfiction           -0.026852\n",
       "category_Fashion              -0.031152\n",
       "category_Food Trucks          -0.032783\n",
       "category_Restaurants          -0.034713\n",
       "category_Fiction              -0.036315\n",
       "category_Mobile Games         -0.038653\n",
       "category_Hip-Hop              -0.042711\n",
       "category_Software             -0.043717\n",
       "category_Apparel              -0.045443\n",
       "category_Technology           -0.046752\n",
       "state_suspended               -0.051786\n",
       "category_Video Games          -0.057116\n",
       "state_live                    -0.063848\n",
       "category_Web                  -0.065785\n",
       "state_undefined               -0.072100\n",
       "category_Apps                 -0.080322\n",
       "state_canceled                -0.249916\n",
       "state_failed                  -0.773418\n",
       "Name: state_successful, dtype: float64"
      ]
     },
     "execution_count": 172,
     "metadata": {},
     "output_type": "execute_result"
    }
   ],
   "source": [
    "dummies_corr = pd.get_dummies(data, columns = [\"category\", \"state\"]).corr()\n",
    "dummies_corr[\"state_successful\"].sort_values(ascending=False)"
   ]
  },
  {
   "cell_type": "markdown",
   "metadata": {},
   "source": [
    "### Extract dates to year, month and day"
   ]
  },
  {
   "cell_type": "code",
   "execution_count": 166,
   "metadata": {},
   "outputs": [],
   "source": [
    "data_processed = data.copy()\n",
    "data_processed['launched_year'] = pd.DatetimeIndex(data['launched']).year\n",
    "data_processed['launched_month'] = pd.DatetimeIndex(data['launched']).month\n",
    "data_processed['launched_day'] = pd.DatetimeIndex(data['launched']).day\n",
    "\n",
    "data_processed['deadline_year'] = pd.DatetimeIndex(data['deadline']).year\n",
    "data_processed['deadline_month'] = pd.DatetimeIndex(data['deadline']).month\n",
    "data_processed['deadline_day'] = pd.DatetimeIndex(data['deadline']).day"
   ]
  },
  {
   "cell_type": "code",
   "execution_count": 167,
   "metadata": {},
   "outputs": [],
   "source": [
    "data_processed = data_processed.drop(['deadline', 'launched', 'name', 'usd pledged'], axis=1)"
   ]
  },
  {
   "cell_type": "code",
   "execution_count": 168,
   "metadata": {},
   "outputs": [],
   "source": [
    "data_processed = pd.get_dummies(data_processed, columns = [\"main_category\", \"category\", \"country\", \"currency\"])"
   ]
  },
  {
   "cell_type": "code",
   "execution_count": 169,
   "metadata": {},
   "outputs": [],
   "source": [
    "data_labels = data_processed['state']\n",
    "#data_processed = data_processed.drop(['state'], axis=1)"
   ]
  },
  {
   "cell_type": "code",
   "execution_count": 171,
   "metadata": {},
   "outputs": [
    {
     "data": {
      "text/plain": [
       "state_successful               1.000000\n",
       "backers                        0.129109\n",
       "pledged                        0.111534\n",
       "usd_pledged_real               0.110704\n",
       "main_category_Music            0.093623\n",
       "main_category_Theater          0.088260\n",
       "category_Tabletop Games        0.082902\n",
       "category_Theater               0.077945\n",
       "country_US                     0.076169\n",
       "category_Indie Rock            0.073611\n",
       "category_Shorts                0.071547\n",
       "main_category_Comics           0.066792\n",
       "currency_USD                   0.065202\n",
       "deadline_year_2011             0.064067\n",
       "category_Country & Folk        0.063412\n",
       "launched_year_2011             0.062843\n",
       "deadline_year_2013             0.061414\n",
       "launched_year_2013             0.060652\n",
       "deadline_year_2012             0.059382\n",
       "launched_year_2012             0.059076\n",
       "main_category_Dance            0.055926\n",
       "category_Dance                 0.050980\n",
       "category_Classical Music       0.048213\n",
       "category_Rock                  0.046277\n",
       "category_Comic Books           0.041920\n",
       "category_Comics                0.035753\n",
       "category_Jazz                  0.035610\n",
       "main_category_Art              0.032645\n",
       "category_Illustration          0.030456\n",
       "category_Anthologies           0.029606\n",
       "launched_year_2010             0.029299\n",
       "category_Plays                 0.029033\n",
       "deadline_year_2010             0.028475\n",
       "category_Performances          0.028405\n",
       "category_Public Art            0.027960\n",
       "category_Graphic Novels        0.027746\n",
       "category_Art Books             0.026990\n",
       "category_Music                 0.024039\n",
       "category_Pop                   0.022172\n",
       "launched_day_1                 0.021523\n",
       "deadline_day_1                 0.020631\n",
       "category_Festivals             0.018818\n",
       "category_Art                   0.017605\n",
       "category_Webcomics             0.017207\n",
       "main_category_Film & Video     0.016683\n",
       "launched_month_3               0.016283\n",
       "deadline_month_4               0.016221\n",
       "category_Musical               0.015656\n",
       "launched_month_4               0.013466\n",
       "category_World Music           0.013261\n",
       "deadline_month_5               0.012818\n",
       "category_Performance Art       0.012632\n",
       "deadline_month_3               0.012086\n",
       "deadline_day_2                 0.011154\n",
       "category_DIY Electronics       0.011093\n",
       "deadline_year_2017             0.011010\n",
       "category_Residencies           0.010472\n",
       "launched_year_2009             0.010166\n",
       "launched_month_2               0.009958\n",
       "category_Immersive             0.009782\n",
       "launched_month_10              0.009775\n",
       "category_Installations         0.009680\n",
       "deadline_month_11              0.009615\n",
       "deadline_day_16                0.008535\n",
       "category_Narrative Film        0.008442\n",
       "category_Chiptune              0.008399\n",
       "launched_month_5               0.008384\n",
       "launched_day_2                 0.008294\n",
       "category_Typography            0.008110\n",
       "category_Radio & Podcasts      0.007558\n",
       "category_Camera Equipment      0.007475\n",
       "deadline_month_6               0.007400\n",
       "deadline_year_2009             0.007354\n",
       "category_Faith                 0.007178\n",
       "category_Literary Journals     0.007067\n",
       "category_Zines                 0.006996\n",
       "category_Letterpress           0.006636\n",
       "category_Photobooks            0.006517\n",
       "category_Punk                  0.006466\n",
       "category_Comedy                0.006460\n",
       "category_Periodicals           0.006460\n",
       "category_Documentary           0.005869\n",
       "category_Playing Cards         0.005709\n",
       "category_Knitting              0.005299\n",
       "category_Kids                  0.005071\n",
       "category_Sound                 0.004910\n",
       "launched_month_9               0.004829\n",
       "category_Ceramics              0.004693\n",
       "category_Sculpture             0.004620\n",
       "category_Blues                 0.004609\n",
       "launched_month_6               0.004571\n",
       "deadline_day_17                0.004413\n",
       "launched_day_15                0.004220\n",
       "deadline_month_7               0.003494\n",
       "category_Experimental          0.003484\n",
       "category_Robots                0.003363\n",
       "category_Graphic Design        0.003181\n",
       "launched_day_7                 0.003106\n",
       "deadline_day_5                 0.003096\n",
       "launched_day_3                 0.003080\n",
       "country_GB                     0.003010\n",
       "category_Drama                 0.003005\n",
       "category_Pottery               0.002931\n",
       "category_Metal                 0.002713\n",
       "deadline_month_10              0.002685\n",
       "launched_month_11              0.002643\n",
       "deadline_day_15                0.002628\n",
       "deadline_day_3                 0.002462\n",
       "category_Literary Spaces       0.002256\n",
       "category_Calendars             0.002177\n",
       "launched_day_19                0.001677\n",
       "deadline_day_18                0.001624\n",
       "category_Product Design        0.001598\n",
       "category_Puzzles               0.001405\n",
       "deadline_day_23                0.001251\n",
       "deadline_month_12              0.001126\n",
       "category_Science Fiction       0.001098\n",
       "category_Space Exploration     0.001085\n",
       "main_category_Games            0.001038\n",
       "category_Fine Art              0.001036\n",
       "deadline_day_12                0.001005\n",
       "launched_day_10                0.000991\n",
       "launched_day_16                0.000816\n",
       "launched_day_4                 0.000789\n",
       "launched_day_14                0.000703\n",
       "launched_day_6                 0.000675\n",
       "category_Taxidermy             0.000378\n",
       "category_Civic Design          0.000353\n",
       "category_Poetry                0.000248\n",
       "category_Conceptual Art        0.000172\n",
       "deadline_day_21                0.000144\n",
       "currency_GBP                   0.000123\n",
       "deadline_day_7                 0.000085\n",
       "category_3D Printing           0.000050\n",
       "launched_year_2017            -0.000070\n",
       "deadline_day_11               -0.000108\n",
       "category_Stationery           -0.000109\n",
       "launched_day_25               -0.000248\n",
       "launched_day_21               -0.000276\n",
       "category_Spaces               -0.000295\n",
       "currency_HKD                  -0.000359\n",
       "country_HK                    -0.000359\n",
       "deadline_day_9                -0.000391\n",
       "launched_day_13               -0.000590\n",
       "launched_day_18               -0.000710\n",
       "category_Painting             -0.000969\n",
       "launched_day_17               -0.000999\n",
       "launched_day_24               -0.001035\n",
       "launched_day_12               -0.001107\n",
       "ID                            -0.001200\n",
       "launched_day_31               -0.001230\n",
       "country_LU                    -0.001266\n",
       "launched_day_20               -0.001348\n",
       "launched_day_5                -0.001351\n",
       "category_Music Videos         -0.001382\n",
       "launched_day_26               -0.001394\n",
       "deadline_day_31               -0.001517\n",
       "category_Children's Books     -0.001753\n",
       "main_category_Design          -0.001790\n",
       "category_Makerspaces          -0.001806\n",
       "category_Mixed Media          -0.001970\n",
       "category_Weaving              -0.002080\n",
       "category_Workshops            -0.002128\n",
       "deadline_day_20               -0.002155\n",
       "deadline_day_25               -0.002313\n",
       "deadline_day_6                -0.002377\n",
       "deadline_day_8                -0.002573\n",
       "deadline_day_14               -0.002629\n",
       "country_SG                    -0.002648\n",
       "currency_SGD                  -0.002648\n",
       "deadline_day_19               -0.002660\n",
       "category_Accessories          -0.002831\n",
       "launched_day_8                -0.002884\n",
       "category_Fantasy              -0.002938\n",
       "category_Romance              -0.003013\n",
       "deadline_day_24               -0.003021\n",
       "category_Latin                -0.003039\n",
       "deadline_day_13               -0.003086\n",
       "deadline_day_22               -0.003126\n",
       "category_Glass                -0.003131\n",
       "launched_year_1970            -0.003181\n",
       "launched_day_29               -0.003190\n",
       "category_Vegan                -0.003228\n",
       "launched_day_30               -0.003310\n",
       "deadline_day_4                -0.003376\n",
       "country_DK                    -0.003442\n",
       "category_Footwear             -0.003497\n",
       "category_Pet Fashion          -0.003510\n",
       "launched_day_22               -0.003578\n",
       "category_Quilts               -0.003646\n",
       "currency_DKK                  -0.003789\n",
       "category_Design               -0.003821\n",
       "currency_JPY                  -0.003843\n",
       "country_JP                    -0.003843\n",
       "launched_day_23               -0.004133\n",
       "category_Textiles             -0.004224\n",
       "category_Video Art            -0.004303\n",
       "launched_day_28               -0.004384\n",
       "deadline_day_27               -0.004627\n",
       "category_Wearables            -0.004672\n",
       "category_Fabrication Tools    -0.004825\n",
       "deadline_day_10               -0.004885\n",
       "category_Electronic Music     -0.004951\n",
       "category_Hardware             -0.005069\n",
       "category_Translations         -0.005256\n",
       "launched_day_27               -0.005410\n",
       "deadline_day_28               -0.005514\n",
       "category_Horror               -0.005532\n",
       "category_Audio                -0.005717\n",
       "country_NZ                    -0.005720\n",
       "category_Animals              -0.005793\n",
       "launched_day_11               -0.005873\n",
       "category_Crochet              -0.005959\n",
       "deadline_day_26               -0.006072\n",
       "currency_NZD                  -0.006544\n",
       "category_Small Batch          -0.006618\n",
       "category_Embroidery           -0.006707\n",
       "category_Movie Theaters       -0.006713\n",
       "deadline_month_2              -0.006825\n",
       "launched_day_9                -0.006947\n",
       "category_Photography          -0.007173\n",
       "deadline_day_29               -0.007691\n",
       "deadline_day_30               -0.007754\n",
       "category_Printing             -0.007756\n",
       "category_Community Gardens    -0.007765\n",
       "launched_month_1              -0.007811\n",
       "category_Thrillers            -0.007960\n",
       "country_FR                    -0.008289\n",
       "category_Gaming Hardware      -0.008615\n",
       "category_R&B                  -0.008744\n",
       "category_Cookbooks            -0.008933\n",
       "category_Photo                -0.009067\n",
       "country_BE                    -0.009075\n",
       "country_SE                    -0.009148\n",
       "category_Bacon                -0.009189\n",
       "country_IE                    -0.009546\n",
       "category_Digital Art          -0.009760\n",
       "category_Family               -0.009806\n",
       "currency_SEK                  -0.009952\n",
       "country_CH                    -0.010139\n",
       "currency_CHF                  -0.010397\n",
       "category_Interactive Design   -0.010534\n",
       "category_Architecture         -0.011090\n",
       "country_NO                    -0.011310\n",
       "category_Couture              -0.011335\n",
       "currency_NOK                  -0.011701\n",
       "category_Childrenswear        -0.011740\n",
       "category_Journalism           -0.011901\n",
       "launched_month_8              -0.011932\n",
       "category_Woodworking          -0.012041\n",
       "category_Print                -0.012136\n",
       "category_Flight               -0.012308\n",
       "category_Farmer's Markets     -0.013211\n",
       "category_Jewelry              -0.013280\n",
       "launched_year_2018            -0.013391\n",
       "deadline_month_9              -0.013639\n",
       "category_Gadgets              -0.013905\n",
       "category_Young Adult          -0.014064\n",
       "country_AT                    -0.014505\n",
       "category_Nature               -0.014631\n",
       "category_Animation            -0.014674\n",
       "category_Academic             -0.015296\n",
       "category_Webseries            -0.015358\n",
       "category_Events               -0.015629\n",
       "category_Candles              -0.015887\n",
       "category_People               -0.016418\n",
       "deadline_month_8              -0.016487\n",
       "category_Video                -0.016505\n",
       "category_Farms                -0.016658\n",
       "main_category_Photography     -0.016879\n",
       "category_Film & Video         -0.017333\n",
       "category_Places               -0.017950\n",
       "category_Drinks               -0.018209\n",
       "currency_MXN                  -0.018214\n",
       "country_MX                    -0.018214\n",
       "category_Ready-to-wear        -0.018597\n",
       "category_Action               -0.019358\n",
       "category_Live Games           -0.020109\n",
       "category_Publishing           -0.021594\n",
       "category_Television           -0.021693\n",
       "category_Games                -0.021769\n",
       "launched_month_7              -0.022200\n",
       "country_ES                    -0.022378\n",
       "launched_year_2016            -0.022576\n",
       "usd_goal_real                 -0.023052\n",
       "category_DIY                  -0.023055\n",
       "goal                          -0.024332\n",
       "category_Crafts               -0.024435\n",
       "category_Food                 -0.024752\n",
       "country_NL                    -0.025329\n",
       "deadline_year_2016            -0.026370\n",
       "category_Nonfiction           -0.026852\n",
       "country_DE                    -0.028499\n",
       "country_AU                    -0.029603\n",
       "currency_AUD                  -0.030875\n",
       "country_CA                    -0.030999\n",
       "category_Fashion              -0.031152\n",
       "launched_month_12             -0.031924\n",
       "deadline_year_2014            -0.032394\n",
       "main_category_Publishing      -0.032497\n",
       "currency_CAD                  -0.032775\n",
       "category_Food Trucks          -0.032783\n",
       "deadline_month_1              -0.032959\n",
       "main_category_Journalism      -0.033240\n",
       "category_Restaurants          -0.034713\n",
       "category_Fiction              -0.036315\n",
       "main_category_Crafts          -0.036689\n",
       "country_IT                    -0.036831\n",
       "category_Mobile Games         -0.038653\n",
       "launched_year_2014            -0.041195\n",
       "category_Hip-Hop              -0.042711\n",
       "category_Software             -0.043717\n",
       "category_Apparel              -0.045443\n",
       "category_Technology           -0.046752\n",
       "state_suspended               -0.051786\n",
       "category_Video Games          -0.057116\n",
       "main_category_Fashion         -0.057528\n",
       "main_category_Food            -0.058673\n",
       "currency_EUR                  -0.060011\n",
       "state_live                    -0.063848\n",
       "deadline_year_2018            -0.063944\n",
       "category_Web                  -0.065785\n",
       "country_N,0\"                  -0.068643\n",
       "state_undefined               -0.072100\n",
       "category_Apps                 -0.080322\n",
       "deadline_year_2015            -0.086806\n",
       "launched_year_2015            -0.087354\n",
       "main_category_Technology      -0.100224\n",
       "state_canceled                -0.249916\n",
       "state_failed                  -0.773418\n",
       "Name: state_successful, dtype: float64"
      ]
     },
     "execution_count": 171,
     "metadata": {},
     "output_type": "execute_result"
    }
   ],
   "source": [
    "dummies_corr = pd.get_dummies(data_processed, columns = [\"launched_year\", \"launched_month\", \"launched_day\", \"deadline_year\", \"deadline_month\", \"deadline_day\", \"state\"]).corr()\n",
    "pd.set_option('display.max_rows', 500)\n",
    "pd.set_option('display.max_columns', 500)\n",
    "dummies_corr[\"state_successful\"].sort_values(ascending=False)"
   ]
  },
  {
   "cell_type": "markdown",
   "metadata": {},
   "source": [
    "### Dates insights and decisions\n",
    "Based on the correlations and observations, it seems that year and day information about launches and deadlines does not give us a lot of information. Only months will be used in order to gain knowledge which are the best months for starting and ending a project."
   ]
  },
  {
   "cell_type": "markdown",
   "metadata": {},
   "source": [
    "### Creating new feature - duration of a project\n",
    "\n",
    "The lanuch date and deadline don't give us a lot of information, except the start and end month. Some of the months are better to start or end a project. So maybe the duration of the project is something we can gain insight from."
   ]
  },
  {
   "cell_type": "code",
   "execution_count": 202,
   "metadata": {
    "scrolled": true
   },
   "outputs": [
    {
     "name": "stderr",
     "output_type": "stream",
     "text": [
      "C:\\Users\\VGeorgiev\\Anaconda3\\lib\\site-packages\\ipykernel_launcher.py:5: SettingWithCopyWarning: \n",
      "A value is trying to be set on a copy of a slice from a DataFrame.\n",
      "Try using .loc[row_indexer,col_indexer] = value instead\n",
      "\n",
      "See the caveats in the documentation: http://pandas.pydata.org/pandas-docs/stable/user_guide/indexing.html#returning-a-view-versus-a-copy\n",
      "  \"\"\"\n"
     ]
    },
    {
     "data": {
      "text/plain": [
       "state_successful    1.000000\n",
       "backers             0.129108\n",
       "pledged             0.111533\n",
       "usd_pledged_real    0.110703\n",
       "usd pledged         0.097790\n",
       "ID                 -0.001205\n",
       "usd_goal_real      -0.023052\n",
       "goal               -0.024333\n",
       "state_suspended    -0.051773\n",
       "state_live         -0.063849\n",
       "state_undefined    -0.072101\n",
       "duration           -0.118385\n",
       "state_canceled     -0.249901\n",
       "state_failed       -0.773444\n",
       "Name: state_successful, dtype: float64"
      ]
     },
     "execution_count": 202,
     "metadata": {},
     "output_type": "execute_result"
    }
   ],
   "source": [
    "from datetime import date\n",
    "launched = pd.DatetimeIndex(data['launched'])\n",
    "deadline = pd.DatetimeIndex(data['deadline'])\n",
    "\n",
    "data[\"duration\"] = (deadline - launched).days\n",
    "data\n",
    "\n",
    "dummies_corr = pd.get_dummies(data, columns = [\"state\"]).corr()\n",
    "pd.set_option('display.max_rows', 500)\n",
    "pd.set_option('display.max_columns', 500)\n",
    "dummies_corr[\"state_successful\"].sort_values(ascending=False)\n",
    "data = data[data[\"duration\"] < 10000]"
   ]
  },
  {
   "cell_type": "markdown",
   "metadata": {},
   "source": [
    "### Attribute combinations?"
   ]
  },
  {
   "cell_type": "code",
   "execution_count": null,
   "metadata": {},
   "outputs": [],
   "source": []
  },
  {
   "cell_type": "markdown",
   "metadata": {},
   "source": [
    "## Data Preparation"
   ]
  },
  {
   "cell_type": "markdown",
   "metadata": {},
   "source": [
    "- Columns Cleaning\n",
    "- Data Cleaning\n",
    "- One-Hot Encoding\n",
    "- Feature Scaling"
   ]
  },
  {
   "cell_type": "markdown",
   "metadata": {},
   "source": [
    "## Try linear and tree model - Classification"
   ]
  },
  {
   "cell_type": "code",
   "execution_count": null,
   "metadata": {},
   "outputs": [],
   "source": []
  },
  {
   "cell_type": "markdown",
   "metadata": {},
   "source": [
    "## Model Validation"
   ]
  },
  {
   "cell_type": "markdown",
   "metadata": {},
   "source": [
    "- cross validation\n",
    "- Confusion Matrix (Precision-Recall Tradeoff)\n",
    "- ROC Curve\n",
    "- Learning curves?"
   ]
  },
  {
   "cell_type": "markdown",
   "metadata": {},
   "source": [
    "## Fine-Tune Model"
   ]
  },
  {
   "cell_type": "markdown",
   "metadata": {},
   "source": [
    "- Grid-Search\n",
    "- Ensemble methods - Voting, Boosting, Random Forest"
   ]
  },
  {
   "cell_type": "markdown",
   "metadata": {},
   "source": [
    "## Dimensionality Reduction?"
   ]
  },
  {
   "cell_type": "code",
   "execution_count": 87,
   "metadata": {},
   "outputs": [],
   "source": [
    "pca = PCA(n_components=5)\n",
    "data_pca = pca.fit_transform(data_processed)"
   ]
  }
 ],
 "metadata": {
  "kernelspec": {
   "display_name": "Python 3",
   "language": "python",
   "name": "python3"
  },
  "language_info": {
   "codemirror_mode": {
    "name": "ipython",
    "version": 3
   },
   "file_extension": ".py",
   "mimetype": "text/x-python",
   "name": "python",
   "nbconvert_exporter": "python",
   "pygments_lexer": "ipython3",
   "version": "3.7.4"
  }
 },
 "nbformat": 4,
 "nbformat_minor": 2
}
