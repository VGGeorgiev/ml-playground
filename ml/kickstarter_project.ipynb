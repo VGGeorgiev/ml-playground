{
 "cells": [
  {
   "cell_type": "code",
   "execution_count": 1,
   "metadata": {},
   "outputs": [],
   "source": [
    "%matplotlib inline\n",
    "import pandas as pd\n",
    "import numpy as np\n",
    "import matplotlib.pyplot as plt\n",
    "\n",
    "from sklearn.model_selection import train_test_split\n",
    "from sklearn.decomposition import PCA "
   ]
  },
  {
   "cell_type": "code",
   "execution_count": 2,
   "metadata": {},
   "outputs": [],
   "source": [
    "import tensorflow as tf\n",
    "import tensorflow.keras"
   ]
  },
  {
   "cell_type": "code",
   "execution_count": 3,
   "metadata": {},
   "outputs": [],
   "source": [
    "np.random.seed(1234)"
   ]
  },
  {
   "cell_type": "markdown",
   "metadata": {},
   "source": [
    "## Problem"
   ]
  },
  {
   "cell_type": "markdown",
   "metadata": {},
   "source": [
    "We have a dataset with all projects from Kickstarter for the last year. We want to understand what makes a project successful based on the data we have. \n",
    "- What are the reasons for a Kickstarter project to be successful?\n",
    "- What are the characteris of a successful Kickstarter project?"
   ]
  },
  {
   "cell_type": "markdown",
   "metadata": {},
   "source": [
    "## Read the data"
   ]
  },
  {
   "cell_type": "code",
   "execution_count": 4,
   "metadata": {},
   "outputs": [],
   "source": [
    "data = pd.read_csv('data/ks-projects-201801.csv')"
   ]
  },
  {
   "cell_type": "markdown",
   "metadata": {},
   "source": [
    "## Train-Test Split\n",
    "\n",
    "Splitting the data into train and test data. For Validation it will be used cross-validation. **Stratiffied Shuffle Split.**"
   ]
  },
  {
   "cell_type": "code",
   "execution_count": 5,
   "metadata": {},
   "outputs": [],
   "source": [
    "data_train, data_test = train_test_split(data, test_size=0.1, stratify=data[\"category\"])"
   ]
  },
  {
   "cell_type": "markdown",
   "metadata": {},
   "source": [
    "Checking whether the stratification by category is giving a good stratification by **main_category** and **state** as well. It seems everything is okay - all main categories are stratified around 90%"
   ]
  },
  {
   "cell_type": "code",
   "execution_count": 6,
   "metadata": {
    "scrolled": true
   },
   "outputs": [
    {
     "data": {
      "text/plain": [
       "Film & Video    90.003932\n",
       "Music           90.003467\n",
       "Publishing      89.998495\n",
       "Games           89.997445\n",
       "Technology      89.993552\n",
       "Design          90.000000\n",
       "Art             90.001066\n",
       "Food            90.033331\n",
       "Fashion         90.002630\n",
       "Theater         89.947769\n",
       "Comics          89.943618\n",
       "Photography     90.008350\n",
       "Crafts          90.021569\n",
       "Journalism      90.010515\n",
       "Dance           89.941614\n",
       "Name: main_category, dtype: float64"
      ]
     },
     "execution_count": 6,
     "metadata": {},
     "output_type": "execute_result"
    }
   ],
   "source": [
    "data_train[\"main_category\"].value_counts() / data[\"main_category\"].value_counts() * 100"
   ]
  },
  {
   "cell_type": "code",
   "execution_count": 7,
   "metadata": {},
   "outputs": [
    {
     "data": {
      "text/plain": [
       "failed        90.051032\n",
       "successful    89.954164\n",
       "canceled      89.842440\n",
       "undefined     90.174060\n",
       "live          90.853876\n",
       "suspended     89.490791\n",
       "Name: state, dtype: float64"
      ]
     },
     "execution_count": 7,
     "metadata": {},
     "output_type": "execute_result"
    }
   ],
   "source": [
    "data_train[\"state\"].value_counts() / data[\"state\"].value_counts() * 100"
   ]
  },
  {
   "cell_type": "markdown",
   "metadata": {},
   "source": [
    "## Discover the data"
   ]
  },
  {
   "cell_type": "code",
   "execution_count": 8,
   "metadata": {
    "scrolled": true
   },
   "outputs": [
    {
     "data": {
      "text/html": [
       "<div>\n",
       "<style scoped>\n",
       "    .dataframe tbody tr th:only-of-type {\n",
       "        vertical-align: middle;\n",
       "    }\n",
       "\n",
       "    .dataframe tbody tr th {\n",
       "        vertical-align: top;\n",
       "    }\n",
       "\n",
       "    .dataframe thead th {\n",
       "        text-align: right;\n",
       "    }\n",
       "</style>\n",
       "<table border=\"1\" class=\"dataframe\">\n",
       "  <thead>\n",
       "    <tr style=\"text-align: right;\">\n",
       "      <th></th>\n",
       "      <th>ID</th>\n",
       "      <th>name</th>\n",
       "      <th>category</th>\n",
       "      <th>main_category</th>\n",
       "      <th>currency</th>\n",
       "      <th>deadline</th>\n",
       "      <th>goal</th>\n",
       "      <th>launched</th>\n",
       "      <th>pledged</th>\n",
       "      <th>state</th>\n",
       "      <th>backers</th>\n",
       "      <th>country</th>\n",
       "      <th>usd pledged</th>\n",
       "      <th>usd_pledged_real</th>\n",
       "      <th>usd_goal_real</th>\n",
       "    </tr>\n",
       "  </thead>\n",
       "  <tbody>\n",
       "    <tr>\n",
       "      <td>268788</td>\n",
       "      <td>437827266</td>\n",
       "      <td>Vegan Antics - A 100% Vegan Bakery</td>\n",
       "      <td>Vegan</td>\n",
       "      <td>Food</td>\n",
       "      <td>GBP</td>\n",
       "      <td>2016-10-04</td>\n",
       "      <td>5000.0</td>\n",
       "      <td>2016-09-04 18:07:14</td>\n",
       "      <td>207.0</td>\n",
       "      <td>failed</td>\n",
       "      <td>13</td>\n",
       "      <td>GB</td>\n",
       "      <td>19.94</td>\n",
       "      <td>255.22</td>\n",
       "      <td>6164.70</td>\n",
       "    </tr>\n",
       "    <tr>\n",
       "      <td>172263</td>\n",
       "      <td>1876085348</td>\n",
       "      <td>The BRIM BAND Company</td>\n",
       "      <td>Accessories</td>\n",
       "      <td>Fashion</td>\n",
       "      <td>USD</td>\n",
       "      <td>2016-02-22</td>\n",
       "      <td>25000.0</td>\n",
       "      <td>2016-01-01 18:04:04</td>\n",
       "      <td>135.0</td>\n",
       "      <td>failed</td>\n",
       "      <td>2</td>\n",
       "      <td>US</td>\n",
       "      <td>135.00</td>\n",
       "      <td>135.00</td>\n",
       "      <td>25000.00</td>\n",
       "    </tr>\n",
       "    <tr>\n",
       "      <td>204609</td>\n",
       "      <td>2042318332</td>\n",
       "      <td>Pact Magic Unbound: Grimoire of Lost Souls for...</td>\n",
       "      <td>Tabletop Games</td>\n",
       "      <td>Games</td>\n",
       "      <td>USD</td>\n",
       "      <td>2015-03-28</td>\n",
       "      <td>2500.0</td>\n",
       "      <td>2015-02-26 12:41:38</td>\n",
       "      <td>9826.0</td>\n",
       "      <td>successful</td>\n",
       "      <td>242</td>\n",
       "      <td>US</td>\n",
       "      <td>9826.00</td>\n",
       "      <td>9826.00</td>\n",
       "      <td>2500.00</td>\n",
       "    </tr>\n",
       "    <tr>\n",
       "      <td>99083</td>\n",
       "      <td>1502985139</td>\n",
       "      <td>Cuvee 103 Bistro</td>\n",
       "      <td>Restaurants</td>\n",
       "      <td>Food</td>\n",
       "      <td>USD</td>\n",
       "      <td>2015-12-24</td>\n",
       "      <td>50000.0</td>\n",
       "      <td>2015-11-30 20:20:48</td>\n",
       "      <td>0.0</td>\n",
       "      <td>failed</td>\n",
       "      <td>0</td>\n",
       "      <td>US</td>\n",
       "      <td>0.00</td>\n",
       "      <td>0.00</td>\n",
       "      <td>50000.00</td>\n",
       "    </tr>\n",
       "    <tr>\n",
       "      <td>378274</td>\n",
       "      <td>998212114</td>\n",
       "      <td>Bizarre Noir * Pop Songs for Ugly People * alb...</td>\n",
       "      <td>Rock</td>\n",
       "      <td>Music</td>\n",
       "      <td>USD</td>\n",
       "      <td>2016-11-28</td>\n",
       "      <td>1200.0</td>\n",
       "      <td>2016-11-05 17:45:43</td>\n",
       "      <td>1420.0</td>\n",
       "      <td>successful</td>\n",
       "      <td>30</td>\n",
       "      <td>US</td>\n",
       "      <td>620.00</td>\n",
       "      <td>1420.00</td>\n",
       "      <td>1200.00</td>\n",
       "    </tr>\n",
       "    <tr>\n",
       "      <td>...</td>\n",
       "      <td>...</td>\n",
       "      <td>...</td>\n",
       "      <td>...</td>\n",
       "      <td>...</td>\n",
       "      <td>...</td>\n",
       "      <td>...</td>\n",
       "      <td>...</td>\n",
       "      <td>...</td>\n",
       "      <td>...</td>\n",
       "      <td>...</td>\n",
       "      <td>...</td>\n",
       "      <td>...</td>\n",
       "      <td>...</td>\n",
       "      <td>...</td>\n",
       "      <td>...</td>\n",
       "    </tr>\n",
       "    <tr>\n",
       "      <td>262660</td>\n",
       "      <td>40599481</td>\n",
       "      <td>Kids Are Awful (Canceled)</td>\n",
       "      <td>Children's Books</td>\n",
       "      <td>Publishing</td>\n",
       "      <td>USD</td>\n",
       "      <td>2015-04-29</td>\n",
       "      <td>6500.0</td>\n",
       "      <td>2015-03-29 23:45:39</td>\n",
       "      <td>3067.0</td>\n",
       "      <td>canceled</td>\n",
       "      <td>46</td>\n",
       "      <td>US</td>\n",
       "      <td>3067.00</td>\n",
       "      <td>3067.00</td>\n",
       "      <td>6500.00</td>\n",
       "    </tr>\n",
       "    <tr>\n",
       "      <td>265446</td>\n",
       "      <td>420357420</td>\n",
       "      <td>\"Not Mother\": A Film About Kids, School, and A...</td>\n",
       "      <td>Shorts</td>\n",
       "      <td>Film &amp; Video</td>\n",
       "      <td>USD</td>\n",
       "      <td>2011-01-10</td>\n",
       "      <td>2000.0</td>\n",
       "      <td>2010-12-09 03:27:26</td>\n",
       "      <td>2010.0</td>\n",
       "      <td>successful</td>\n",
       "      <td>26</td>\n",
       "      <td>US</td>\n",
       "      <td>2010.00</td>\n",
       "      <td>2010.00</td>\n",
       "      <td>2000.00</td>\n",
       "    </tr>\n",
       "    <tr>\n",
       "      <td>108102</td>\n",
       "      <td>1549582535</td>\n",
       "      <td>Ballin' From Grace</td>\n",
       "      <td>Music</td>\n",
       "      <td>Music</td>\n",
       "      <td>USD</td>\n",
       "      <td>2015-06-09</td>\n",
       "      <td>75000.0</td>\n",
       "      <td>2015-05-23 05:09:07</td>\n",
       "      <td>0.0</td>\n",
       "      <td>failed</td>\n",
       "      <td>0</td>\n",
       "      <td>US</td>\n",
       "      <td>0.00</td>\n",
       "      <td>0.00</td>\n",
       "      <td>75000.00</td>\n",
       "    </tr>\n",
       "    <tr>\n",
       "      <td>33761</td>\n",
       "      <td>1171444783</td>\n",
       "      <td>\"Creative Spirit\" - a film: Keith Medley's 27-...</td>\n",
       "      <td>Documentary</td>\n",
       "      <td>Film &amp; Video</td>\n",
       "      <td>USD</td>\n",
       "      <td>2011-06-06</td>\n",
       "      <td>40000.0</td>\n",
       "      <td>2011-03-07 18:43:21</td>\n",
       "      <td>4696.0</td>\n",
       "      <td>failed</td>\n",
       "      <td>36</td>\n",
       "      <td>US</td>\n",
       "      <td>4696.00</td>\n",
       "      <td>4696.00</td>\n",
       "      <td>40000.00</td>\n",
       "    </tr>\n",
       "    <tr>\n",
       "      <td>296804</td>\n",
       "      <td>581002583</td>\n",
       "      <td>Afrobeats the new Genre</td>\n",
       "      <td>Hip-Hop</td>\n",
       "      <td>Music</td>\n",
       "      <td>GBP</td>\n",
       "      <td>2014-07-02</td>\n",
       "      <td>2500.0</td>\n",
       "      <td>2014-07-01 14:46:42</td>\n",
       "      <td>0.0</td>\n",
       "      <td>failed</td>\n",
       "      <td>0</td>\n",
       "      <td>GB</td>\n",
       "      <td>0.00</td>\n",
       "      <td>0.00</td>\n",
       "      <td>4285.89</td>\n",
       "    </tr>\n",
       "  </tbody>\n",
       "</table>\n",
       "<p>340794 rows × 15 columns</p>\n",
       "</div>"
      ],
      "text/plain": [
       "                ID                                               name  \\\n",
       "268788   437827266                 Vegan Antics - A 100% Vegan Bakery   \n",
       "172263  1876085348                              The BRIM BAND Company   \n",
       "204609  2042318332  Pact Magic Unbound: Grimoire of Lost Souls for...   \n",
       "99083   1502985139                                   Cuvee 103 Bistro   \n",
       "378274   998212114  Bizarre Noir * Pop Songs for Ugly People * alb...   \n",
       "...            ...                                                ...   \n",
       "262660    40599481                          Kids Are Awful (Canceled)   \n",
       "265446   420357420  \"Not Mother\": A Film About Kids, School, and A...   \n",
       "108102  1549582535                                 Ballin' From Grace   \n",
       "33761   1171444783  \"Creative Spirit\" - a film: Keith Medley's 27-...   \n",
       "296804   581002583                            Afrobeats the new Genre   \n",
       "\n",
       "                category main_category currency    deadline     goal  \\\n",
       "268788             Vegan          Food      GBP  2016-10-04   5000.0   \n",
       "172263       Accessories       Fashion      USD  2016-02-22  25000.0   \n",
       "204609    Tabletop Games         Games      USD  2015-03-28   2500.0   \n",
       "99083        Restaurants          Food      USD  2015-12-24  50000.0   \n",
       "378274              Rock         Music      USD  2016-11-28   1200.0   \n",
       "...                  ...           ...      ...         ...      ...   \n",
       "262660  Children's Books    Publishing      USD  2015-04-29   6500.0   \n",
       "265446            Shorts  Film & Video      USD  2011-01-10   2000.0   \n",
       "108102             Music         Music      USD  2015-06-09  75000.0   \n",
       "33761        Documentary  Film & Video      USD  2011-06-06  40000.0   \n",
       "296804           Hip-Hop         Music      GBP  2014-07-02   2500.0   \n",
       "\n",
       "                   launched  pledged       state  backers country  \\\n",
       "268788  2016-09-04 18:07:14    207.0      failed       13      GB   \n",
       "172263  2016-01-01 18:04:04    135.0      failed        2      US   \n",
       "204609  2015-02-26 12:41:38   9826.0  successful      242      US   \n",
       "99083   2015-11-30 20:20:48      0.0      failed        0      US   \n",
       "378274  2016-11-05 17:45:43   1420.0  successful       30      US   \n",
       "...                     ...      ...         ...      ...     ...   \n",
       "262660  2015-03-29 23:45:39   3067.0    canceled       46      US   \n",
       "265446  2010-12-09 03:27:26   2010.0  successful       26      US   \n",
       "108102  2015-05-23 05:09:07      0.0      failed        0      US   \n",
       "33761   2011-03-07 18:43:21   4696.0      failed       36      US   \n",
       "296804  2014-07-01 14:46:42      0.0      failed        0      GB   \n",
       "\n",
       "        usd pledged  usd_pledged_real  usd_goal_real  \n",
       "268788        19.94            255.22        6164.70  \n",
       "172263       135.00            135.00       25000.00  \n",
       "204609      9826.00           9826.00        2500.00  \n",
       "99083          0.00              0.00       50000.00  \n",
       "378274       620.00           1420.00        1200.00  \n",
       "...             ...               ...            ...  \n",
       "262660      3067.00           3067.00        6500.00  \n",
       "265446      2010.00           2010.00        2000.00  \n",
       "108102         0.00              0.00       75000.00  \n",
       "33761       4696.00           4696.00       40000.00  \n",
       "296804         0.00              0.00        4285.89  \n",
       "\n",
       "[340794 rows x 15 columns]"
      ]
     },
     "execution_count": 8,
     "metadata": {},
     "output_type": "execute_result"
    }
   ],
   "source": [
    "data_train"
   ]
  },
  {
   "cell_type": "code",
   "execution_count": 9,
   "metadata": {
    "scrolled": true
   },
   "outputs": [
    {
     "data": {
      "image/png": "[encoded data removed]",
      "text/plain": [
       "<Figure size 1440x1080 with 9 Axes>"
      ]
     },
     "metadata": {
      "needs_background": "light"
     },
     "output_type": "display_data"
    }
   ],
   "source": [
    "data_train.hist(bins=50, figsize=(20,15))\n",
    "plt.show()"
   ]
  },
  {
   "cell_type": "code",
   "execution_count": 10,
   "metadata": {},
   "outputs": [
    {
     "name": "stderr",
     "output_type": "stream",
     "text": [
      "C:\\Users\\VGeorgiev\\Anaconda3\\lib\\site-packages\\pandas\\core\\series.py:853: RuntimeWarning: divide by zero encountered in log2\n",
      "  result = getattr(ufunc, method)(*inputs, **kwargs)\n"
     ]
    }
   ],
   "source": [
    "backers_log = np.log2(data_train[\"backers\"])\n",
    "backers_log[backers_log < 0] = 0 # backers -inf are just 0 backers"
   ]
  },
  {
   "cell_type": "code",
   "execution_count": 11,
   "metadata": {},
   "outputs": [
    {
     "data": {
      "text/plain": [
       "<matplotlib.axes._subplots.AxesSubplot at 0x261db47e248>"
      ]
     },
     "execution_count": 11,
     "metadata": {},
     "output_type": "execute_result"
    },
    {
     "data": {
      "image/png": "[encoded data removed]",
      "text/plain": [
       "<Figure size 432x288 with 1 Axes>"
      ]
     },
     "metadata": {
      "needs_background": "light"
     },
     "output_type": "display_data"
    }
   ],
   "source": [
    "backers_log.hist()"
   ]
  },
  {
   "cell_type": "markdown",
   "metadata": {},
   "source": [
    "### Display number of values of categorical features\n",
    "\n",
    "Categorical features has to be one-hot encoded. Unfortunately, too many features will not help us with the model. It has to be decided which features to use."
   ]
  },
  {
   "cell_type": "code",
   "execution_count": 12,
   "metadata": {},
   "outputs": [
    {
     "name": "stdout",
     "output_type": "stream",
     "text": [
      "\"category\" has 159 values.\n",
      "\"main_category\" has 15 values.\n",
      "\"currency\" has 14 values.\n",
      "\"country\" has 23 values.\n"
     ]
    }
   ],
   "source": [
    "categorical_features = data[['category', 'main_category', 'currency', 'country']]\n",
    "for category in categorical_features:\n",
    "    print(f'\"{category}\" has {len(categorical_features[category].value_counts())} values.')"
   ]
  },
  {
   "cell_type": "markdown",
   "metadata": {},
   "source": [
    "### Displaying the most successful and failed main_categories"
   ]
  },
  {
   "cell_type": "code",
   "execution_count": 13,
   "metadata": {},
   "outputs": [
    {
     "data": {
      "text/html": [
       "<div>\n",
       "<style scoped>\n",
       "    .dataframe tbody tr th:only-of-type {\n",
       "        vertical-align: middle;\n",
       "    }\n",
       "\n",
       "    .dataframe tbody tr th {\n",
       "        vertical-align: top;\n",
       "    }\n",
       "\n",
       "    .dataframe thead th {\n",
       "        text-align: right;\n",
       "    }\n",
       "</style>\n",
       "<table border=\"1\" class=\"dataframe\">\n",
       "  <thead>\n",
       "    <tr style=\"text-align: right;\">\n",
       "      <th></th>\n",
       "      <th>ID</th>\n",
       "      <th>name</th>\n",
       "      <th>category</th>\n",
       "      <th>main_category</th>\n",
       "      <th>currency</th>\n",
       "      <th>deadline</th>\n",
       "      <th>goal</th>\n",
       "      <th>launched</th>\n",
       "      <th>pledged</th>\n",
       "      <th>state</th>\n",
       "      <th>backers</th>\n",
       "      <th>country</th>\n",
       "      <th>usd pledged</th>\n",
       "      <th>usd_pledged_real</th>\n",
       "      <th>usd_goal_real</th>\n",
       "    </tr>\n",
       "  </thead>\n",
       "  <tbody>\n",
       "    <tr>\n",
       "      <td>169</td>\n",
       "      <td>1000694855</td>\n",
       "      <td>STREETFIGHTERZ WHEELIE MURICA</td>\n",
       "      <td>Film &amp; Video</td>\n",
       "      <td>Film &amp; Video</td>\n",
       "      <td>USD</td>\n",
       "      <td>2014-09-20</td>\n",
       "      <td>6500.0</td>\n",
       "      <td>2014-08-06 21:28:36</td>\n",
       "      <td>555.00</td>\n",
       "      <td>undefined</td>\n",
       "      <td>0</td>\n",
       "      <td>N,0\"</td>\n",
       "      <td>NaN</td>\n",
       "      <td>555.00</td>\n",
       "      <td>6500.00</td>\n",
       "    </tr>\n",
       "    <tr>\n",
       "      <td>328</td>\n",
       "      <td>100149523</td>\n",
       "      <td>Duncan Woods - Chameleon EP</td>\n",
       "      <td>Music</td>\n",
       "      <td>Music</td>\n",
       "      <td>AUD</td>\n",
       "      <td>2015-08-25</td>\n",
       "      <td>4500.0</td>\n",
       "      <td>2015-08-04 12:05:17</td>\n",
       "      <td>4767.00</td>\n",
       "      <td>undefined</td>\n",
       "      <td>0</td>\n",
       "      <td>N,0\"</td>\n",
       "      <td>NaN</td>\n",
       "      <td>3402.08</td>\n",
       "      <td>3211.53</td>\n",
       "    </tr>\n",
       "    <tr>\n",
       "      <td>632</td>\n",
       "      <td>1003023003</td>\n",
       "      <td>The Making of Ashley Kelley's Debut Album</td>\n",
       "      <td>Music</td>\n",
       "      <td>Music</td>\n",
       "      <td>USD</td>\n",
       "      <td>2015-04-09</td>\n",
       "      <td>3500.0</td>\n",
       "      <td>2015-03-10 20:06:13</td>\n",
       "      <td>3576.00</td>\n",
       "      <td>undefined</td>\n",
       "      <td>0</td>\n",
       "      <td>N,0\"</td>\n",
       "      <td>NaN</td>\n",
       "      <td>3576.00</td>\n",
       "      <td>3500.00</td>\n",
       "    </tr>\n",
       "    <tr>\n",
       "      <td>647</td>\n",
       "      <td>1003130892</td>\n",
       "      <td>Butter Side Down Debut Album</td>\n",
       "      <td>Music</td>\n",
       "      <td>Music</td>\n",
       "      <td>USD</td>\n",
       "      <td>2015-11-26</td>\n",
       "      <td>6000.0</td>\n",
       "      <td>2015-11-02 22:09:19</td>\n",
       "      <td>7007.80</td>\n",
       "      <td>undefined</td>\n",
       "      <td>0</td>\n",
       "      <td>N,0\"</td>\n",
       "      <td>NaN</td>\n",
       "      <td>7007.80</td>\n",
       "      <td>6000.00</td>\n",
       "    </tr>\n",
       "    <tr>\n",
       "      <td>749</td>\n",
       "      <td>1003629045</td>\n",
       "      <td>Chase Goehring debut EP</td>\n",
       "      <td>Music</td>\n",
       "      <td>Music</td>\n",
       "      <td>USD</td>\n",
       "      <td>2016-03-21</td>\n",
       "      <td>3000.0</td>\n",
       "      <td>2016-02-23 03:09:49</td>\n",
       "      <td>3660.38</td>\n",
       "      <td>undefined</td>\n",
       "      <td>0</td>\n",
       "      <td>N,0\"</td>\n",
       "      <td>NaN</td>\n",
       "      <td>3660.38</td>\n",
       "      <td>3000.00</td>\n",
       "    </tr>\n",
       "    <tr>\n",
       "      <td>...</td>\n",
       "      <td>...</td>\n",
       "      <td>...</td>\n",
       "      <td>...</td>\n",
       "      <td>...</td>\n",
       "      <td>...</td>\n",
       "      <td>...</td>\n",
       "      <td>...</td>\n",
       "      <td>...</td>\n",
       "      <td>...</td>\n",
       "      <td>...</td>\n",
       "      <td>...</td>\n",
       "      <td>...</td>\n",
       "      <td>...</td>\n",
       "      <td>...</td>\n",
       "      <td>...</td>\n",
       "    </tr>\n",
       "    <tr>\n",
       "      <td>378233</td>\n",
       "      <td>997971307</td>\n",
       "      <td>EQUUS International Film Festival®, all-equine...</td>\n",
       "      <td>Film &amp; Video</td>\n",
       "      <td>Film &amp; Video</td>\n",
       "      <td>USD</td>\n",
       "      <td>2015-02-03</td>\n",
       "      <td>7500.0</td>\n",
       "      <td>2014-12-05 04:19:14</td>\n",
       "      <td>10.00</td>\n",
       "      <td>undefined</td>\n",
       "      <td>0</td>\n",
       "      <td>N,0\"</td>\n",
       "      <td>NaN</td>\n",
       "      <td>10.00</td>\n",
       "      <td>7500.00</td>\n",
       "    </tr>\n",
       "    <tr>\n",
       "      <td>378303</td>\n",
       "      <td>998319149</td>\n",
       "      <td>Emily 2050 - Short Film</td>\n",
       "      <td>Film &amp; Video</td>\n",
       "      <td>Film &amp; Video</td>\n",
       "      <td>CAD</td>\n",
       "      <td>2014-05-23</td>\n",
       "      <td>3000.0</td>\n",
       "      <td>2014-04-08 00:30:09</td>\n",
       "      <td>3102.00</td>\n",
       "      <td>undefined</td>\n",
       "      <td>0</td>\n",
       "      <td>N,0\"</td>\n",
       "      <td>NaN</td>\n",
       "      <td>2845.61</td>\n",
       "      <td>2752.04</td>\n",
       "    </tr>\n",
       "    <tr>\n",
       "      <td>378434</td>\n",
       "      <td>9988744</td>\n",
       "      <td>Matthew Stephens Music</td>\n",
       "      <td>Music</td>\n",
       "      <td>Music</td>\n",
       "      <td>USD</td>\n",
       "      <td>2016-02-05</td>\n",
       "      <td>5000.0</td>\n",
       "      <td>2016-01-06 21:59:23</td>\n",
       "      <td>235.00</td>\n",
       "      <td>undefined</td>\n",
       "      <td>0</td>\n",
       "      <td>N,0\"</td>\n",
       "      <td>NaN</td>\n",
       "      <td>235.00</td>\n",
       "      <td>5000.00</td>\n",
       "    </tr>\n",
       "    <tr>\n",
       "      <td>378585</td>\n",
       "      <td>999610349</td>\n",
       "      <td>Lady Vendredi: Afrofuturist concept 12 inch EP</td>\n",
       "      <td>Music</td>\n",
       "      <td>Music</td>\n",
       "      <td>GBP</td>\n",
       "      <td>2015-10-19</td>\n",
       "      <td>2000.0</td>\n",
       "      <td>2015-09-21 22:33:18</td>\n",
       "      <td>2125.00</td>\n",
       "      <td>undefined</td>\n",
       "      <td>0</td>\n",
       "      <td>N,0\"</td>\n",
       "      <td>NaN</td>\n",
       "      <td>3273.36</td>\n",
       "      <td>3080.81</td>\n",
       "    </tr>\n",
       "    <tr>\n",
       "      <td>378588</td>\n",
       "      <td>999621278</td>\n",
       "      <td>Jeune auteur a besoin de vous!</td>\n",
       "      <td>Publishing</td>\n",
       "      <td>Publishing</td>\n",
       "      <td>EUR</td>\n",
       "      <td>2015-11-20</td>\n",
       "      <td>1600.0</td>\n",
       "      <td>2015-10-21 21:28:13</td>\n",
       "      <td>0.00</td>\n",
       "      <td>undefined</td>\n",
       "      <td>0</td>\n",
       "      <td>N,0\"</td>\n",
       "      <td>NaN</td>\n",
       "      <td>0.00</td>\n",
       "      <td>1710.08</td>\n",
       "    </tr>\n",
       "  </tbody>\n",
       "</table>\n",
       "<p>3562 rows × 15 columns</p>\n",
       "</div>"
      ],
      "text/plain": [
       "                ID                                               name  \\\n",
       "169     1000694855                      STREETFIGHTERZ WHEELIE MURICA   \n",
       "328      100149523                        Duncan Woods - Chameleon EP   \n",
       "632     1003023003          The Making of Ashley Kelley's Debut Album   \n",
       "647     1003130892                       Butter Side Down Debut Album   \n",
       "749     1003629045                            Chase Goehring debut EP   \n",
       "...            ...                                                ...   \n",
       "378233   997971307  EQUUS International Film Festival®, all-equine...   \n",
       "378303   998319149                            Emily 2050 - Short Film   \n",
       "378434     9988744                             Matthew Stephens Music   \n",
       "378585   999610349     Lady Vendredi: Afrofuturist concept 12 inch EP   \n",
       "378588   999621278                     Jeune auteur a besoin de vous!   \n",
       "\n",
       "            category main_category currency    deadline    goal  \\\n",
       "169     Film & Video  Film & Video      USD  2014-09-20  6500.0   \n",
       "328            Music         Music      AUD  2015-08-25  4500.0   \n",
       "632            Music         Music      USD  2015-04-09  3500.0   \n",
       "647            Music         Music      USD  2015-11-26  6000.0   \n",
       "749            Music         Music      USD  2016-03-21  3000.0   \n",
       "...              ...           ...      ...         ...     ...   \n",
       "378233  Film & Video  Film & Video      USD  2015-02-03  7500.0   \n",
       "378303  Film & Video  Film & Video      CAD  2014-05-23  3000.0   \n",
       "378434         Music         Music      USD  2016-02-05  5000.0   \n",
       "378585         Music         Music      GBP  2015-10-19  2000.0   \n",
       "378588    Publishing    Publishing      EUR  2015-11-20  1600.0   \n",
       "\n",
       "                   launched  pledged      state  backers country  usd pledged  \\\n",
       "169     2014-08-06 21:28:36   555.00  undefined        0    N,0\"          NaN   \n",
       "328     2015-08-04 12:05:17  4767.00  undefined        0    N,0\"          NaN   \n",
       "632     2015-03-10 20:06:13  3576.00  undefined        0    N,0\"          NaN   \n",
       "647     2015-11-02 22:09:19  7007.80  undefined        0    N,0\"          NaN   \n",
       "749     2016-02-23 03:09:49  3660.38  undefined        0    N,0\"          NaN   \n",
       "...                     ...      ...        ...      ...     ...          ...   \n",
       "378233  2014-12-05 04:19:14    10.00  undefined        0    N,0\"          NaN   \n",
       "378303  2014-04-08 00:30:09  3102.00  undefined        0    N,0\"          NaN   \n",
       "378434  2016-01-06 21:59:23   235.00  undefined        0    N,0\"          NaN   \n",
       "378585  2015-09-21 22:33:18  2125.00  undefined        0    N,0\"          NaN   \n",
       "378588  2015-10-21 21:28:13     0.00  undefined        0    N,0\"          NaN   \n",
       "\n",
       "        usd_pledged_real  usd_goal_real  \n",
       "169               555.00        6500.00  \n",
       "328              3402.08        3211.53  \n",
       "632              3576.00        3500.00  \n",
       "647              7007.80        6000.00  \n",
       "749              3660.38        3000.00  \n",
       "...                  ...            ...  \n",
       "378233             10.00        7500.00  \n",
       "378303           2845.61        2752.04  \n",
       "378434            235.00        5000.00  \n",
       "378585           3273.36        3080.81  \n",
       "378588              0.00        1710.08  \n",
       "\n",
       "[3562 rows x 15 columns]"
      ]
     },
     "execution_count": 13,
     "metadata": {},
     "output_type": "execute_result"
    }
   ],
   "source": [
    "data[data[\"state\"] == \"undefined\"]"
   ]
  },
  {
   "cell_type": "code",
   "execution_count": 14,
   "metadata": {
    "scrolled": true
   },
   "outputs": [
    {
     "data": {
      "image/png": "[encoded data removed]",
      "text/plain": [
       "<Figure size 432x288 with 1 Axes>"
      ]
     },
     "metadata": {
      "needs_background": "light"
     },
     "output_type": "display_data"
    },
    {
     "data": {
      "text/plain": [
       "failed        197719\n",
       "successful    133956\n",
       "canceled       38779\n",
       "suspended       1846\n",
       "Name: state, dtype: int64"
      ]
     },
     "execution_count": 14,
     "metadata": {},
     "output_type": "execute_result"
    }
   ],
   "source": [
    "main_cats = data[data[\"state\"] != \"live\"]\n",
    "main_cats = main_cats[main_cats[\"state\"] != \"undefined\"]\n",
    "main_cats_sucess = main_cats[main_cats[\"state\"] == \"successful\"][\"main_category\"].value_counts().sort_index()\n",
    "main_cats_failed = main_cats[main_cats[\"state\"] != \"successful\"][\"main_category\"].value_counts().sort_index()\n",
    "\n",
    "fig = plt.figure()\n",
    "\n",
    "ind = np.arange(len(main_cats_sucess)) \n",
    "width = 0.3\n",
    "\n",
    "ax = fig.add_axes([0,0,3,1])\n",
    "ax.bar(ind, list(main_cats_sucess.values), width = width, color = \"g\")\n",
    "ax.bar(ind + width, list(main_cats_failed.values), width = width, color = \"r\")\n",
    "\n",
    "plt.xticks(ind + width / 2, main_cats_sucess.index)\n",
    "\n",
    "plt.show()\n",
    "\n",
    "main_cats[\"state\"].value_counts()"
   ]
  },
  {
   "cell_type": "markdown",
   "metadata": {},
   "source": [
    "### Displaying the most successful and failed main_categories (percentage)\n",
    "Displaying the percentage of the successful/unsuccessful projects are crutial, because the distribution between categories is not balanced. Meaning that a plot by the number of projects can trick our minds which category is more successful than other.\n",
    "\n",
    "Notes:\n",
    "- \"Live\" and \"undefined\" projects are excluded\n",
    "- Unsuccessful project means: failed, canceled, undefined, suspended"
   ]
  },
  {
   "cell_type": "code",
   "execution_count": 15,
   "metadata": {},
   "outputs": [
    {
     "data": {
      "image/png": "[encoded data removed]",
      "text/plain": [
       "<Figure size 432x288 with 1 Axes>"
      ]
     },
     "metadata": {
      "needs_background": "light"
     },
     "output_type": "display_data"
    }
   ],
   "source": [
    "main_cats_all = main_cats['main_category'].value_counts().sort_index()\n",
    "main_cats_success_percentage = main_cats_sucess / main_cats_all * 100\n",
    "main_cats_failed_percentage = main_cats_failed / main_cats_all * 100\n",
    "main_cats_success_percentage = main_cats_success_percentage.sort_values(ascending=False)\n",
    "main_cats_failed_percentage = main_cats_failed_percentage.reindex(main_cats_success_percentage.index)\n",
    "\n",
    "fig = plt.figure()\n",
    "\n",
    "ind = np.arange(len(main_cats_success_percentage)) \n",
    "width = 0.3\n",
    "\n",
    "ax = fig.add_axes([0,0,3,1])\n",
    "ax.bar(ind, list(main_cats_success_percentage.values), width = width, color = \"g\")\n",
    "ax.bar(ind + width, list(main_cats_failed_percentage.values), width = width, color = \"r\")\n",
    "\n",
    "plt.title(\"Successful vs Unsucessful projects by percentage\")\n",
    "plt.ylabel(\"Percentage %\")\n",
    "plt.xlabel(\"Main Category\")\n",
    "plt.yticks(np.arange(0, 101, 10))\n",
    "plt.xticks(ind + width / 2, main_cats_success_percentage.index)\n",
    "\n",
    "plt.show()"
   ]
  },
  {
   "cell_type": "markdown",
   "metadata": {},
   "source": [
    "### Displaying the most successful and failed categories"
   ]
  },
  {
   "cell_type": "code",
   "execution_count": 16,
   "metadata": {
    "scrolled": true
   },
   "outputs": [
    {
     "data": {
      "image/png": "[encoded data removed]",
      "text/plain": [
       "<Figure size 432x288 with 1 Axes>"
      ]
     },
     "metadata": {
      "needs_background": "light"
     },
     "output_type": "display_data"
    }
   ],
   "source": [
    "cats_sucess = main_cats[main_cats[\"state\"] == \"successful\"][\"category\"].value_counts().sort_index()\n",
    "cats_failed = main_cats[main_cats[\"state\"] != \"successful\"][\"category\"].value_counts().sort_index()\n",
    "\n",
    "fig = plt.figure()\n",
    "\n",
    "ind = np.arange(len(cats_sucess)) \n",
    "width = 0.3\n",
    "\n",
    "ax = fig.add_axes([0,0,3,1])\n",
    "ax.bar(ind, list(cats_sucess.values), width = width, color = \"g\")\n",
    "ax.bar(ind + width, list(cats_failed.values), width = width, color = \"r\")\n",
    "\n",
    "plt.xticks(ind + width / 2, cats_sucess.index, rotation='vertical')\n",
    "\n",
    "plt.show()"
   ]
  },
  {
   "cell_type": "markdown",
   "metadata": {},
   "source": [
    "### Displaying the most successful and failed categories (percentage)"
   ]
  },
  {
   "cell_type": "code",
   "execution_count": 17,
   "metadata": {
    "scrolled": true
   },
   "outputs": [
    {
     "data": {
      "image/png": "[encoded data removed]",
      "text/plain": [
       "<Figure size 432x288 with 1 Axes>"
      ]
     },
     "metadata": {
      "needs_background": "light"
     },
     "output_type": "display_data"
    }
   ],
   "source": [
    "cats_all = main_cats['category'].value_counts().sort_index()\n",
    "cats_success_percentage = cats_sucess / cats_all * 100\n",
    "cats_failed_percentage = cats_failed / cats_all * 100\n",
    "cats_success_percentage = cats_success_percentage.sort_values(ascending=False)\n",
    "cats_failed_percentage = cats_failed_percentage.reindex(cats_success_percentage.index)\n",
    "\n",
    "fig = plt.figure()\n",
    "\n",
    "ind = np.arange(len(cats_success_percentage)) \n",
    "width = 0.3\n",
    "\n",
    "ax = fig.add_axes([0,0,3,1])\n",
    "ax.bar(ind, list(cats_success_percentage.values), width = width, color = \"g\")\n",
    "ax.bar(ind + width, list(cats_failed_percentage.values), width = width, color = \"r\")\n",
    "\n",
    "plt.title(\"Successful vs Unsucessful projects by percentage\")\n",
    "plt.ylabel(\"Percentage %\")\n",
    "plt.xlabel(\"Main Category\")\n",
    "plt.yticks(np.arange(0, 101, 10))\n",
    "plt.xticks(ind + width / 2, cats_success_percentage.index, rotation='vertical')\n",
    "\n",
    "plt.show()"
   ]
  },
  {
   "cell_type": "markdown",
   "metadata": {},
   "source": [
    "### Finding the most successful projects based on correlations\n",
    "\n",
    "There is high correlation for **backers** and **pledged** money, which is normal. The correlations between categories are not strong. It can be seen that projects from US and with USD currency are most successful. "
   ]
  },
  {
   "cell_type": "code",
   "execution_count": 18,
   "metadata": {},
   "outputs": [],
   "source": [
    "pd.set_option('display.max_rows', 500)\n",
    "pd.set_option('display.max_columns', 500)"
   ]
  },
  {
   "cell_type": "code",
   "execution_count": 19,
   "metadata": {},
   "outputs": [
    {
     "data": {
      "text/plain": [
       "US      292627\n",
       "GB       33672\n",
       "CA       14756\n",
       "AU        7839\n",
       "DE        4171\n",
       "N,0\"      3797\n",
       "FR        2939\n",
       "IT        2878\n",
       "NL        2868\n",
       "ES        2276\n",
       "SE        1757\n",
       "MX        1752\n",
       "NZ        1447\n",
       "DK        1113\n",
       "IE         811\n",
       "CH         761\n",
       "NO         708\n",
       "HK         618\n",
       "BE         617\n",
       "AT         597\n",
       "SG         555\n",
       "LU          62\n",
       "JP          40\n",
       "Name: country, dtype: int64"
      ]
     },
     "execution_count": 19,
     "metadata": {},
     "output_type": "execute_result"
    }
   ],
   "source": [
    "data[\"country\"].value_counts()"
   ]
  },
  {
   "cell_type": "code",
   "execution_count": 20,
   "metadata": {
    "scrolled": false
   },
   "outputs": [
    {
     "data": {
      "text/plain": [
       "state_successful              1.000000\n",
       "backers                       0.129109\n",
       "pledged                       0.111534\n",
       "usd_pledged_real              0.110704\n",
       "usd pledged                   0.097791\n",
       "main_category_Music           0.093623\n",
       "main_category_Theater         0.088260\n",
       "country_US                    0.076169\n",
       "main_category_Comics          0.066792\n",
       "currency_USD                  0.065202\n",
       "main_category_Dance           0.055926\n",
       "main_category_Art             0.032645\n",
       "main_category_Film & Video    0.016683\n",
       "country_GB                    0.003010\n",
       "main_category_Games           0.001038\n",
       "currency_GBP                  0.000123\n",
       "country_HK                   -0.000359\n",
       "currency_HKD                 -0.000359\n",
       "ID                           -0.001200\n",
       "country_LU                   -0.001266\n",
       "main_category_Design         -0.001790\n",
       "country_SG                   -0.002648\n",
       "currency_SGD                 -0.002648\n",
       "country_DK                   -0.003442\n",
       "currency_DKK                 -0.003789\n",
       "country_JP                   -0.003843\n",
       "currency_JPY                 -0.003843\n",
       "country_NZ                   -0.005720\n",
       "currency_NZD                 -0.006544\n",
       "country_FR                   -0.008289\n",
       "country_BE                   -0.009075\n",
       "country_SE                   -0.009148\n",
       "country_IE                   -0.009546\n",
       "currency_SEK                 -0.009952\n",
       "country_CH                   -0.010139\n",
       "currency_CHF                 -0.010397\n",
       "country_NO                   -0.011310\n",
       "currency_NOK                 -0.011701\n",
       "country_AT                   -0.014505\n",
       "main_category_Photography    -0.016879\n",
       "currency_MXN                 -0.018214\n",
       "country_MX                   -0.018214\n",
       "country_ES                   -0.022378\n",
       "usd_goal_real                -0.023052\n",
       "goal                         -0.024332\n",
       "country_NL                   -0.025329\n",
       "country_DE                   -0.028499\n",
       "country_AU                   -0.029603\n",
       "currency_AUD                 -0.030875\n",
       "country_CA                   -0.030999\n",
       "main_category_Publishing     -0.032497\n",
       "currency_CAD                 -0.032775\n",
       "main_category_Journalism     -0.033240\n",
       "main_category_Crafts         -0.036689\n",
       "country_IT                   -0.036831\n",
       "state_suspended              -0.051786\n",
       "main_category_Fashion        -0.057528\n",
       "main_category_Food           -0.058673\n",
       "currency_EUR                 -0.060011\n",
       "state_live                   -0.063848\n",
       "country_N,0\"                 -0.068643\n",
       "state_undefined              -0.072100\n",
       "main_category_Technology     -0.100224\n",
       "state_canceled               -0.249916\n",
       "state_failed                 -0.773418\n",
       "Name: state_successful, dtype: float64"
      ]
     },
     "execution_count": 20,
     "metadata": {},
     "output_type": "execute_result"
    }
   ],
   "source": [
    "dummies_corr = pd.get_dummies(data, columns = [\"main_category\", \"currency\", \"country\", \"state\"]).corr()\n",
    "dummies_corr[\"state_successful\"].sort_values(ascending=False)"
   ]
  },
  {
   "cell_type": "markdown",
   "metadata": {},
   "source": [
    "## Feature Engineering"
   ]
  },
  {
   "cell_type": "markdown",
   "metadata": {},
   "source": [
    "### Transform dates"
   ]
  },
  {
   "cell_type": "markdown",
   "metadata": {},
   "source": [
    "#### Dates insights and decisions\n",
    "Based on the correlations and observations, it seems that year and day information about launches and deadlines does not give us a lot of information. Only months will be used in order to gain knowledge which are the best months for starting and ending a project."
   ]
  },
  {
   "cell_type": "code",
   "execution_count": 21,
   "metadata": {},
   "outputs": [],
   "source": [
    "data_processed = data.copy()\n",
    "data_processed['launched_month'] = pd.DatetimeIndex(data['launched']).month\n",
    "data_processed['deadline_month'] = pd.DatetimeIndex(data['deadline']).month"
   ]
  },
  {
   "cell_type": "markdown",
   "metadata": {},
   "source": [
    "### Creating new feature - duration of a project\n",
    "\n",
    "The lanuch date and deadline don't give us a lot of information, except the start and end month. Some of the months are better to start or end a project. So maybe the duration of the project is something we can gain insight from."
   ]
  },
  {
   "cell_type": "code",
   "execution_count": 22,
   "metadata": {
    "scrolled": false
   },
   "outputs": [],
   "source": [
    "from datetime import date\n",
    "launched = pd.DatetimeIndex(data_processed['launched'])\n",
    "deadline = pd.DatetimeIndex(data_processed['deadline'])\n",
    "\n",
    "data_processed[\"duration\"] = (deadline - launched).days"
   ]
  },
  {
   "cell_type": "markdown",
   "metadata": {},
   "source": [
    "#### Annomalies\n",
    "\n",
    "There are project with extremely high duration and it seems they are with lauched date 1970. They will be deleted."
   ]
  },
  {
   "cell_type": "code",
   "execution_count": 23,
   "metadata": {},
   "outputs": [
    {
     "data": {
      "text/html": [
       "<div>\n",
       "<style scoped>\n",
       "    .dataframe tbody tr th:only-of-type {\n",
       "        vertical-align: middle;\n",
       "    }\n",
       "\n",
       "    .dataframe tbody tr th {\n",
       "        vertical-align: top;\n",
       "    }\n",
       "\n",
       "    .dataframe thead th {\n",
       "        text-align: right;\n",
       "    }\n",
       "</style>\n",
       "<table border=\"1\" class=\"dataframe\">\n",
       "  <thead>\n",
       "    <tr style=\"text-align: right;\">\n",
       "      <th></th>\n",
       "      <th>ID</th>\n",
       "      <th>name</th>\n",
       "      <th>category</th>\n",
       "      <th>main_category</th>\n",
       "      <th>currency</th>\n",
       "      <th>deadline</th>\n",
       "      <th>goal</th>\n",
       "      <th>launched</th>\n",
       "      <th>pledged</th>\n",
       "      <th>state</th>\n",
       "      <th>backers</th>\n",
       "      <th>country</th>\n",
       "      <th>usd pledged</th>\n",
       "      <th>usd_pledged_real</th>\n",
       "      <th>usd_goal_real</th>\n",
       "      <th>launched_month</th>\n",
       "      <th>deadline_month</th>\n",
       "      <th>duration</th>\n",
       "    </tr>\n",
       "  </thead>\n",
       "  <tbody>\n",
       "    <tr>\n",
       "      <td>2842</td>\n",
       "      <td>1014746686</td>\n",
       "      <td>Salt of the Earth: A Dead Sea Movie (Canceled)</td>\n",
       "      <td>Film &amp; Video</td>\n",
       "      <td>Film &amp; Video</td>\n",
       "      <td>USD</td>\n",
       "      <td>2010-09-15</td>\n",
       "      <td>5000.0</td>\n",
       "      <td>1970-01-01 01:00:00</td>\n",
       "      <td>0.0</td>\n",
       "      <td>canceled</td>\n",
       "      <td>0</td>\n",
       "      <td>US</td>\n",
       "      <td>0.0</td>\n",
       "      <td>0.0</td>\n",
       "      <td>5000.00</td>\n",
       "      <td>1</td>\n",
       "      <td>9</td>\n",
       "      <td>14866</td>\n",
       "    </tr>\n",
       "    <tr>\n",
       "      <td>48147</td>\n",
       "      <td>1245461087</td>\n",
       "      <td>1st Super-Size Painting - Social Network Owned...</td>\n",
       "      <td>Art</td>\n",
       "      <td>Art</td>\n",
       "      <td>USD</td>\n",
       "      <td>2010-08-14</td>\n",
       "      <td>15000.0</td>\n",
       "      <td>1970-01-01 01:00:00</td>\n",
       "      <td>0.0</td>\n",
       "      <td>canceled</td>\n",
       "      <td>0</td>\n",
       "      <td>US</td>\n",
       "      <td>0.0</td>\n",
       "      <td>0.0</td>\n",
       "      <td>15000.00</td>\n",
       "      <td>1</td>\n",
       "      <td>8</td>\n",
       "      <td>14834</td>\n",
       "    </tr>\n",
       "    <tr>\n",
       "      <td>75397</td>\n",
       "      <td>1384087152</td>\n",
       "      <td>\"ICHOR\"  (Canceled)</td>\n",
       "      <td>Film &amp; Video</td>\n",
       "      <td>Film &amp; Video</td>\n",
       "      <td>USD</td>\n",
       "      <td>2010-05-21</td>\n",
       "      <td>700.0</td>\n",
       "      <td>1970-01-01 01:00:00</td>\n",
       "      <td>0.0</td>\n",
       "      <td>canceled</td>\n",
       "      <td>0</td>\n",
       "      <td>US</td>\n",
       "      <td>0.0</td>\n",
       "      <td>0.0</td>\n",
       "      <td>700.00</td>\n",
       "      <td>1</td>\n",
       "      <td>5</td>\n",
       "      <td>14749</td>\n",
       "    </tr>\n",
       "    <tr>\n",
       "      <td>94579</td>\n",
       "      <td>1480763647</td>\n",
       "      <td>Support Solo Theater! Help \"Ungrateful Daughte...</td>\n",
       "      <td>Theater</td>\n",
       "      <td>Theater</td>\n",
       "      <td>USD</td>\n",
       "      <td>2010-06-01</td>\n",
       "      <td>4000.0</td>\n",
       "      <td>1970-01-01 01:00:00</td>\n",
       "      <td>0.0</td>\n",
       "      <td>canceled</td>\n",
       "      <td>0</td>\n",
       "      <td>US</td>\n",
       "      <td>0.0</td>\n",
       "      <td>0.0</td>\n",
       "      <td>4000.00</td>\n",
       "      <td>1</td>\n",
       "      <td>6</td>\n",
       "      <td>14760</td>\n",
       "    </tr>\n",
       "    <tr>\n",
       "      <td>247913</td>\n",
       "      <td>330942060</td>\n",
       "      <td>Help RIZ Make A Charity Album: 8 Songs, 8 Caus...</td>\n",
       "      <td>Music</td>\n",
       "      <td>Music</td>\n",
       "      <td>USD</td>\n",
       "      <td>2010-05-04</td>\n",
       "      <td>10000.0</td>\n",
       "      <td>1970-01-01 01:00:00</td>\n",
       "      <td>0.0</td>\n",
       "      <td>canceled</td>\n",
       "      <td>0</td>\n",
       "      <td>US</td>\n",
       "      <td>0.0</td>\n",
       "      <td>0.0</td>\n",
       "      <td>10000.00</td>\n",
       "      <td>1</td>\n",
       "      <td>5</td>\n",
       "      <td>14732</td>\n",
       "    </tr>\n",
       "    <tr>\n",
       "      <td>273779</td>\n",
       "      <td>462917959</td>\n",
       "      <td>Identity Communications Infographic (Canceled)</td>\n",
       "      <td>Design</td>\n",
       "      <td>Design</td>\n",
       "      <td>USD</td>\n",
       "      <td>2010-04-10</td>\n",
       "      <td>500.0</td>\n",
       "      <td>1970-01-01 01:00:00</td>\n",
       "      <td>0.0</td>\n",
       "      <td>canceled</td>\n",
       "      <td>0</td>\n",
       "      <td>US</td>\n",
       "      <td>0.0</td>\n",
       "      <td>0.0</td>\n",
       "      <td>500.00</td>\n",
       "      <td>1</td>\n",
       "      <td>4</td>\n",
       "      <td>14708</td>\n",
       "    </tr>\n",
       "    <tr>\n",
       "      <td>319002</td>\n",
       "      <td>69489148</td>\n",
       "      <td>Student Auditions Music 2015</td>\n",
       "      <td>Publishing</td>\n",
       "      <td>Publishing</td>\n",
       "      <td>CHF</td>\n",
       "      <td>2015-10-31</td>\n",
       "      <td>1900.0</td>\n",
       "      <td>1970-01-01 01:00:00</td>\n",
       "      <td>0.0</td>\n",
       "      <td>suspended</td>\n",
       "      <td>0</td>\n",
       "      <td>CH</td>\n",
       "      <td>0.0</td>\n",
       "      <td>0.0</td>\n",
       "      <td>1905.97</td>\n",
       "      <td>1</td>\n",
       "      <td>10</td>\n",
       "      <td>16738</td>\n",
       "    </tr>\n",
       "  </tbody>\n",
       "</table>\n",
       "</div>"
      ],
      "text/plain": [
       "                ID                                               name  \\\n",
       "2842    1014746686     Salt of the Earth: A Dead Sea Movie (Canceled)   \n",
       "48147   1245461087  1st Super-Size Painting - Social Network Owned...   \n",
       "75397   1384087152                                \"ICHOR\"  (Canceled)   \n",
       "94579   1480763647  Support Solo Theater! Help \"Ungrateful Daughte...   \n",
       "247913   330942060  Help RIZ Make A Charity Album: 8 Songs, 8 Caus...   \n",
       "273779   462917959     Identity Communications Infographic (Canceled)   \n",
       "319002    69489148                       Student Auditions Music 2015   \n",
       "\n",
       "            category main_category currency    deadline     goal  \\\n",
       "2842    Film & Video  Film & Video      USD  2010-09-15   5000.0   \n",
       "48147            Art           Art      USD  2010-08-14  15000.0   \n",
       "75397   Film & Video  Film & Video      USD  2010-05-21    700.0   \n",
       "94579        Theater       Theater      USD  2010-06-01   4000.0   \n",
       "247913         Music         Music      USD  2010-05-04  10000.0   \n",
       "273779        Design        Design      USD  2010-04-10    500.0   \n",
       "319002    Publishing    Publishing      CHF  2015-10-31   1900.0   \n",
       "\n",
       "                   launched  pledged      state  backers country  usd pledged  \\\n",
       "2842    1970-01-01 01:00:00      0.0   canceled        0      US          0.0   \n",
       "48147   1970-01-01 01:00:00      0.0   canceled        0      US          0.0   \n",
       "75397   1970-01-01 01:00:00      0.0   canceled        0      US          0.0   \n",
       "94579   1970-01-01 01:00:00      0.0   canceled        0      US          0.0   \n",
       "247913  1970-01-01 01:00:00      0.0   canceled        0      US          0.0   \n",
       "273779  1970-01-01 01:00:00      0.0   canceled        0      US          0.0   \n",
       "319002  1970-01-01 01:00:00      0.0  suspended        0      CH          0.0   \n",
       "\n",
       "        usd_pledged_real  usd_goal_real  launched_month  deadline_month  \\\n",
       "2842                 0.0        5000.00               1               9   \n",
       "48147                0.0       15000.00               1               8   \n",
       "75397                0.0         700.00               1               5   \n",
       "94579                0.0        4000.00               1               6   \n",
       "247913               0.0       10000.00               1               5   \n",
       "273779               0.0         500.00               1               4   \n",
       "319002               0.0        1905.97               1              10   \n",
       "\n",
       "        duration  \n",
       "2842       14866  \n",
       "48147      14834  \n",
       "75397      14749  \n",
       "94579      14760  \n",
       "247913     14732  \n",
       "273779     14708  \n",
       "319002     16738  "
      ]
     },
     "execution_count": 23,
     "metadata": {},
     "output_type": "execute_result"
    }
   ],
   "source": [
    "data_processed[data_processed[\"duration\"] > 10000]"
   ]
  },
  {
   "cell_type": "markdown",
   "metadata": {},
   "source": [
    "## Data Preparation"
   ]
  },
  {
   "cell_type": "markdown",
   "metadata": {},
   "source": [
    "### Columns cleaning"
   ]
  },
  {
   "cell_type": "code",
   "execution_count": 24,
   "metadata": {},
   "outputs": [],
   "source": [
    "data_processed = data_processed.drop(['ID', 'name', 'deadline', 'launched', 'goal', 'pledged', 'usd pledged'], axis=1)"
   ]
  },
  {
   "cell_type": "code",
   "execution_count": 25,
   "metadata": {},
   "outputs": [],
   "source": [
    "data_processed = data_processed.drop(['usd_pledged_real', 'backers'], axis=1)"
   ]
  },
  {
   "cell_type": "markdown",
   "metadata": {},
   "source": [
    "### Data Cleaning"
   ]
  },
  {
   "cell_type": "code",
   "execution_count": 26,
   "metadata": {},
   "outputs": [],
   "source": [
    "data_processed = data_processed[data_processed[\"duration\"] < 10000]"
   ]
  },
  {
   "cell_type": "code",
   "execution_count": 27,
   "metadata": {},
   "outputs": [],
   "source": [
    "data_processed = data_processed[data_processed['state'] != 'live']\n",
    "data_processed = data_processed[data_processed['state'] != 'undefined']"
   ]
  },
  {
   "cell_type": "markdown",
   "metadata": {},
   "source": [
    "### One-hot encoding\n",
    "\n",
    "- Encode **launched_month** and **deadline_month**"
   ]
  },
  {
   "cell_type": "code",
   "execution_count": 28,
   "metadata": {},
   "outputs": [],
   "source": [
    "data_processed = pd.get_dummies(data_processed, columns = [\"main_category\"]) # , \"category\", \"country\", \"currency\""
   ]
  },
  {
   "cell_type": "code",
   "execution_count": 29,
   "metadata": {},
   "outputs": [],
   "source": [
    "data_processed = data_processed.drop(['country', 'currency', 'category'], axis=1)"
   ]
  },
  {
   "cell_type": "markdown",
   "metadata": {},
   "source": [
    "### Feature Scaling\n",
    "\n",
    "- Scale **usd_pledged_real** and **usd_goal_real**"
   ]
  },
  {
   "cell_type": "code",
   "execution_count": 54,
   "metadata": {},
   "outputs": [],
   "source": [
    "from sklearn.preprocessing import StandardScaler, MinMaxScaler\n",
    "scaler = MinMaxScaler()\n",
    "data_processed['usd_goal_real'] = scaler.fit_transform(data_processed[['usd_goal_real']])"
   ]
  },
  {
   "cell_type": "code",
   "execution_count": 55,
   "metadata": {},
   "outputs": [
    {
     "data": {
      "text/plain": [
       "count    372293.000000\n",
       "mean          0.000275\n",
       "std           0.006921\n",
       "min           0.000000\n",
       "25%           0.000012\n",
       "50%           0.000033\n",
       "75%           0.000096\n",
       "max           1.000000\n",
       "Name: usd_goal_real, dtype: float64"
      ]
     },
     "execution_count": 55,
     "metadata": {},
     "output_type": "execute_result"
    }
   ],
   "source": [
    "data_processed['usd_goal_real'].describe()"
   ]
  },
  {
   "cell_type": "markdown",
   "metadata": {},
   "source": [
    "### Label Extraction"
   ]
  },
  {
   "cell_type": "code",
   "execution_count": 32,
   "metadata": {},
   "outputs": [],
   "source": [
    "data_labels = data_processed['state']\n",
    "data_processed = data_processed.drop(['state'], axis=1)"
   ]
  },
  {
   "cell_type": "markdown",
   "metadata": {},
   "source": [
    "## Train Linear Classification"
   ]
  },
  {
   "cell_type": "code",
   "execution_count": 56,
   "metadata": {},
   "outputs": [
    {
     "data": {
      "text/html": [
       "<div>\n",
       "<style scoped>\n",
       "    .dataframe tbody tr th:only-of-type {\n",
       "        vertical-align: middle;\n",
       "    }\n",
       "\n",
       "    .dataframe tbody tr th {\n",
       "        vertical-align: top;\n",
       "    }\n",
       "\n",
       "    .dataframe thead th {\n",
       "        text-align: right;\n",
       "    }\n",
       "</style>\n",
       "<table border=\"1\" class=\"dataframe\">\n",
       "  <thead>\n",
       "    <tr style=\"text-align: right;\">\n",
       "      <th></th>\n",
       "      <th>usd_goal_real</th>\n",
       "      <th>launched_month</th>\n",
       "      <th>deadline_month</th>\n",
       "      <th>duration</th>\n",
       "      <th>main_category_Art</th>\n",
       "      <th>main_category_Comics</th>\n",
       "      <th>main_category_Crafts</th>\n",
       "      <th>main_category_Dance</th>\n",
       "      <th>main_category_Design</th>\n",
       "      <th>main_category_Fashion</th>\n",
       "      <th>main_category_Film &amp; Video</th>\n",
       "      <th>main_category_Food</th>\n",
       "      <th>main_category_Games</th>\n",
       "      <th>main_category_Journalism</th>\n",
       "      <th>main_category_Music</th>\n",
       "      <th>main_category_Photography</th>\n",
       "      <th>main_category_Publishing</th>\n",
       "      <th>main_category_Technology</th>\n",
       "      <th>main_category_Theater</th>\n",
       "    </tr>\n",
       "  </thead>\n",
       "  <tbody>\n",
       "    <tr>\n",
       "      <td>0</td>\n",
       "      <td>0.000009</td>\n",
       "      <td>8</td>\n",
       "      <td>10</td>\n",
       "      <td>58</td>\n",
       "      <td>0</td>\n",
       "      <td>0</td>\n",
       "      <td>0</td>\n",
       "      <td>0</td>\n",
       "      <td>0</td>\n",
       "      <td>0</td>\n",
       "      <td>0</td>\n",
       "      <td>0</td>\n",
       "      <td>0</td>\n",
       "      <td>0</td>\n",
       "      <td>0</td>\n",
       "      <td>0</td>\n",
       "      <td>1</td>\n",
       "      <td>0</td>\n",
       "      <td>0</td>\n",
       "    </tr>\n",
       "    <tr>\n",
       "      <td>1</td>\n",
       "      <td>0.000180</td>\n",
       "      <td>9</td>\n",
       "      <td>11</td>\n",
       "      <td>59</td>\n",
       "      <td>0</td>\n",
       "      <td>0</td>\n",
       "      <td>0</td>\n",
       "      <td>0</td>\n",
       "      <td>0</td>\n",
       "      <td>0</td>\n",
       "      <td>1</td>\n",
       "      <td>0</td>\n",
       "      <td>0</td>\n",
       "      <td>0</td>\n",
       "      <td>0</td>\n",
       "      <td>0</td>\n",
       "      <td>0</td>\n",
       "      <td>0</td>\n",
       "      <td>0</td>\n",
       "    </tr>\n",
       "    <tr>\n",
       "      <td>2</td>\n",
       "      <td>0.000270</td>\n",
       "      <td>1</td>\n",
       "      <td>2</td>\n",
       "      <td>44</td>\n",
       "      <td>0</td>\n",
       "      <td>0</td>\n",
       "      <td>0</td>\n",
       "      <td>0</td>\n",
       "      <td>0</td>\n",
       "      <td>0</td>\n",
       "      <td>1</td>\n",
       "      <td>0</td>\n",
       "      <td>0</td>\n",
       "      <td>0</td>\n",
       "      <td>0</td>\n",
       "      <td>0</td>\n",
       "      <td>0</td>\n",
       "      <td>0</td>\n",
       "      <td>0</td>\n",
       "    </tr>\n",
       "    <tr>\n",
       "      <td>3</td>\n",
       "      <td>0.000030</td>\n",
       "      <td>3</td>\n",
       "      <td>4</td>\n",
       "      <td>29</td>\n",
       "      <td>0</td>\n",
       "      <td>0</td>\n",
       "      <td>0</td>\n",
       "      <td>0</td>\n",
       "      <td>0</td>\n",
       "      <td>0</td>\n",
       "      <td>0</td>\n",
       "      <td>0</td>\n",
       "      <td>0</td>\n",
       "      <td>0</td>\n",
       "      <td>1</td>\n",
       "      <td>0</td>\n",
       "      <td>0</td>\n",
       "      <td>0</td>\n",
       "      <td>0</td>\n",
       "    </tr>\n",
       "    <tr>\n",
       "      <td>4</td>\n",
       "      <td>0.000117</td>\n",
       "      <td>7</td>\n",
       "      <td>8</td>\n",
       "      <td>55</td>\n",
       "      <td>0</td>\n",
       "      <td>0</td>\n",
       "      <td>0</td>\n",
       "      <td>0</td>\n",
       "      <td>0</td>\n",
       "      <td>0</td>\n",
       "      <td>1</td>\n",
       "      <td>0</td>\n",
       "      <td>0</td>\n",
       "      <td>0</td>\n",
       "      <td>0</td>\n",
       "      <td>0</td>\n",
       "      <td>0</td>\n",
       "      <td>0</td>\n",
       "      <td>0</td>\n",
       "    </tr>\n",
       "    <tr>\n",
       "      <td>...</td>\n",
       "      <td>...</td>\n",
       "      <td>...</td>\n",
       "      <td>...</td>\n",
       "      <td>...</td>\n",
       "      <td>...</td>\n",
       "      <td>...</td>\n",
       "      <td>...</td>\n",
       "      <td>...</td>\n",
       "      <td>...</td>\n",
       "      <td>...</td>\n",
       "      <td>...</td>\n",
       "      <td>...</td>\n",
       "      <td>...</td>\n",
       "      <td>...</td>\n",
       "      <td>...</td>\n",
       "      <td>...</td>\n",
       "      <td>...</td>\n",
       "      <td>...</td>\n",
       "      <td>...</td>\n",
       "    </tr>\n",
       "    <tr>\n",
       "      <td>378656</td>\n",
       "      <td>0.000301</td>\n",
       "      <td>9</td>\n",
       "      <td>10</td>\n",
       "      <td>29</td>\n",
       "      <td>0</td>\n",
       "      <td>0</td>\n",
       "      <td>0</td>\n",
       "      <td>0</td>\n",
       "      <td>0</td>\n",
       "      <td>0</td>\n",
       "      <td>1</td>\n",
       "      <td>0</td>\n",
       "      <td>0</td>\n",
       "      <td>0</td>\n",
       "      <td>0</td>\n",
       "      <td>0</td>\n",
       "      <td>0</td>\n",
       "      <td>0</td>\n",
       "      <td>0</td>\n",
       "    </tr>\n",
       "    <tr>\n",
       "      <td>378657</td>\n",
       "      <td>0.000009</td>\n",
       "      <td>6</td>\n",
       "      <td>7</td>\n",
       "      <td>26</td>\n",
       "      <td>0</td>\n",
       "      <td>0</td>\n",
       "      <td>0</td>\n",
       "      <td>0</td>\n",
       "      <td>0</td>\n",
       "      <td>0</td>\n",
       "      <td>1</td>\n",
       "      <td>0</td>\n",
       "      <td>0</td>\n",
       "      <td>0</td>\n",
       "      <td>0</td>\n",
       "      <td>0</td>\n",
       "      <td>0</td>\n",
       "      <td>0</td>\n",
       "      <td>0</td>\n",
       "    </tr>\n",
       "    <tr>\n",
       "      <td>378658</td>\n",
       "      <td>0.000090</td>\n",
       "      <td>7</td>\n",
       "      <td>8</td>\n",
       "      <td>45</td>\n",
       "      <td>0</td>\n",
       "      <td>0</td>\n",
       "      <td>0</td>\n",
       "      <td>0</td>\n",
       "      <td>0</td>\n",
       "      <td>0</td>\n",
       "      <td>1</td>\n",
       "      <td>0</td>\n",
       "      <td>0</td>\n",
       "      <td>0</td>\n",
       "      <td>0</td>\n",
       "      <td>0</td>\n",
       "      <td>0</td>\n",
       "      <td>0</td>\n",
       "      <td>0</td>\n",
       "    </tr>\n",
       "    <tr>\n",
       "      <td>378659</td>\n",
       "      <td>0.000090</td>\n",
       "      <td>1</td>\n",
       "      <td>2</td>\n",
       "      <td>30</td>\n",
       "      <td>0</td>\n",
       "      <td>0</td>\n",
       "      <td>0</td>\n",
       "      <td>0</td>\n",
       "      <td>0</td>\n",
       "      <td>0</td>\n",
       "      <td>0</td>\n",
       "      <td>0</td>\n",
       "      <td>0</td>\n",
       "      <td>0</td>\n",
       "      <td>0</td>\n",
       "      <td>0</td>\n",
       "      <td>0</td>\n",
       "      <td>1</td>\n",
       "      <td>0</td>\n",
       "    </tr>\n",
       "    <tr>\n",
       "      <td>378660</td>\n",
       "      <td>0.000012</td>\n",
       "      <td>7</td>\n",
       "      <td>8</td>\n",
       "      <td>27</td>\n",
       "      <td>1</td>\n",
       "      <td>0</td>\n",
       "      <td>0</td>\n",
       "      <td>0</td>\n",
       "      <td>0</td>\n",
       "      <td>0</td>\n",
       "      <td>0</td>\n",
       "      <td>0</td>\n",
       "      <td>0</td>\n",
       "      <td>0</td>\n",
       "      <td>0</td>\n",
       "      <td>0</td>\n",
       "      <td>0</td>\n",
       "      <td>0</td>\n",
       "      <td>0</td>\n",
       "    </tr>\n",
       "  </tbody>\n",
       "</table>\n",
       "<p>372293 rows × 19 columns</p>\n",
       "</div>"
      ],
      "text/plain": [
       "        usd_goal_real  launched_month  deadline_month  duration  \\\n",
       "0            0.000009               8              10        58   \n",
       "1            0.000180               9              11        59   \n",
       "2            0.000270               1               2        44   \n",
       "3            0.000030               3               4        29   \n",
       "4            0.000117               7               8        55   \n",
       "...               ...             ...             ...       ...   \n",
       "378656       0.000301               9              10        29   \n",
       "378657       0.000009               6               7        26   \n",
       "378658       0.000090               7               8        45   \n",
       "378659       0.000090               1               2        30   \n",
       "378660       0.000012               7               8        27   \n",
       "\n",
       "        main_category_Art  main_category_Comics  main_category_Crafts  \\\n",
       "0                       0                     0                     0   \n",
       "1                       0                     0                     0   \n",
       "2                       0                     0                     0   \n",
       "3                       0                     0                     0   \n",
       "4                       0                     0                     0   \n",
       "...                   ...                   ...                   ...   \n",
       "378656                  0                     0                     0   \n",
       "378657                  0                     0                     0   \n",
       "378658                  0                     0                     0   \n",
       "378659                  0                     0                     0   \n",
       "378660                  1                     0                     0   \n",
       "\n",
       "        main_category_Dance  main_category_Design  main_category_Fashion  \\\n",
       "0                         0                     0                      0   \n",
       "1                         0                     0                      0   \n",
       "2                         0                     0                      0   \n",
       "3                         0                     0                      0   \n",
       "4                         0                     0                      0   \n",
       "...                     ...                   ...                    ...   \n",
       "378656                    0                     0                      0   \n",
       "378657                    0                     0                      0   \n",
       "378658                    0                     0                      0   \n",
       "378659                    0                     0                      0   \n",
       "378660                    0                     0                      0   \n",
       "\n",
       "        main_category_Film & Video  main_category_Food  main_category_Games  \\\n",
       "0                                0                   0                    0   \n",
       "1                                1                   0                    0   \n",
       "2                                1                   0                    0   \n",
       "3                                0                   0                    0   \n",
       "4                                1                   0                    0   \n",
       "...                            ...                 ...                  ...   \n",
       "378656                           1                   0                    0   \n",
       "378657                           1                   0                    0   \n",
       "378658                           1                   0                    0   \n",
       "378659                           0                   0                    0   \n",
       "378660                           0                   0                    0   \n",
       "\n",
       "        main_category_Journalism  main_category_Music  \\\n",
       "0                              0                    0   \n",
       "1                              0                    0   \n",
       "2                              0                    0   \n",
       "3                              0                    1   \n",
       "4                              0                    0   \n",
       "...                          ...                  ...   \n",
       "378656                         0                    0   \n",
       "378657                         0                    0   \n",
       "378658                         0                    0   \n",
       "378659                         0                    0   \n",
       "378660                         0                    0   \n",
       "\n",
       "        main_category_Photography  main_category_Publishing  \\\n",
       "0                               0                         1   \n",
       "1                               0                         0   \n",
       "2                               0                         0   \n",
       "3                               0                         0   \n",
       "4                               0                         0   \n",
       "...                           ...                       ...   \n",
       "378656                          0                         0   \n",
       "378657                          0                         0   \n",
       "378658                          0                         0   \n",
       "378659                          0                         0   \n",
       "378660                          0                         0   \n",
       "\n",
       "        main_category_Technology  main_category_Theater  \n",
       "0                              0                      0  \n",
       "1                              0                      0  \n",
       "2                              0                      0  \n",
       "3                              0                      0  \n",
       "4                              0                      0  \n",
       "...                          ...                    ...  \n",
       "378656                         0                      0  \n",
       "378657                         0                      0  \n",
       "378658                         0                      0  \n",
       "378659                         1                      0  \n",
       "378660                         0                      0  \n",
       "\n",
       "[372293 rows x 19 columns]"
      ]
     },
     "execution_count": 56,
     "metadata": {},
     "output_type": "execute_result"
    }
   ],
   "source": [
    "data_processed"
   ]
  },
  {
   "cell_type": "code",
   "execution_count": 33,
   "metadata": {},
   "outputs": [],
   "source": [
    "data_labels = (data_labels == 'successful')"
   ]
  },
  {
   "cell_type": "code",
   "execution_count": 34,
   "metadata": {},
   "outputs": [
    {
     "data": {
      "text/plain": [
       "SGDClassifier(alpha=0.0001, average=False, class_weight=None,\n",
       "              early_stopping=False, epsilon=0.1, eta0=0.0, fit_intercept=True,\n",
       "              l1_ratio=0.15, learning_rate='optimal', loss='hinge',\n",
       "              max_iter=1000, n_iter_no_change=5, n_jobs=None, penalty='l2',\n",
       "              power_t=0.5, random_state=None, shuffle=True, tol=0.001,\n",
       "              validation_fraction=0.1, verbose=0, warm_start=False)"
      ]
     },
     "execution_count": 34,
     "metadata": {},
     "output_type": "execute_result"
    }
   ],
   "source": [
    "from sklearn.linear_model import SGDClassifier\n",
    "sgd_clf = SGDClassifier()\n",
    "sgd_clf.fit(data_processed, data_labels)"
   ]
  },
  {
   "cell_type": "code",
   "execution_count": 35,
   "metadata": {},
   "outputs": [
    {
     "data": {
      "text/plain": [
       "array([0.57511321, 0.55993078, 0.47341789])"
      ]
     },
     "execution_count": 35,
     "metadata": {},
     "output_type": "execute_result"
    }
   ],
   "source": [
    "from sklearn.model_selection import cross_val_score\n",
    "cross_val_score(sgd_clf, data_processed, data_labels, cv=3, scoring=\"f1_macro\")"
   ]
  },
  {
   "cell_type": "code",
   "execution_count": 36,
   "metadata": {},
   "outputs": [
    {
     "data": {
      "text/plain": [
       "array([[221199,  17138],\n",
       "       [110380,  23576]], dtype=int64)"
      ]
     },
     "execution_count": 36,
     "metadata": {},
     "output_type": "execute_result"
    }
   ],
   "source": [
    "from sklearn.model_selection import cross_val_predict\n",
    "from sklearn.metrics import confusion_matrix\n",
    "\n",
    "predictions = cross_val_predict(sgd_clf, data_processed, data_labels, cv=3)\n",
    "confusion_matrix(data_labels, predictions) # [[TN, FP], [FN, TP]]"
   ]
  },
  {
   "cell_type": "code",
   "execution_count": 37,
   "metadata": {},
   "outputs": [
    {
     "data": {
      "text/plain": [
       "(0.5790637127278087, 0.17599808892472155)"
      ]
     },
     "execution_count": 37,
     "metadata": {},
     "output_type": "execute_result"
    }
   ],
   "source": [
    "from sklearn.metrics import precision_score, recall_score\n",
    "precision_score(data_labels, predictions), recall_score(data_labels, predictions)"
   ]
  },
  {
   "cell_type": "markdown",
   "metadata": {},
   "source": [
    "## Train Decision Tree Classifier"
   ]
  },
  {
   "cell_type": "code",
   "execution_count": 38,
   "metadata": {},
   "outputs": [],
   "source": [
    "from sklearn.tree import DecisionTreeClassifier\n",
    "tree_clf = DecisionTreeClassifier()"
   ]
  },
  {
   "cell_type": "code",
   "execution_count": 39,
   "metadata": {},
   "outputs": [
    {
     "data": {
      "text/plain": [
       "array([0.57319769, 0.57408423, 0.57072924])"
      ]
     },
     "execution_count": 39,
     "metadata": {},
     "output_type": "execute_result"
    }
   ],
   "source": [
    "cross_val_score(tree_clf, data_processed, data_labels, cv=3, scoring=\"f1_macro\")"
   ]
  },
  {
   "cell_type": "code",
   "execution_count": 40,
   "metadata": {
    "scrolled": true
   },
   "outputs": [
    {
     "data": {
      "text/plain": [
       "array([[219827,  18510],\n",
       "       [109079,  24877]], dtype=int64)"
      ]
     },
     "execution_count": 40,
     "metadata": {},
     "output_type": "execute_result"
    }
   ],
   "source": [
    "tree_predictions = cross_val_predict(sgd_clf, data_processed, data_labels, cv=3)\n",
    "confusion_matrix(data_labels, tree_predictions) # [[TN, FP], [FN, TP]]"
   ]
  },
  {
   "cell_type": "code",
   "execution_count": 41,
   "metadata": {},
   "outputs": [
    {
     "data": {
      "text/plain": [
       "(0.5733745131030032, 0.18571023321090507)"
      ]
     },
     "execution_count": 41,
     "metadata": {},
     "output_type": "execute_result"
    }
   ],
   "source": [
    "precision_score(data_labels, tree_predictions), recall_score(data_labels, tree_predictions)"
   ]
  },
  {
   "cell_type": "markdown",
   "metadata": {},
   "source": [
    "## Random Forest Classifier"
   ]
  },
  {
   "cell_type": "code",
   "execution_count": 42,
   "metadata": {},
   "outputs": [
    {
     "name": "stderr",
     "output_type": "stream",
     "text": [
      "C:\\Users\\VGeorgiev\\Anaconda3\\lib\\site-packages\\sklearn\\ensemble\\forest.py:245: FutureWarning: The default value of n_estimators will change from 10 in version 0.20 to 100 in 0.22.\n",
      "  \"10 in version 0.20 to 100 in 0.22.\", FutureWarning)\n",
      "C:\\Users\\VGeorgiev\\Anaconda3\\lib\\site-packages\\sklearn\\ensemble\\forest.py:245: FutureWarning: The default value of n_estimators will change from 10 in version 0.20 to 100 in 0.22.\n",
      "  \"10 in version 0.20 to 100 in 0.22.\", FutureWarning)\n",
      "C:\\Users\\VGeorgiev\\Anaconda3\\lib\\site-packages\\sklearn\\ensemble\\forest.py:245: FutureWarning: The default value of n_estimators will change from 10 in version 0.20 to 100 in 0.22.\n",
      "  \"10 in version 0.20 to 100 in 0.22.\", FutureWarning)\n"
     ]
    },
    {
     "data": {
      "text/plain": [
       "array([0.58474027, 0.58408479, 0.58425835])"
      ]
     },
     "execution_count": 42,
     "metadata": {},
     "output_type": "execute_result"
    }
   ],
   "source": [
    "from sklearn.ensemble import RandomForestClassifier\n",
    "rnd_clf = RandomForestClassifier()\n",
    "cross_val_score(rnd_clf, data_processed, data_labels, cv=3, scoring=\"f1_macro\")"
   ]
  },
  {
   "cell_type": "code",
   "execution_count": 43,
   "metadata": {},
   "outputs": [
    {
     "name": "stderr",
     "output_type": "stream",
     "text": [
      "C:\\Users\\VGeorgiev\\Anaconda3\\lib\\site-packages\\sklearn\\ensemble\\forest.py:245: FutureWarning: The default value of n_estimators will change from 10 in version 0.20 to 100 in 0.22.\n",
      "  \"10 in version 0.20 to 100 in 0.22.\", FutureWarning)\n",
      "C:\\Users\\VGeorgiev\\Anaconda3\\lib\\site-packages\\sklearn\\ensemble\\forest.py:245: FutureWarning: The default value of n_estimators will change from 10 in version 0.20 to 100 in 0.22.\n",
      "  \"10 in version 0.20 to 100 in 0.22.\", FutureWarning)\n",
      "C:\\Users\\VGeorgiev\\Anaconda3\\lib\\site-packages\\sklearn\\ensemble\\forest.py:245: FutureWarning: The default value of n_estimators will change from 10 in version 0.20 to 100 in 0.22.\n",
      "  \"10 in version 0.20 to 100 in 0.22.\", FutureWarning)\n"
     ]
    },
    {
     "data": {
      "text/plain": [
       "array([[184647,  53690],\n",
       "       [ 81523,  52433]], dtype=int64)"
      ]
     },
     "execution_count": 43,
     "metadata": {},
     "output_type": "execute_result"
    }
   ],
   "source": [
    "forest_predictions = cross_val_predict(rnd_clf, data_processed, data_labels, cv=3)\n",
    "confusion_matrix(data_labels, forest_predictions) # [[TN, FP], [FN, TP]]"
   ]
  },
  {
   "cell_type": "code",
   "execution_count": 44,
   "metadata": {
    "scrolled": true
   },
   "outputs": [
    {
     "data": {
      "text/plain": [
       "(0.49407762690462953, 0.3914195706052734)"
      ]
     },
     "execution_count": 44,
     "metadata": {},
     "output_type": "execute_result"
    }
   ],
   "source": [
    "precision_score(data_labels, forest_predictions), recall_score(data_labels, forest_predictions)"
   ]
  },
  {
   "cell_type": "markdown",
   "metadata": {},
   "source": [
    "## Model Validation"
   ]
  },
  {
   "cell_type": "markdown",
   "metadata": {},
   "source": [
    "- cross validation\n",
    "- Confusion Matrix (Precision-Recall Tradeoff)\n",
    "- ROC Curve\n",
    "- Learning curves?"
   ]
  },
  {
   "cell_type": "markdown",
   "metadata": {},
   "source": [
    "### Precision/Recal Curve"
   ]
  },
  {
   "cell_type": "code",
   "execution_count": 45,
   "metadata": {},
   "outputs": [
    {
     "data": {
      "text/plain": [
       "(array([0.35981337, 0.57906371, 1.        ]),\n",
       " array([1.        , 0.17599809, 0.        ]),\n",
       " array([False,  True]))"
      ]
     },
     "execution_count": 45,
     "metadata": {},
     "output_type": "execute_result"
    }
   ],
   "source": [
    "from sklearn.metrics import precision_recall_curve\n",
    "precisions, recalls, thresholds = precision_recall_curve(data_labels, predictions)\n",
    "precisions, recalls, thresholds"
   ]
  },
  {
   "cell_type": "code",
   "execution_count": 46,
   "metadata": {
    "scrolled": true
   },
   "outputs": [
    {
     "data": {
      "image/png": "[encoded data removed]",
      "text/plain": [
       "<Figure size 432x288 with 1 Axes>"
      ]
     },
     "metadata": {
      "needs_background": "light"
     },
     "output_type": "display_data"
    }
   ],
   "source": [
    "def plot_precision_recall_vs_threshold(precisions, recalls, thresholds):\n",
    "    plt.plot(thresholds, precisions[:-1], \"b--\", label=\"Precision\")\n",
    "    plt.plot(thresholds, recalls[:-1], \"g-\", label=\"Recall\")\n",
    "plot_precision_recall_vs_threshold(precisions, recalls, thresholds)\n",
    "plt.show()"
   ]
  },
  {
   "cell_type": "code",
   "execution_count": 47,
   "metadata": {},
   "outputs": [
    {
     "data": {
      "image/png": "[encoded data removed]",
      "text/plain": [
       "<Figure size 432x288 with 1 Axes>"
      ]
     },
     "metadata": {
      "needs_background": "light"
     },
     "output_type": "display_data"
    }
   ],
   "source": [
    "precisions, recalls, thresholds = precision_recall_curve(data_labels, tree_predictions)\n",
    "plot_precision_recall_vs_threshold(precisions, recalls, thresholds)\n",
    "plt.show()"
   ]
  },
  {
   "cell_type": "markdown",
   "metadata": {},
   "source": [
    "## Grid-Search"
   ]
  },
  {
   "cell_type": "markdown",
   "metadata": {},
   "source": [
    "- Ensemble methods - Voting, Boosting, Random Forest"
   ]
  },
  {
   "cell_type": "code",
   "execution_count": 60,
   "metadata": {},
   "outputs": [
    {
     "data": {
      "text/plain": [
       "GridSearchCV(cv=5, error_score='raise-deprecating',\n",
       "             estimator=RandomForestClassifier(bootstrap=True, class_weight=None,\n",
       "                                              criterion='gini', max_depth=None,\n",
       "                                              max_features='auto',\n",
       "                                              max_leaf_nodes=None,\n",
       "                                              min_impurity_decrease=0.0,\n",
       "                                              min_impurity_split=None,\n",
       "                                              min_samples_leaf=1,\n",
       "                                              min_samples_split=2,\n",
       "                                              min_weight_fraction_leaf=0.0,\n",
       "                                              n_estimators='warn', n_jobs=None,\n",
       "                                              oob_score=False,\n",
       "                                              random_state=None, verbose=0,\n",
       "                                              warm_start=False),\n",
       "             iid='warn', n_jobs=None,\n",
       "             param_grid=[{'max_features': [2, 4, 6, 8],\n",
       "                          'n_estimators': [3, 10, 30]},\n",
       "                         {'bootstrap': [False], 'max_features': [2, 3, 4],\n",
       "                          'n_estimators': [3, 10]}],\n",
       "             pre_dispatch='2*n_jobs', refit=True, return_train_score=True,\n",
       "             scoring='f1_micro', verbose=0)"
      ]
     },
     "execution_count": 60,
     "metadata": {},
     "output_type": "execute_result"
    }
   ],
   "source": [
    "from sklearn.model_selection import GridSearchCV\n",
    "param_grid = [\n",
    " {'n_estimators': [3, 10, 30], 'max_features': [2, 4, 6, 8]},\n",
    " {'bootstrap': [False], 'n_estimators': [3, 10], 'max_features': [2, 3, 4]}]\n",
    "grid_search = GridSearchCV(rnd_clf, param_grid, cv=5, scoring='f1_micro', return_train_score=True)\n",
    "grid_search.fit(data_processed, data_labels)"
   ]
  },
  {
   "cell_type": "code",
   "execution_count": null,
   "metadata": {},
   "outputs": [],
   "source": []
  }
 ],
 "metadata": {
  "kernelspec": {
   "display_name": "Python 3",
   "language": "python",
   "name": "python3"
  },
  "language_info": {
   "codemirror_mode": {
    "name": "ipython",
    "version": 3
   },
   "file_extension": ".py",
   "mimetype": "text/x-python",
   "name": "python",
   "nbconvert_exporter": "python",
   "pygments_lexer": "ipython3",
   "version": "3.7.4"
  }
 },
 "nbformat": 4,
 "nbformat_minor": 2
}
