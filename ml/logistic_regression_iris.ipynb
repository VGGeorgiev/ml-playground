{
 "cells": [
  {
   "cell_type": "code",
   "execution_count": 28,
   "metadata": {},
   "outputs": [],
   "source": [
    "from sklearn import datasets\n",
    "import numpy as np\n",
    "from sklearn.linear_model import LogisticRegression\n",
    "import matplotlib.pyplot as plt"
   ]
  },
  {
   "cell_type": "code",
   "execution_count": 18,
   "metadata": {},
   "outputs": [
    {
     "data": {
      "text/plain": [
       "dict_keys(['data', 'target', 'target_names', 'DESCR', 'feature_names', 'filename'])"
      ]
     },
     "execution_count": 18,
     "metadata": {},
     "output_type": "execute_result"
    }
   ],
   "source": [
    "iris = datasets.load_iris()\n",
    "iris.keys()"
   ]
  },
  {
   "cell_type": "code",
   "execution_count": 15,
   "metadata": {},
   "outputs": [],
   "source": [
    "X = iris.data[:, 3:]\n",
    "y = (iris['target']==2).astype(np.int)"
   ]
  },
  {
   "cell_type": "code",
   "execution_count": 20,
   "metadata": {},
   "outputs": [
    {
     "name": "stderr",
     "output_type": "stream",
     "text": [
      "C:\\Users\\VGeorgiev\\Anaconda3\\lib\\site-packages\\sklearn\\linear_model\\logistic.py:432: FutureWarning: Default solver will be changed to 'lbfgs' in 0.22. Specify a solver to silence this warning.\n",
      "  FutureWarning)\n"
     ]
    },
    {
     "data": {
      "text/plain": [
       "LogisticRegression(C=1.0, class_weight=None, dual=False, fit_intercept=True,\n",
       "                   intercept_scaling=1, l1_ratio=None, max_iter=100,\n",
       "                   multi_class='warn', n_jobs=None, penalty='l2',\n",
       "                   random_state=None, solver='warn', tol=0.0001, verbose=0,\n",
       "                   warm_start=False)"
      ]
     },
     "execution_count": 20,
     "metadata": {},
     "output_type": "execute_result"
    }
   ],
   "source": [
    "log_reg = LogisticRegression()\n",
    "log_reg.fit(X, y)"
   ]
  },
  {
   "cell_type": "code",
   "execution_count": 25,
   "metadata": {},
   "outputs": [],
   "source": [
    "X_new = np.linspace(0, 3, 1000).reshape(-1, 1)\n",
    "y_proba = log_reg.predict_proba(X_new)"
   ]
  },
  {
   "cell_type": "code",
   "execution_count": 26,
   "metadata": {},
   "outputs": [
    {
     "data": {
      "text/plain": [
       "array([[0.98554411, 0.01445589],\n",
       "       [0.98543168, 0.01456832],\n",
       "       [0.98531838, 0.01468162],\n",
       "       ...,\n",
       "       [0.02618938, 0.97381062],\n",
       "       [0.02598963, 0.97401037],\n",
       "       [0.02579136, 0.97420864]])"
      ]
     },
     "execution_count": 26,
     "metadata": {},
     "output_type": "execute_result"
    }
   ],
   "source": [
    "y_proba"
   ]
  },
  {
   "cell_type": "code",
   "execution_count": 30,
   "metadata": {},
   "outputs": [
    {
     "data": {
      "text/plain": [
       "[<matplotlib.lines.Line2D at 0x25f38e9f188>]"
      ]
     },
     "execution_count": 30,
     "metadata": {},
     "output_type": "execute_result"
    },
    {
     "data": {
      "image/png": "[encoded data removed]",
      "text/plain": [
       "<Figure size 432x288 with 1 Axes>"
      ]
     },
     "metadata": {
      "needs_background": "light"
     },
     "output_type": "display_data"
    }
   ],
   "source": [
    "plt.plot(X_new, y_proba[:, 1], \"g-\", label=\"Iris-Virginica\")\n",
    "plt.plot(X_new, y_proba[:, 0], \"b--\", label=\"Not Iris-Virginica\")"
   ]
  },
  {
   "cell_type": "code",
   "execution_count": 34,
   "metadata": {},
   "outputs": [
    {
     "data": {
      "text/plain": [
       "array([0.98554411, 0.98543168, 0.98531838, 0.98520422, 0.98508919,\n",
       "       0.98497327, 0.98485647, 0.98473877, 0.98462018, 0.98450067,\n",
       "       0.98438026, 0.98425892, 0.98413665, 0.98401345, 0.98388931,\n",
       "       0.98376422, 0.98363817, 0.98351117, 0.98338319, 0.98325424,\n",
       "       0.9831243 , 0.98299338, 0.98286145, 0.98272852, 0.98259458,\n",
       "       0.98245962, 0.98232363, 0.9821866 , 0.98204853, 0.98190941,\n",
       "       0.98176923, 0.98162799, 0.98148567, 0.98134228, 0.98119779,\n",
       "       0.9810522 , 0.98090551, 0.98075771, 0.98060878, 0.98045873,\n",
       "       0.98030754, 0.9801552 , 0.9800017 , 0.97984705, 0.97969122,\n",
       "       0.97953421, 0.97937602, 0.97921663, 0.97905603, 0.97889422,\n",
       "       0.97873118, 0.97856691, 0.97840141, 0.97823465, 0.97806663,\n",
       "       0.97789735, 0.97772679, 0.97755494, 0.9773818 , 0.97720736,\n",
       "       0.9770316 , 0.97685451, 0.9766761 , 0.97649634, 0.97631523,\n",
       "       0.97613276, 0.97594892, 0.97576369, 0.97557708, 0.97538907,\n",
       "       0.97519964, 0.9750088 , 0.97481652, 0.9746228 , 0.97442763,\n",
       "       0.974231  , 0.9740329 , 0.97383332, 0.97363224, 0.97342967,\n",
       "       0.97322557, 0.97301996, 0.97281281, 0.97260411, 0.97239386,\n",
       "       0.97218203, 0.97196863, 0.97175365, 0.97153706, 0.97131885,\n",
       "       0.97109903, 0.97087757, 0.97065447, 0.97042971, 0.97020328,\n",
       "       0.96997517, 0.96974536, 0.96951386, 0.96928064, 0.96904569,\n",
       "       0.968809  , 0.96857056, 0.96833036, 0.96808838, 0.96784462,\n",
       "       0.96759906, 0.96735168, 0.96710248, 0.96685144, 0.96659855,\n",
       "       0.9663438 , 0.96608718, 0.96582867, 0.96556826, 0.96530593,\n",
       "       0.96504168, 0.96477549, 0.96450735, 0.96423724, 0.96396515,\n",
       "       0.96369107, 0.96341499, 0.96313688, 0.96285675, 0.96257456,\n",
       "       0.96229032, 0.96200401, 0.9617156 , 0.9614251 , 0.96113248,\n",
       "       0.96083773, 0.96054084, 0.96024179, 0.95994056, 0.95963716,\n",
       "       0.95933155, 0.95902372, 0.95871367, 0.95840137, 0.95808681,\n",
       "       0.95776998, 0.95745086, 0.95712944, 0.9568057 , 0.95647962,\n",
       "       0.9561512 , 0.95582041, 0.95548724, 0.95515168, 0.95481371,\n",
       "       0.95447331, 0.95413047, 0.95378518, 0.95343741, 0.95308715,\n",
       "       0.95273439, 0.95237911, 0.9520213 , 0.95166093, 0.95129799,\n",
       "       0.95093247, 0.95056435, 0.95019361, 0.94982024, 0.94944421,\n",
       "       0.94906553, 0.94868415, 0.94830008, 0.94791329, 0.94752377,\n",
       "       0.9471315 , 0.94673645, 0.94633863, 0.945938  , 0.94553456,\n",
       "       0.94512827, 0.94471914, 0.94430713, 0.94389224, 0.94347444,\n",
       "       0.94305371, 0.94263005, 0.94220342, 0.94177382, 0.94134123,\n",
       "       0.94090562, 0.94046699, 0.9400253 , 0.93958055, 0.93913271,\n",
       "       0.93868177, 0.93822771, 0.93777051, 0.93731015, 0.93684662,\n",
       "       0.93637989, 0.93590995, 0.93543678, 0.93496035, 0.93448066,\n",
       "       0.93399767, 0.93351139, 0.93302177, 0.93252881, 0.93203249,\n",
       "       0.93153278, 0.93102967, 0.93052314, 0.93001317, 0.92949974,\n",
       "       0.92898283, 0.92846242, 0.9279385 , 0.92741103, 0.92688002,\n",
       "       0.92634542, 0.92580723, 0.92526542, 0.92471998, 0.92417089,\n",
       "       0.92361812, 0.92306165, 0.92250148, 0.92193757, 0.9213699 ,\n",
       "       0.92079846, 0.92022323, 0.91964419, 0.91906131, 0.91847458,\n",
       "       0.91788397, 0.91728948, 0.91669106, 0.91608872, 0.91548242,\n",
       "       0.91487215, 0.91425788, 0.91363961, 0.91301729, 0.91239092,\n",
       "       0.91176048, 0.91112594, 0.91048729, 0.9098445 , 0.90919756,\n",
       "       0.90854644, 0.90789112, 0.90723159, 0.90656782, 0.9058998 ,\n",
       "       0.9052275 , 0.9045509 , 0.90386998, 0.90318473, 0.90249512,\n",
       "       0.90180113, 0.90110274, 0.90039994, 0.89969269, 0.89898099,\n",
       "       0.89826481, 0.89754412, 0.89681893, 0.89608919, 0.89535489,\n",
       "       0.89461601, 0.89387254, 0.89312445, 0.89237172, 0.89161433,\n",
       "       0.89085226, 0.89008549, 0.88931401, 0.88853779, 0.88775682,\n",
       "       0.88697106, 0.88618052, 0.88538516, 0.88458496, 0.88377991,\n",
       "       0.88296999, 0.88215518, 0.88133545, 0.8805108 , 0.8796812 ,\n",
       "       0.87884663, 0.87800707, 0.87716251, 0.87631293, 0.8754583 ,\n",
       "       0.87459862, 0.87373386, 0.872864  , 0.87198902, 0.87110891,\n",
       "       0.87022366, 0.86933323, 0.86843762, 0.8675368 , 0.86663077,\n",
       "       0.8657195 , 0.86480297, 0.86388117, 0.86295408, 0.86202168,\n",
       "       0.86108396, 0.86014091, 0.8591925 , 0.85823871, 0.85727954,\n",
       "       0.85631497, 0.85534497, 0.85436955, 0.85338867, 0.85240233,\n",
       "       0.8514105 , 0.85041318, 0.84941035, 0.848402  , 0.84738811,\n",
       "       0.84636866, 0.84534365, 0.84431306, 0.84327687, 0.84223508,\n",
       "       0.84118766, 0.84013461, 0.83907592, 0.83801156, 0.83694153,\n",
       "       0.83586582, 0.83478441, 0.8336973 , 0.83260447, 0.8315059 ,\n",
       "       0.8304016 , 0.82929154, 0.82817573, 0.82705413, 0.82592676,\n",
       "       0.8247936 , 0.82365463, 0.82250985, 0.82135926, 0.82020283,\n",
       "       0.81904057, 0.81787246, 0.8166985 , 0.81551868, 0.81433299,\n",
       "       0.81314143, 0.81194399, 0.81074066, 0.80953143, 0.80831631,\n",
       "       0.80709528, 0.80586834, 0.80463549, 0.80339672, 0.80215202,\n",
       "       0.8009014 , 0.79964484, 0.79838236, 0.79711393, 0.79583957,\n",
       "       0.79455926, 0.79327301, 0.79198082, 0.79068268, 0.78937859,\n",
       "       0.78806856, 0.78675258, 0.78543065, 0.78410278, 0.78276896,\n",
       "       0.7814292 , 0.7800835 , 0.77873186, 0.77737428, 0.77601077,\n",
       "       0.77464132, 0.77326596, 0.77188467, 0.77049746, 0.76910434,\n",
       "       0.76770531, 0.76630038, 0.76488956, 0.76347285, 0.76205026,\n",
       "       0.76062179, 0.75918746, 0.75774727, 0.75630123, 0.75484936,\n",
       "       0.75339165, 0.75192813, 0.7504588 , 0.74898366, 0.74750275,\n",
       "       0.74601606, 0.7445236 , 0.7430254 , 0.74152147, 0.74001181,\n",
       "       0.73849644, 0.73697538, 0.73544864, 0.73391624, 0.73237819,\n",
       "       0.73083452, 0.72928523, 0.72773034, 0.72616988, 0.72460386,\n",
       "       0.7230323 , 0.72145521, 0.71987263, 0.71828457, 0.71669104,\n",
       "       0.71509208, 0.7134877 , 0.71187793, 0.71026279, 0.70864229,\n",
       "       0.70701648, 0.70538536, 0.70374896, 0.70210732, 0.70046045,\n",
       "       0.69880838, 0.69715114, 0.69548875, 0.69382125, 0.69214866,\n",
       "       0.690471  , 0.68878832, 0.68710063, 0.68540797, 0.68371037,\n",
       "       0.68200786, 0.68030046, 0.67858823, 0.67687117, 0.67514934,\n",
       "       0.67342276, 0.67169146, 0.66995548, 0.66821486, 0.66646963,\n",
       "       0.66471982, 0.66296548, 0.66120664, 0.65944333, 0.65767559,\n",
       "       0.65590347, 0.654127  , 0.65234622, 0.65056117, 0.64877188,\n",
       "       0.64697841, 0.64518079, 0.64337906, 0.64157326, 0.63976344,\n",
       "       0.63794964, 0.6361319 , 0.63431026, 0.63248477, 0.63065548,\n",
       "       0.62882242, 0.62698565, 0.62514521, 0.62330114, 0.6214535 ,\n",
       "       0.61960232, 0.61774766, 0.61588956, 0.61402807, 0.61216324,\n",
       "       0.61029512, 0.60842376, 0.60654921, 0.60467151, 0.60279072,\n",
       "       0.60090688, 0.59902006, 0.5971303 , 0.59523764, 0.59334215,\n",
       "       0.59144388, 0.58954288, 0.5876392 , 0.58573289, 0.58382401,\n",
       "       0.58191262, 0.57999876, 0.57808249, 0.57616387, 0.57424295,\n",
       "       0.57231978, 0.57039443, 0.56846694, 0.56653738, 0.5646058 ,\n",
       "       0.56267226, 0.56073681, 0.55879951, 0.55686042, 0.55491959,\n",
       "       0.55297709, 0.55103297, 0.54908729, 0.54714011, 0.54519148,\n",
       "       0.54324147, 0.54129013, 0.53933752, 0.53738371, 0.53542875,\n",
       "       0.5334727 , 0.53151561, 0.52955756, 0.5275986 , 0.52563879,\n",
       "       0.52367819, 0.52171685, 0.51975485, 0.51779224, 0.51582908,\n",
       "       0.51386543, 0.51190135, 0.50993691, 0.50797216, 0.50600716,\n",
       "       0.50404197, 0.50207667, 0.50011129, 0.49814592, 0.4961806 ,\n",
       "       0.4942154 , 0.49225037, 0.49028559, 0.48832111, 0.48635699,\n",
       "       0.48439328, 0.48243007, 0.48046739, 0.47850531, 0.4765439 ,\n",
       "       0.47458322, 0.47262331, 0.47066425, 0.46870609, 0.4667489 ,\n",
       "       0.46479273, 0.46283764, 0.46088369, 0.45893095, 0.45697946,\n",
       "       0.4550293 , 0.45308051, 0.45113316, 0.4491873 , 0.447243  ,\n",
       "       0.44530032, 0.4433593 , 0.44142001, 0.4394825 , 0.43754684,\n",
       "       0.43561308, 0.43368127, 0.43175148, 0.42982376, 0.42789816,\n",
       "       0.42597475, 0.42405357, 0.42213468, 0.42021815, 0.41830401,\n",
       "       0.41639233, 0.41448317, 0.41257657, 0.41067258, 0.40877128,\n",
       "       0.40687269, 0.40497688, 0.40308391, 0.40119381, 0.39930665,\n",
       "       0.39742248, 0.39554134, 0.39366329, 0.39178838, 0.38991665,\n",
       "       0.38804816, 0.38618296, 0.38432109, 0.38246261, 0.38060755,\n",
       "       0.37875598, 0.37690793, 0.37506345, 0.3732226 , 0.37138541,\n",
       "       0.36955193, 0.36772221, 0.36589629, 0.36407421, 0.36225603,\n",
       "       0.36044178, 0.35863151, 0.35682525, 0.35502306, 0.35322497,\n",
       "       0.35143102, 0.34964126, 0.34785573, 0.34607446, 0.3442975 ,\n",
       "       0.34252488, 0.34075665, 0.33899284, 0.33723349, 0.33547863,\n",
       "       0.33372831, 0.33198256, 0.33024141, 0.32850491, 0.32677308,\n",
       "       0.32504596, 0.32332359, 0.32160599, 0.31989321, 0.31818527,\n",
       "       0.3164822 , 0.31478404, 0.31309082, 0.31140257, 0.30971931,\n",
       "       0.30804109, 0.30636792, 0.30469984, 0.30303687, 0.30137905,\n",
       "       0.29972639, 0.29807893, 0.29643669, 0.2947997 , 0.29316799,\n",
       "       0.29154157, 0.28992047, 0.28830472, 0.28669434, 0.28508935,\n",
       "       0.28348977, 0.28189563, 0.28030695, 0.27872374, 0.27714604,\n",
       "       0.27557385, 0.2740072 , 0.2724461 , 0.27089059, 0.26934066,\n",
       "       0.26779635, 0.26625766, 0.26472462, 0.26319724, 0.26167554,\n",
       "       0.26015953, 0.25864922, 0.25714463, 0.25564578, 0.25415268,\n",
       "       0.25266533, 0.25118376, 0.24970798, 0.24823799, 0.2467738 ,\n",
       "       0.24531544, 0.2438629 , 0.2424162 , 0.24097535, 0.23954036,\n",
       "       0.23811123, 0.23668797, 0.23527059, 0.2338591 , 0.23245351,\n",
       "       0.23105381, 0.22966002, 0.22827214, 0.22689018, 0.22551414,\n",
       "       0.22414403, 0.22277985, 0.22142159, 0.22006928, 0.21872291,\n",
       "       0.21738247, 0.21604798, 0.21471943, 0.21339683, 0.21208018,\n",
       "       0.21076947, 0.20946471, 0.2081659 , 0.20687303, 0.20558611,\n",
       "       0.20430513, 0.2030301 , 0.201761  , 0.20049784, 0.19924061,\n",
       "       0.19798932, 0.19674395, 0.19550451, 0.19427098, 0.19304338,\n",
       "       0.19182168, 0.19060589, 0.18939599, 0.188192  , 0.18699389,\n",
       "       0.18580166, 0.18461531, 0.18343482, 0.1822602 , 0.18109143,\n",
       "       0.17992851, 0.17877142, 0.17762016, 0.17647473, 0.1753351 ,\n",
       "       0.17420128, 0.17307325, 0.17195101, 0.17083454, 0.16972383,\n",
       "       0.16861887, 0.16751966, 0.16642618, 0.16533842, 0.16425637,\n",
       "       0.16318001, 0.16210934, 0.16104434, 0.159985  , 0.15893132,\n",
       "       0.15788326, 0.15684083, 0.15580401, 0.15477278, 0.15374714,\n",
       "       0.15272707, 0.15171255, 0.15070357, 0.14970011, 0.14870217,\n",
       "       0.14770973, 0.14672276, 0.14574127, 0.14476522, 0.14379461,\n",
       "       0.14282943, 0.14186965, 0.14091525, 0.13996623, 0.13902257,\n",
       "       0.13808425, 0.13715125, 0.13622356, 0.13530116, 0.13438404,\n",
       "       0.13347217, 0.13256554, 0.13166414, 0.13076794, 0.12987693,\n",
       "       0.12899108, 0.1281104 , 0.12723484, 0.1263644 , 0.12549906,\n",
       "       0.1246388 , 0.12378361, 0.12293345, 0.12208832, 0.1212482 ,\n",
       "       0.12041307, 0.11958291, 0.11875769, 0.11793741, 0.11712204,\n",
       "       0.11631157, 0.11550597, 0.11470522, 0.11390932, 0.11311823,\n",
       "       0.11233193, 0.11155042, 0.11077366, 0.11000164, 0.10923434,\n",
       "       0.10847174, 0.10771383, 0.10696057, 0.10621195, 0.10546795,\n",
       "       0.10472856, 0.10399374, 0.10326349, 0.10253778, 0.10181659,\n",
       "       0.1010999 , 0.10038769, 0.09967994, 0.09897663, 0.09827774,\n",
       "       0.09758326, 0.09689315, 0.0962074 , 0.095526  , 0.09484891,\n",
       "       0.09417612, 0.09350762, 0.09284337, 0.09218336, 0.09152757,\n",
       "       0.09087597, 0.09022856, 0.0895853 , 0.08894618, 0.08831118,\n",
       "       0.08768027, 0.08705344, 0.08643067, 0.08581194, 0.08519722,\n",
       "       0.08458649, 0.08397975, 0.08337695, 0.0827781 , 0.08218316,\n",
       "       0.08159211, 0.08100495, 0.08042163, 0.07984215, 0.07926649,\n",
       "       0.07869463, 0.07812653, 0.0775622 , 0.0770016 , 0.07644472,\n",
       "       0.07589153, 0.07534202, 0.07479617, 0.07425395, 0.07371535,\n",
       "       0.07318035, 0.07264893, 0.07212106, 0.07159674, 0.07107593,\n",
       "       0.07055863, 0.0700448 , 0.06953444, 0.06902752, 0.06852403,\n",
       "       0.06802394, 0.06752723, 0.06703389, 0.0665439 , 0.06605723,\n",
       "       0.06557388, 0.06509381, 0.06461702, 0.06414348, 0.06367317,\n",
       "       0.06320608, 0.06274218, 0.06228147, 0.06182391, 0.06136949,\n",
       "       0.0609182 , 0.06047002, 0.06002491, 0.05958288, 0.0591439 ,\n",
       "       0.05870795, 0.05827502, 0.05784508, 0.05741812, 0.05699412,\n",
       "       0.05657306, 0.05615493, 0.05573971, 0.05532738, 0.05491792,\n",
       "       0.05451131, 0.05410755, 0.0537066 , 0.05330846, 0.0529131 ,\n",
       "       0.05252052, 0.05213069, 0.05174359, 0.05135921, 0.05097753,\n",
       "       0.05059854, 0.05022221, 0.04984854, 0.04947751, 0.04910909,\n",
       "       0.04874327, 0.04838005, 0.04801939, 0.04766128, 0.04730572,\n",
       "       0.04695267, 0.04660213, 0.04625408, 0.04590851, 0.04556539,\n",
       "       0.04522472, 0.04488647, 0.04455064, 0.0442172 , 0.04388615,\n",
       "       0.04355746, 0.04323111, 0.04290711, 0.04258542, 0.04226604,\n",
       "       0.04194895, 0.04163414, 0.04132159, 0.04101128, 0.0407032 ,\n",
       "       0.04039734, 0.04009369, 0.03979222, 0.03949292, 0.03919579,\n",
       "       0.0389008 , 0.03860794, 0.03831719, 0.03802855, 0.037742  ,\n",
       "       0.03745752, 0.03717511, 0.03689474, 0.03661641, 0.03634009,\n",
       "       0.03606579, 0.03579348, 0.03552314, 0.03525478, 0.03498837,\n",
       "       0.0347239 , 0.03446136, 0.03420073, 0.033942  , 0.03368516,\n",
       "       0.0334302 , 0.03317711, 0.03292586, 0.03267645, 0.03242887,\n",
       "       0.0321831 , 0.03193913, 0.03169695, 0.03145655, 0.03121791,\n",
       "       0.03098103, 0.03074589, 0.03051247, 0.03028077, 0.03005077,\n",
       "       0.02982247, 0.02959585, 0.0293709 , 0.02914761, 0.02892597,\n",
       "       0.02870596, 0.02848757, 0.0282708 , 0.02805563, 0.02784205,\n",
       "       0.02763005, 0.02741962, 0.02721075, 0.02700343, 0.02679764,\n",
       "       0.02659337, 0.02639062, 0.02618938, 0.02598963, 0.02579136])"
      ]
     },
     "execution_count": 34,
     "metadata": {},
     "output_type": "execute_result"
    }
   ],
   "source": [
    "y_proba[:,0]"
   ]
  },
  {
   "cell_type": "code",
   "execution_count": null,
   "metadata": {},
   "outputs": [],
   "source": []
  }
 ],
 "metadata": {
  "kernelspec": {
   "display_name": "Python 3",
   "language": "python",
   "name": "python3"
  },
  "language_info": {
   "codemirror_mode": {
    "name": "ipython",
    "version": 3
   },
   "file_extension": ".py",
   "mimetype": "text/x-python",
   "name": "python",
   "nbconvert_exporter": "python",
   "pygments_lexer": "ipython3",
   "version": "3.7.4"
  }
 },
 "nbformat": 4,
 "nbformat_minor": 2
}
