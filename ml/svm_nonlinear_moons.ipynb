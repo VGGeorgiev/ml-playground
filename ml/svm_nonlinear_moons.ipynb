{
 "cells": [
  {
   "cell_type": "code",
   "execution_count": 20,
   "metadata": {},
   "outputs": [],
   "source": [
    "%matplotlib inline\n",
    "import matplotlib as mpl\n",
    "import matplotlib.pyplot as plt\n",
    "import numpy as np\n",
    "\n",
    "from sklearn.datasets import make_moons\n",
    "from sklearn.pipeline import Pipeline\n",
    "from sklearn.preprocessing import PolynomialFeatures\n",
    "from sklearn.preprocessing import StandardScaler\n",
    "from sklearn.svm import LinearSVC "
   ]
  },
  {
   "cell_type": "code",
   "execution_count": 13,
   "metadata": {},
   "outputs": [
    {
     "data": {
      "text/plain": [
       "array([[-1.07816119e+00,  6.33677205e-02],\n",
       "       [ 9.39808593e-01,  4.57119499e-01],\n",
       "       [ 6.95151435e-01,  6.42107065e-01],\n",
       "       [ 1.15017340e+00, -3.47871030e-01],\n",
       "       [ 2.49173156e-01, -6.85441065e-02],\n",
       "       [ 3.21945347e-01,  2.50622341e-01],\n",
       "       [-7.12153032e-01,  8.26110194e-01],\n",
       "       [ 1.53159481e+00, -1.57287449e-01],\n",
       "       [ 1.95746563e+00, -8.16557590e-02],\n",
       "       [ 1.43686490e-01,  9.34990547e-01],\n",
       "       [-4.02636990e-01,  6.82594373e-01],\n",
       "       [ 1.93843382e+00, -1.50881031e-01],\n",
       "       [ 1.56535331e+00, -4.05593970e-01],\n",
       "       [-8.44292755e-01,  4.85332130e-01],\n",
       "       [ 1.86259670e+00,  1.82487734e-01],\n",
       "       [ 1.92262353e+00, -6.38203855e-02],\n",
       "       [-2.23689403e-04,  1.35967685e+00],\n",
       "       [ 1.03057631e+00, -5.27734784e-01],\n",
       "       [-1.07398963e+00,  6.92286480e-01],\n",
       "       [-3.59010542e-01,  7.02497931e-01],\n",
       "       [ 3.68912089e-01, -7.51839194e-03],\n",
       "       [ 9.07792617e-01,  6.13306951e-01],\n",
       "       [ 9.78643036e-01, -6.81395573e-01],\n",
       "       [-8.24526588e-01,  3.88017094e-01],\n",
       "       [-3.62095915e-01,  7.38278774e-01],\n",
       "       [-4.39744877e-01,  7.75436611e-01],\n",
       "       [-7.73338845e-01,  6.48484950e-01],\n",
       "       [-4.63552531e-01,  9.90805768e-01],\n",
       "       [ 1.68378949e-01, -1.90814894e-01],\n",
       "       [ 2.67293874e-01, -4.65492542e-01],\n",
       "       [ 1.09129401e+00,  2.45793381e-01],\n",
       "       [ 1.02266083e+00,  6.21334818e-01],\n",
       "       [ 2.36515146e-01,  9.98872568e-01],\n",
       "       [-9.34694828e-01,  6.84899563e-01],\n",
       "       [ 8.71413620e-01, -3.53297128e-01],\n",
       "       [ 1.43421968e-02,  3.52816774e-01],\n",
       "       [ 5.37313529e-01, -2.84942652e-01],\n",
       "       [ 5.45785539e-01, -3.05796825e-01],\n",
       "       [ 1.60090229e+00, -4.47315031e-01],\n",
       "       [-8.84171443e-01,  5.89824203e-01],\n",
       "       [-6.98753871e-01,  6.06779760e-01],\n",
       "       [ 2.09249792e+00,  7.01016701e-01],\n",
       "       [ 3.91529280e-01,  8.12807327e-01],\n",
       "       [ 8.82347564e-01,  6.97783140e-01],\n",
       "       [ 3.64822631e-01,  1.71421719e-02],\n",
       "       [ 1.84810360e+00,  5.80708237e-01],\n",
       "       [ 7.41377981e-01,  7.05176185e-01],\n",
       "       [ 8.69343949e-01,  6.05640988e-01],\n",
       "       [ 7.98783104e-01, -3.48015348e-01],\n",
       "       [-7.00505008e-01,  4.02026491e-01],\n",
       "       [ 2.96705661e-01,  2.18435479e-01],\n",
       "       [ 1.71335384e+00, -2.08164570e-01],\n",
       "       [ 8.14554083e-01, -6.71138630e-02],\n",
       "       [ 3.46244008e-01, -3.62981046e-01],\n",
       "       [ 1.36071165e-01, -9.38768029e-02],\n",
       "       [-9.46783887e-01,  7.88187390e-01],\n",
       "       [ 6.40899854e-01, -4.42872435e-01],\n",
       "       [-1.13346458e+00, -1.84946536e-02],\n",
       "       [ 1.88891776e+00, -2.36466924e-01],\n",
       "       [-9.13035471e-01, -9.55747277e-02],\n",
       "       [ 1.93841230e+00, -3.80638883e-02],\n",
       "       [-7.93471353e-01,  1.87738816e-01],\n",
       "       [ 5.56191556e-01,  8.98880957e-01],\n",
       "       [ 1.08557089e+00,  2.77376994e-01],\n",
       "       [ 3.77391801e-01,  6.45623920e-01],\n",
       "       [ 6.05505569e-02,  1.82135396e-01],\n",
       "       [ 1.85621872e-01,  9.24134532e-01],\n",
       "       [ 1.99773617e+00, -5.38675418e-02],\n",
       "       [-8.17685720e-01,  4.71693585e-01],\n",
       "       [ 6.41179427e-01, -1.61929347e-01],\n",
       "       [-2.46606681e-01,  1.27542471e+00],\n",
       "       [ 2.35528056e-01, -4.47737534e-01],\n",
       "       [ 1.35073633e+00, -1.41553442e-01],\n",
       "       [ 2.63557493e-01,  8.23953410e-01],\n",
       "       [-3.54949040e-02, -5.64085932e-02],\n",
       "       [-2.15352693e-01, -9.59594616e-02],\n",
       "       [ 9.09969559e-01,  9.33081280e-01],\n",
       "       [ 6.53670215e-01, -5.14850534e-01],\n",
       "       [ 8.77633535e-03,  8.52199539e-01],\n",
       "       [ 1.21053706e-01,  2.94440583e-01],\n",
       "       [ 9.67618048e-01,  7.25584107e-02],\n",
       "       [-6.68970039e-01,  6.61701834e-01],\n",
       "       [-1.73768347e-01,  1.18591958e+00],\n",
       "       [ 1.83609788e+00,  4.45035191e-01],\n",
       "       [ 2.07097598e+00,  2.59497875e-01],\n",
       "       [-8.37027467e-01,  4.13520229e-01],\n",
       "       [ 1.28392131e+00, -4.03008121e-01],\n",
       "       [ 5.48163583e-01,  8.39952533e-01],\n",
       "       [ 1.86615740e+00,  1.64944147e-01],\n",
       "       [-2.14084558e-01,  1.15203040e+00],\n",
       "       [ 8.20346530e-01,  7.29984730e-01],\n",
       "       [ 6.39071058e-01, -3.32328961e-01],\n",
       "       [ 8.32640092e-02,  3.61752873e-01],\n",
       "       [ 2.31849258e-01,  6.82939888e-01],\n",
       "       [ 8.39312212e-01,  5.16310741e-01],\n",
       "       [ 2.22036786e+00,  2.76070923e-01],\n",
       "       [ 1.23573307e+00, -4.15658783e-01],\n",
       "       [ 9.83750674e-01,  3.28891357e-01],\n",
       "       [ 5.76382520e-01,  8.98121023e-01],\n",
       "       [ 1.58846023e-01,  3.51882776e-02],\n",
       "       [ 9.51298743e-01,  3.46282511e-02],\n",
       "       [ 8.14073114e-01,  1.00950949e+00],\n",
       "       [ 4.95434299e-01, -5.38827595e-01],\n",
       "       [ 1.03842360e+00, -6.69320512e-01],\n",
       "       [ 1.56108776e-01,  3.18325859e-01],\n",
       "       [ 7.21479836e-01, -4.86130310e-01],\n",
       "       [ 6.36568455e-01,  5.77598173e-01],\n",
       "       [-4.32709002e-01,  1.04292625e+00],\n",
       "       [ 1.63708268e-01,  3.32019663e-01],\n",
       "       [ 8.24166289e-01, -4.63265055e-01],\n",
       "       [ 1.58386638e+00, -2.35144165e-01],\n",
       "       [ 1.17315315e+00, -7.16072596e-02],\n",
       "       [ 1.89986243e+00,  6.72288771e-01],\n",
       "       [ 8.05276810e-01, -2.58333622e-01],\n",
       "       [-6.50958323e-01,  7.95077416e-01],\n",
       "       [ 1.52384160e-01, -1.73998323e-01],\n",
       "       [-2.53395879e-01,  1.01162324e+00],\n",
       "       [ 2.47551150e-01,  9.98138704e-01],\n",
       "       [ 1.19857352e+00, -5.36252532e-01],\n",
       "       [ 5.79072482e-01,  8.44797932e-01],\n",
       "       [ 3.07368275e-01,  1.10242789e+00],\n",
       "       [ 1.03095407e-01,  2.57004600e-01],\n",
       "       [ 1.51501237e+00, -4.23873750e-01],\n",
       "       [ 1.14001534e+00, -1.99807395e-01],\n",
       "       [ 8.81536620e-01,  9.85107340e-01],\n",
       "       [ 7.28624659e-01,  8.13215369e-01],\n",
       "       [ 1.67090803e+00,  1.59374440e-01],\n",
       "       [ 8.97091449e-01, -7.00113469e-01],\n",
       "       [-6.86363472e-01,  2.69121119e-01],\n",
       "       [ 4.01619858e-02,  9.99372288e-01],\n",
       "       [ 1.63962219e+00, -1.86991282e-01],\n",
       "       [ 1.90544409e-01,  1.21835357e+00],\n",
       "       [-8.82402446e-01,  1.38156479e-01],\n",
       "       [ 1.13127317e+00, -5.32154620e-01],\n",
       "       [ 2.49128297e-01,  8.14200566e-01],\n",
       "       [ 6.94252108e-01, -4.47109886e-01],\n",
       "       [ 1.03681720e+00,  1.36864499e-01],\n",
       "       [-3.55278579e-01,  2.06804531e-01],\n",
       "       [-1.27132500e-01,  9.85515721e-01],\n",
       "       [ 5.38908396e-01, -3.20673160e-01],\n",
       "       [ 2.05111158e+00, -2.01910917e-02],\n",
       "       [ 1.73909954e+00, -3.58027507e-01],\n",
       "       [ 1.69763802e+00,  1.50528859e-01],\n",
       "       [ 1.74932986e-01,  1.23107978e+00],\n",
       "       [-9.47860543e-01,  5.21480199e-01],\n",
       "       [ 5.08621128e-01,  1.18856320e+00],\n",
       "       [ 9.92659007e-01,  4.52999961e-01],\n",
       "       [ 7.54248177e-02,  3.60953332e-01],\n",
       "       [-8.13961724e-01,  2.76061207e-01],\n",
       "       [-1.02690686e+00,  4.45832570e-01],\n",
       "       [ 1.96862123e+00, -3.50952252e-02],\n",
       "       [ 1.77620598e+00, -9.19871132e-02],\n",
       "       [-1.20970208e+00,  5.28684264e-01],\n",
       "       [ 1.10085824e+00,  2.30586314e-01],\n",
       "       [ 9.46128620e-01,  7.53006612e-02],\n",
       "       [-3.69927550e-01,  1.15506909e+00],\n",
       "       [ 1.77778477e+00, -2.26541381e-01],\n",
       "       [ 4.43872197e-01, -2.13109040e-01],\n",
       "       [ 8.15775647e-01,  2.63973412e-01],\n",
       "       [-6.55790605e-01,  8.16217473e-01],\n",
       "       [ 1.89213569e+00, -4.06258376e-01],\n",
       "       [ 5.09292229e-01, -3.92748912e-01],\n",
       "       [ 1.36203768e+00, -2.76574439e-01],\n",
       "       [ 1.98595458e+00, -2.98005823e-02],\n",
       "       [-1.07151122e-01,  8.61727994e-01],\n",
       "       [-2.09317359e-01,  9.18470740e-01],\n",
       "       [-9.77546479e-02,  1.95835643e-01],\n",
       "       [-2.30979294e-01,  9.71144204e-01],\n",
       "       [ 2.00409302e+00,  6.25235832e-02],\n",
       "       [-2.81766241e-01,  9.70162271e-01],\n",
       "       [ 1.24770264e-01,  1.17956260e+00],\n",
       "       [-8.11989481e-01,  2.48965585e-01],\n",
       "       [ 6.75591269e-01,  7.05084646e-01],\n",
       "       [-3.17850911e-01,  7.87603465e-01],\n",
       "       [ 1.68318922e+00, -4.91609458e-01],\n",
       "       [ 1.88145116e+00, -4.91300412e-02],\n",
       "       [ 5.22100627e-01, -4.43952217e-01],\n",
       "       [ 3.90638210e-01,  1.06764777e+00],\n",
       "       [ 1.08991865e+00, -4.59889201e-01],\n",
       "       [ 2.21049681e+00, -5.77633029e-02],\n",
       "       [ 8.77920665e-01, -1.03953349e-01],\n",
       "       [-1.07285725e-01,  9.89686144e-01],\n",
       "       [ 8.24944641e-01, -5.98030130e-01],\n",
       "       [ 3.03959345e-01, -3.67194339e-01],\n",
       "       [ 1.08031533e+00, -3.62282721e-01],\n",
       "       [ 1.62827727e-01,  5.02989096e-01],\n",
       "       [-1.13109612e+00, -4.94388049e-04],\n",
       "       [ 4.82300033e-01,  1.65983168e-01],\n",
       "       [-9.94443617e-01,  6.08968183e-01],\n",
       "       [-7.59685266e-01,  6.12433876e-01],\n",
       "       [ 4.23306696e-01, -3.14606380e-01],\n",
       "       [ 1.71293336e+00,  6.41192687e-01],\n",
       "       [ 8.09423897e-01,  6.12012751e-01],\n",
       "       [ 1.88547919e+00,  1.22205852e-01],\n",
       "       [-6.99269153e-01,  6.82247525e-01],\n",
       "       [-3.92152306e-02,  2.48731070e-01],\n",
       "       [ 7.78638973e-01,  3.48019532e-01],\n",
       "       [-1.35084372e+00,  3.23006863e-01],\n",
       "       [ 1.86380825e+00, -1.05644254e-01],\n",
       "       [ 3.76119812e-02,  4.77612691e-01]])"
      ]
     },
     "execution_count": 13,
     "metadata": {},
     "output_type": "execute_result"
    }
   ],
   "source": [
    "X, y = make_moons(n_samples=200, noise=0.15, random_state=42)\n",
    "X"
   ]
  },
  {
   "cell_type": "code",
   "execution_count": 17,
   "metadata": {},
   "outputs": [
    {
     "data": {
      "image/png": "[encoded data removed]",
      "text/plain": [
       "<Figure size 432x288 with 1 Axes>"
      ]
     },
     "metadata": {
      "needs_background": "light"
     },
     "output_type": "display_data"
    }
   ],
   "source": [
    "def plot_moons():\n",
    "    plt.plot(X[:, 0][y==0], X[:, 1][y==0], \"bs\")\n",
    "    plt.plot(X[:, 0][y==1], X[:, 1][y==1], \"g^\")\n",
    "    \n",
    "    plt.grid(True, which='both')\n",
    "    plt.xlabel(r\"$x_1$\", fontsize=20)\n",
    "    plt.ylabel(r\"$x_2$\", fontsize=20, rotation=0)\n",
    "    \n",
    "    plt.show()\n",
    "    \n",
    "plot_moons()"
   ]
  },
  {
   "cell_type": "code",
   "execution_count": 18,
   "metadata": {},
   "outputs": [
    {
     "name": "stderr",
     "output_type": "stream",
     "text": [
      "C:\\Users\\VGeorgiev\\Anaconda3\\lib\\site-packages\\sklearn\\svm\\base.py:929: ConvergenceWarning: Liblinear failed to converge, increase the number of iterations.\n",
      "  \"the number of iterations.\", ConvergenceWarning)\n"
     ]
    },
    {
     "data": {
      "text/plain": [
       "Pipeline(memory=None,\n",
       "         steps=[('poly_features',\n",
       "                 PolynomialFeatures(degree=3, include_bias=True,\n",
       "                                    interaction_only=False, order='C')),\n",
       "                ('scaler',\n",
       "                 StandardScaler(copy=True, with_mean=True, with_std=True)),\n",
       "                ('svm_clf',\n",
       "                 LinearSVC(C=10, class_weight=None, dual=True,\n",
       "                           fit_intercept=True, intercept_scaling=1,\n",
       "                           loss='hinge', max_iter=1000, multi_class='ovr',\n",
       "                           penalty='l2', random_state=None, tol=0.0001,\n",
       "                           verbose=0))],\n",
       "         verbose=False)"
      ]
     },
     "execution_count": 18,
     "metadata": {},
     "output_type": "execute_result"
    }
   ],
   "source": [
    "poly_svm_clf = Pipeline([\n",
    " (\"poly_features\", PolynomialFeatures(degree=3)),\n",
    " (\"scaler\", StandardScaler()),\n",
    " (\"svm_clf\", LinearSVC(C=10, loss=\"hinge\"))\n",
    " ])\n",
    "poly_svm_clf.fit(X, y)"
   ]
  },
  {
   "cell_type": "code",
   "execution_count": 48,
   "metadata": {},
   "outputs": [
    {
     "ename": "NameError",
     "evalue": "name 'x0s' is not defined",
     "output_type": "error",
     "traceback": [
      "\u001b[1;31m---------------------------------------------------------------------------\u001b[0m",
      "\u001b[1;31mNameError\u001b[0m                                 Traceback (most recent call last)",
      "\u001b[1;32m<ipython-input-48-3fc58cc22db2>\u001b[0m in \u001b[0;36m<module>\u001b[1;34m\u001b[0m\n\u001b[0;32m      1\u001b[0m \u001b[0mpoly_svm_clf\u001b[0m\u001b[1;33m.\u001b[0m\u001b[0mpredict\u001b[0m\u001b[1;33m(\u001b[0m\u001b[1;33m[\u001b[0m\u001b[1;33m[\u001b[0m\u001b[1;36m0\u001b[0m\u001b[1;33m,\u001b[0m \u001b[1;36m0\u001b[0m\u001b[1;33m]\u001b[0m\u001b[1;33m]\u001b[0m\u001b[1;33m)\u001b[0m\u001b[1;33m[\u001b[0m\u001b[1;36m0\u001b[0m\u001b[1;33m]\u001b[0m\u001b[1;33m\u001b[0m\u001b[1;33m\u001b[0m\u001b[0m\n\u001b[1;32m----> 2\u001b[1;33m \u001b[0mx0s\u001b[0m\u001b[1;33m\u001b[0m\u001b[1;33m\u001b[0m\u001b[0m\n\u001b[0m",
      "\u001b[1;31mNameError\u001b[0m: name 'x0s' is not defined"
     ]
    }
   ],
   "source": [
    "poly_svm_clf.predict([[0, 0]])[0]\n",
    "x0s"
   ]
  },
  {
   "cell_type": "code",
   "execution_count": 64,
   "metadata": {},
   "outputs": [
    {
     "data": {
      "image/png": "[encoded data removed]",
      "text/plain": [
       "<Figure size 432x288 with 1 Axes>"
      ]
     },
     "metadata": {
      "needs_background": "light"
     },
     "output_type": "display_data"
    }
   ],
   "source": [
    "def plot_decision_function(poly_svm_clf):\n",
    "    axes =  [-1.5, 2.5, -1, 1.5]\n",
    "    x0s = np.linspace(axes[0], axes[1], 100)\n",
    "    x1s = np.linspace(axes[2], axes[3], 100)\n",
    "    x0, x1 = np.meshgrid(x0s, x1s)\n",
    "    Xs = np.c_[x0.ravel(), x1.ravel()]\n",
    "    \n",
    "    y_pred = poly_svm_clf.predict(Xs).reshape(x0.shape)\n",
    "    y_decision = poly_svm_clf.decision_function(Xs).reshape(x0.shape)\n",
    "    \n",
    "    plt.contourf(x0, x1, y_pred, cmap=plt.cm.afmhot, alpha=0.2)\n",
    "    plt.contourf(x0, x1, y_decision, cmap=plt.cm.binary, alpha=0.1)\n",
    "        \n",
    "plot_decision_function(poly_svm_clf)\n",
    "plot_moons()"
   ]
  },
  {
   "cell_type": "code",
   "execution_count": null,
   "metadata": {},
   "outputs": [],
   "source": []
  }
 ],
 "metadata": {
  "kernelspec": {
   "display_name": "Python 3",
   "language": "python",
   "name": "python3"
  },
  "language_info": {
   "codemirror_mode": {
    "name": "ipython",
    "version": 3
   },
   "file_extension": ".py",
   "mimetype": "text/x-python",
   "name": "python",
   "nbconvert_exporter": "python",
   "pygments_lexer": "ipython3",
   "version": "3.7.4"
  }
 },
 "nbformat": 4,
 "nbformat_minor": 2
}
